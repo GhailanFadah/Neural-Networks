{
 "cells": [
  {
   "cell_type": "code",
   "execution_count": null,
   "metadata": {},
   "outputs": [],
   "source": [
    "#here we want to prepare data for our birdsong separation task \n",
    "#the idea is that we will train a new network for each primary bird type.  A network that can interpret all of these fails to train due to too much complexity among data.\n",
    "\n"
   ]
  }
 ],
 "metadata": {
  "language_info": {
   "name": "python"
  }
 },
 "nbformat": 4,
 "nbformat_minor": 2
}
