{
 "cells": [
  {
   "cell_type": "markdown",
   "metadata": {},
   "source": [
    "**Ghailan & Gordan**\n",
    "\n",
    "Spring 2024\n",
    "\n",
    "CS 443: Bio-inspired Machine Learning\n",
    "\n",
    "#### Week 1: Contrastive Hebbian Learning\n",
    "\n",
    "# Project 1: Hebbian Learning\n",
    "\n",
    "In this project, we will implement and explore how the biological Hebbian learning rule can be used for machine learning tasks as a viable alternative to the backpropogation algorithm from artificial neural networks. The focus will be on achieving close to state-of-the-art accuracy on the MNIST dataset with bio-inspired neural networks that use one of the following bio-inspired learning paradigms:\n",
    "1. Contrastive learning\n",
    "2. Competitive learning\n",
    "\n",
    "### Reminder: AI Policy\n",
    "\n",
    "To improve the quality of your learning and out of fairness to your hardworking classmates, AI (e.g. ChatGPT, Copilot, etc.) should NOT be used in ANY way on this project and extensions. This includes both written analysis, plotting, and code. I will only grade your work, not an AI's. I will stop grading your project if I notice AI-generated content (in any capacity)."
   ]
  },
  {
   "cell_type": "code",
   "execution_count": 1,
   "metadata": {},
   "outputs": [
    {
     "name": "stderr",
     "output_type": "stream",
     "text": [
      "2024-02-28 11:55:57.220080: I tensorflow/core/platform/cpu_feature_guard.cc:182] This TensorFlow binary is optimized to use available CPU instructions in performance-critical operations.\n",
      "To enable the following instructions: AVX2 FMA, in other operations, rebuild TensorFlow with the appropriate compiler flags.\n"
     ]
    }
   ],
   "source": [
    "import matplotlib.pyplot as plt\n",
    "import tensorflow as tf\n",
    "\n",
    "plt.style.use(['seaborn-v0_8-colorblind', 'seaborn-v0_8-darkgrid'])\n",
    "plt.show()\n",
    "plt.rcParams.update({'font.size': 18})\n",
    "\n",
    "%load_ext autoreload\n",
    "%autoreload 2"
   ]
  },
  {
   "cell_type": "markdown",
   "metadata": {},
   "source": [
    "## Task 1: Contrastive Hebbian Learning\n",
    "\n",
    "The goal this week is implement and explore a bio-inspired neural network that learns using the Contrastive Hebbian Learning strategy. This will demonstrate how a neural network **that does not use backpropogation** (e.g. no gradients, loss, etc.) can achieve high classification accuracy on the MNIST dataset!\n",
    "\n",
    "Because you will train your Contrastive Hebbian Network on the GPU, **you should write your network code in 100% TensorFlow** (no NumPy)."
   ]
  },
  {
   "cell_type": "markdown",
   "metadata": {},
   "source": [
    "### 1a. Copy over files from Project 0\n",
    "\n",
    "Since we will be working with MNIST on this project, copy over `mnist.py` and `viz.py` from Project 0. In the cell below, load in MNIST training, test, and validation splits (reserve `2000` samples for validation).\n",
    "\n",
    "*Keep your Project 0 open/accessible since there are methods that you can just copy-paste here.*"
   ]
  },
  {
   "cell_type": "code",
   "execution_count": 2,
   "metadata": {},
   "outputs": [],
   "source": [
    "from mnist import get_mnist"
   ]
  },
  {
   "cell_type": "code",
   "execution_count": 3,
   "metadata": {},
   "outputs": [],
   "source": [
    "x_train, y_train, x_test, y_test, x_val, y_val = get_mnist(2000)"
   ]
  },
  {
   "cell_type": "markdown",
   "metadata": {},
   "source": [
    "### 1b. Implement `Layer` class in `contrastive_hebb_net.py`\n",
    "\n",
    "The `Layer` class represents a single neural layer network. Each layer in a Contrastive Hebbian Network is much like one in a MLP, except:\n",
    "- we allow **feedback signals** from the layer above.\n",
    "- each `Layer` stores/\"remembers\" its activation state (`net_act`) from the latest mini-batch. *Much like real biological neural networks, the Contrastive Hebbian Network is a dynamically evolving system wherein its state (activation) changes over time.*\n",
    "\n",
    "Use the following code to help test your `Layer` implementation.\n",
    "\n",
    "**Reminder:** You should write your code using only the TensorFlow low-level API (no NumPy).\n",
    "\n",
    "#### Computing net input\n",
    "\n",
    "The net input for the current layer `l` ($\\text{netIn}_l$) is computed just like a `Dense` MLP layer, except there is a feedback signal from the layer above (*that depends on the weights belonging to the layer above*). Here is the equation in matrix form:\n",
    "\n",
    "$$\\text{netIn}_l = \\left ( X_l W_l + b_l \\right ) + \\gamma X_{l+1} W_{l+1}^T$$ \n",
    "\n",
    "In the equation above $X_l$ is the input from the layer below (i.e. `net_act` from layer below), $W_l$ are the weights belonging to the current layer (i.e. going from the layer below `l-1` to the current layer `l`). Everything in the parentheses is the same as MLP. $\\gamma$ is the feedback strength hyperparameter, $X_{l+1}$ is the activation from the layer above, and $W_{l+1}^T$ is the **transpose** of the weights belonging to the layer above (i.e. going from the layer below `l` to the current layer `l+1`) \n",
    "\n",
    "The `net_act` is the standard sigmoid applied to the `net_in`."
   ]
  },
  {
   "cell_type": "code",
   "execution_count": 4,
   "metadata": {},
   "outputs": [],
   "source": [
    "from contrastive_hebb_net import Layer, ContrastiveNet"
   ]
  },
  {
   "cell_type": "markdown",
   "metadata": {},
   "source": [
    "#### Test: `Layer` constructor, set/get methods, and `reset_state`"
   ]
  },
  {
   "cell_type": "code",
   "execution_count": 6,
   "metadata": {},
   "outputs": [
    {
     "name": "stdout",
     "output_type": "stream",
     "text": [
      "For the test layer, your wts are\n",
      "<tf.Variable 'Variable:0' shape=(3, 5) dtype=float32, numpy=\n",
      "array([[-0.08320995, -0.11737342,  0.0141563 ,  0.02450299, -0.0333302 ],\n",
      "       [ 0.12313117, -0.00270995,  0.1992517 ,  0.07869406, -0.14985056],\n",
      "       [ 0.08392669,  0.06496625,  0.02890262, -0.05409861, -0.03179269]],\n",
      "      dtype=float32)> and should be\n",
      "[[-0.083 -0.117  0.014  0.025 -0.033]\n",
      " [ 0.123 -0.003  0.199  0.079 -0.15 ]\n",
      " [ 0.084  0.065  0.029 -0.054 -0.032]]\n",
      "There are 5 neurons and there should be 5.\n"
     ]
    }
   ],
   "source": [
    "# Single layer test\n",
    "tf.random.set_seed(0)\n",
    "test_layer = Layer(5, 3, wt_scale=0.2)\n",
    "print(f'For the test layer, your wts are\\n{test_layer.get_wts()} and should be')\n",
    "print('''[[-0.083 -0.117  0.014  0.025 -0.033]\n",
    " [ 0.123 -0.003  0.199  0.079 -0.15 ]\n",
    " [ 0.084  0.065  0.029 -0.054 -0.032]]''')\n",
    "print(f'There are {test_layer.get_num_neurons()} neurons and there should be 5.')\n"
   ]
  },
  {
   "cell_type": "code",
   "execution_count": 7,
   "metadata": {},
   "outputs": [
    {
     "name": "stdout",
     "output_type": "stream",
     "text": [
      "For the test layer, your wts are\n",
      "<tf.Variable 'Variable:0' shape=(3, 5) dtype=float32, numpy=\n",
      "array([[-0.08320995, -0.11737342,  0.0141563 ,  0.02450299, -0.0333302 ],\n",
      "       [ 0.12313117, -0.00270995,  0.1992517 ,  0.07869406, -0.14985056],\n",
      "       [ 0.08392669,  0.06496625,  0.02890262, -0.05409861, -0.03179269]],\n",
      "      dtype=float32)> and should be\n",
      "[[-0.083 -0.117  0.014  0.025 -0.033]\n",
      " [ 0.123 -0.003  0.199  0.079 -0.15 ]\n",
      " [ 0.084  0.065  0.029 -0.054 -0.032]]\n",
      "There are 5 neurons and there should be 5.\n",
      "For the layer above, your wts are\n",
      "<tf.Variable 'Variable:0' shape=(2, 3) dtype=float32, numpy=\n",
      "array([[-0.06697384,  0.08029626,  0.02619483],\n",
      "       [-0.01309077, -0.0416122 ,  0.02850042]], dtype=float32)> and should be\n",
      "[[-0.067  0.08   0.026]\n",
      " [-0.013 -0.042  0.029]]\n",
      "There are 3 neurons and there should be 3.\n"
     ]
    }
   ],
   "source": [
    "# Test multiple layers\n",
    "tf.random.set_seed(1)\n",
    "test_layer_2 = Layer(3, 2, wt_scale=0.1)\n",
    "test_layer.set_layer_above(test_layer_2)\n",
    "print(f'For the test layer, your wts are\\n{test_layer.get_wts()} and should be')\n",
    "print('''[[-0.083 -0.117  0.014  0.025 -0.033]\n",
    " [ 0.123 -0.003  0.199  0.079 -0.15 ]\n",
    " [ 0.084  0.065  0.029 -0.054 -0.032]]''')\n",
    "print(f'There are {test_layer.get_num_neurons()} neurons and there should be 5.')\n",
    "print(f'For the layer above, your wts are\\n{test_layer.get_layer_above().get_wts()} and should be')\n",
    "print('''[[-0.067  0.08   0.026]\n",
    " [-0.013 -0.042  0.029]]''')\n",
    "print(f'There are {test_layer.get_layer_above().get_num_neurons()} neurons and there should be 3.')"
   ]
  },
  {
   "cell_type": "code",
   "execution_count": 8,
   "metadata": {},
   "outputs": [
    {
     "name": "stdout",
     "output_type": "stream",
     "text": [
      "For the test layer, your activation is\n",
      "[[1. 1. 1. 1. 1.]] and should be\n",
      "[[1. 1. 1. 1. 1.]]\n",
      "For the layer above, your activation is\n",
      "[[2. 2. 2.]] and should be\n",
      "[[2. 2. 2.]]\n",
      "After resetting your test layer activations:\n",
      "For the test layer, your activation is\n",
      "[[0. 0. 0. 0. 0.]] and should be\n",
      "[[0. 0. 0. 0. 0.]]\n",
      "For the layer above (not reset), your activation is\n",
      "[[2. 2. 2.]] and should be\n",
      "[[2. 2. 2.]]\n"
     ]
    }
   ],
   "source": [
    "# Test activations\n",
    "test_act = tf.ones(shape=(1, 5))\n",
    "test_act_2 = 2*tf.ones(shape=(1, 3))\n",
    "test_layer.set_curr_net_act(test_act)\n",
    "test_layer_2.set_curr_net_act(test_act_2)\n",
    "print(f'For the test layer, your activation is\\n{test_layer.get_curr_net_act()} and should be')\n",
    "print('[[1. 1. 1. 1. 1.]]')\n",
    "print(f'For the layer above, your activation is\\n{test_layer.get_layer_above().get_curr_net_act()} and should be')\n",
    "print('[[2. 2. 2.]]')\n",
    "\n",
    "# Test state reset\n",
    "test_layer.reset_state(1)\n",
    "print('After resetting your test layer activations:')\n",
    "print(f'For the test layer, your activation is\\n{test_layer.get_curr_net_act()} and should be')\n",
    "print('[[0. 0. 0. 0. 0.]]')\n",
    "print(f'For the layer above (not reset), your activation is\\n{test_layer.get_layer_above().get_curr_net_act()} and should be')\n",
    "print('[[2. 2. 2.]]')"
   ]
  },
  {
   "cell_type": "markdown",
   "metadata": {},
   "source": [
    "#### Test: `net_in` and `net_act`"
   ]
  },
  {
   "cell_type": "code",
   "execution_count": 9,
   "metadata": {},
   "outputs": [
    {
     "name": "stdout",
     "output_type": "stream",
     "text": [
      "Your net in is:\n",
      "[[ 0.3131502   0.01573972  0.40302694  0.08141026 -0.15538925]\n",
      " [ 0.68469393 -0.14961168  1.1299587   0.2287056  -0.8003096 ]] and should be:\n",
      "[[ 0.313  0.016  0.403  0.081 -0.155]\n",
      " [ 0.685 -0.15   1.13   0.229 -0.8  ]]\n",
      "Your net act is:\n",
      "[[0.577654   0.50393486 0.5994147  0.52034134 0.46123064]\n",
      " [0.6647855  0.4626667  0.7558313  0.55692846 0.3099593 ]] and should be:\n",
      "[[0.578 0.504 0.599 0.52  0.461]\n",
      " [0.665 0.463 0.756 0.557 0.31 ]]\n"
     ]
    }
   ],
   "source": [
    "# Single layer test\n",
    "tf.random.set_seed(0)\n",
    "test_layer = Layer(5, 3, wt_scale=0.2)\n",
    "tf.random.set_seed(0)\n",
    "test_in = tf.cast(tf.reshape(tf.range(2*3), shape=(2, -1)), dtype=tf.float32)\n",
    "print(f'Your net in is:\\n{test_layer.net_in(test_in, 0.25)} and should be:')\n",
    "print('''[[ 0.313  0.016  0.403  0.081 -0.155]\n",
    " [ 0.685 -0.15   1.13   0.229 -0.8  ]]''')\n",
    "print(f'Your net act is:\\n{test_layer.net_act(test_layer.net_in(test_in, 0.25))} and should be:')\n",
    "print('''[[0.578 0.504 0.599 0.52  0.461]\n",
    " [0.665 0.463 0.756 0.557 0.31 ]]''')"
   ]
  },
  {
   "cell_type": "code",
   "execution_count": 10,
   "metadata": {},
   "outputs": [
    {
     "name": "stdout",
     "output_type": "stream",
     "text": [
      "Your layer 1 net in is:\n",
      "[[ 0.42578107  0.04337959  0.3405135   0.08091673 -0.7358836 ]\n",
      " [ 0.66636693  0.31866446  1.2937039   0.24498834 -2.5397801 ]] and should be:\n",
      "[[ 0.426  0.043  0.341  0.081 -0.736]\n",
      " [ 0.666  0.319  1.294  0.245 -2.54 ]]\n",
      "Your layer 1 net act is:\n",
      "[[0.60486573 0.51084316 0.58431524 0.52021813 0.32390493]\n",
      " [0.6606892  0.57899874 0.7847734  0.5609426  0.07311607]] and should be:\n",
      "[[0.605 0.511 0.584 0.52  0.324]\n",
      " [0.661 0.579 0.785 0.561 0.073]]\n",
      "Your layer 2 net in is:\n",
      "[[-0.10402401 -0.03215811  0.18755265  0.21945089  0.12879568  0.00576646\n",
      "  -0.4124667 ]\n",
      " [-0.06424935 -0.04448467  0.24846819  0.26129603  0.17956346  0.0255037\n",
      "  -0.4077987 ]] and should be:\n",
      "[[-0.104 -0.032  0.188  0.219  0.129  0.006 -0.412]\n",
      " [-0.064 -0.044  0.248  0.261  0.18   0.026 -0.408]]\n",
      "Your layer 2 net act is:\n",
      "[[0.64676875 0.6250041  0.64205974 0.62719876 0.5802756 ]\n",
      " [0.6594152  0.640837   0.68670803 0.63667065 0.51827085]] and should be:\n",
      "[[0.647 0.625 0.642 0.627 0.58 ]\n",
      " [0.659 0.641 0.687 0.637 0.518]]\n"
     ]
    }
   ],
   "source": [
    "# Two layer test with feedback\n",
    "tf.random.set_seed(0)\n",
    "test_layer_duo = Layer(7, 5, wt_scale=0.2)\n",
    "test_layer.set_layer_above(test_layer_duo)\n",
    "# Set activation of above layer\n",
    "test_act_duo = tf.cast(tf.reshape(tf.range(2*7), shape=(2, -1)), dtype=tf.float32)\n",
    "test_layer_duo.set_curr_net_act(test_act_duo)\n",
    "\n",
    "print(f'Your layer 1 net in is:\\n{test_layer.net_in(test_in, 0.25)} and should be:')\n",
    "print('''[[ 0.426  0.043  0.341  0.081 -0.736]\n",
    " [ 0.666  0.319  1.294  0.245 -2.54 ]]''')\n",
    "print(f'Your layer 1 net act is:\\n{test_layer.net_act(test_layer.net_in(test_in, 0.25))} and should be:')\n",
    "print('''[[0.605 0.511 0.584 0.52  0.324]\n",
    " [0.661 0.579 0.785 0.561 0.073]]''')\n",
    "\n",
    "duo_in = test_layer.get_curr_net_act()\n",
    "print(f'Your layer 2 net in is:\\n{test_layer_duo.net_in(duo_in, 0.25)} and should be:')\n",
    "print('''[[-0.104 -0.032  0.188  0.219  0.129  0.006 -0.412]\n",
    " [-0.064 -0.044  0.248  0.261  0.18   0.026 -0.408]]''')\n",
    "print(f'Your layer 2 net act is:\\n{test_layer_duo.net_act(duo_in)} and should be:')\n",
    "print('''[[0.647 0.625 0.642 0.627 0.58 ]\n",
    " [0.659 0.641 0.687 0.637 0.518]]''')"
   ]
  },
  {
   "cell_type": "markdown",
   "metadata": {},
   "source": [
    "### 1c. Start implementing `ContrastiveNet` class in `contrastive_hebb_net.py`\n",
    "\n",
    "The `ContrastiveNet` class represents a MLP-like network composed of 1+ hidden layer and one output layer (with `C` neurons). Each of these are `Layer` objects. **Note:** We do not store a `Layer` for the input layer.\n",
    "\n",
    "Implement and test the following methods:\n",
    "- constructor\n",
    "- `get_layers`\n",
    "- `get_net_acts_all_layers`\n",
    "- `set_gamma`\n",
    "- `set_n_iter`\n",
    "\n",
    "Also copy over from Project 0:\n",
    "- `one_hot`\n",
    "- `accuracy`"
   ]
  },
  {
   "cell_type": "markdown",
   "metadata": {},
   "source": [
    "#### Test: Network layers"
   ]
  },
  {
   "cell_type": "code",
   "execution_count": 11,
   "metadata": {},
   "outputs": [
    {
     "name": "stdout",
     "output_type": "stream",
     "text": [
      "[<contrastive_hebb_net.Layer object at 0x178911fd0>, <contrastive_hebb_net.Layer object at 0x178913a10>, <contrastive_hebb_net.Layer object at 0x17892ead0>]\n",
      "There are 3 layers and there should be 3.\n",
      "  Layer 0 has 5 neurons\n",
      "  Layer 1 has 4 neurons\n",
      "  Layer 2 has 3 neurons\n",
      "You should see that the two layers above have 5, 4, and 3 neurons in them.\n",
      "The layer above Layer 0 has 4 neurons and should have 4.\n",
      "The layer above Layer 1 has 3 neurons and should have 3.\n",
      "The layer above Layer 2 has None neurons and should have None.\n"
     ]
    }
   ],
   "source": [
    "# Test 3 layer network\n",
    "test_cn = ContrastiveNet(num_neurons_each_layer=(10, 5, 4, 3))\n",
    "print(test_cn.layers)\n",
    "test_layers = test_cn.get_layers()\n",
    "print(f'There are {len(test_layers)} layers and there should be 3.')\n",
    "for i in range(len(test_layers)):\n",
    "    print(f'  Layer {i} has {test_layers[i].get_num_neurons()} neurons')\n",
    "print('You should see that the two layers above have 5, 4, and 3 neurons in them.')\n",
    "print(f'The layer above Layer 0 has {test_layers[0].get_layer_above().get_num_neurons()} neurons and should have 4.')\n",
    "print(f'The layer above Layer 1 has {test_layers[1].get_layer_above().get_num_neurons()} neurons and should have 3.')\n",
    "print(f'The layer above Layer 2 has {test_layers[2].get_layer_above()} neurons and should have None.')"
   ]
  },
  {
   "cell_type": "code",
   "execution_count": 12,
   "metadata": {},
   "outputs": [
    {
     "name": "stdout",
     "output_type": "stream",
     "text": [
      "Layer 0 activations: [[0. 1. 2. 3. 4. 5. 6. 7. 8. 9.]]\n",
      "Layer 1 activations: [[0. 0. 0. 0. 0.]]\n",
      "Layer 2 activations: [[1. 1. 1. 1.]]\n",
      "Layer 3 activations: [[2. 2. 2.]]\n",
      "You should see:\n",
      "Layer 0 activations: [[0. 1. 2. 3. 4. 5. 6. 7. 8. 9.]]\n",
      "Layer 1 activations: [[0. 0. 0. 0. 0.]]\n",
      "Layer 2 activations: [[1. 1. 1. 1.]]\n",
      "Layer 3 activations: [[2. 2. 2.]]\n",
      "...and without the input layer activations:\n",
      "Layer 0 activations: [[0. 0. 0. 0. 0.]]\n",
      "Layer 1 activations: [[1. 1. 1. 1.]]\n",
      "Layer 2 activations: [[2. 2. 2.]]\n",
      "You should see:\n",
      "Layer 0 activations: [[0. 0. 0. 0. 0.]]\n",
      "Layer 1 activations: [[1. 1. 1. 1.]]\n",
      "Layer 2 activations: [[2. 2. 2.]]\n"
     ]
    }
   ],
   "source": [
    "# Test out get_net_acts_all_layers\n",
    "for i in range(len(test_layers)):\n",
    "    test_layers[i].set_curr_net_act(i*tf.ones(shape=(1, test_layers[i].get_num_neurons()),dtype=tf.float32))\n",
    "test_in = tf.cast(tf.reshape(tf.range(1*10), shape=(1, -1)), dtype=tf.float32)\n",
    "test_all_acts = test_cn.get_net_acts_all_layers(x=test_in)\n",
    "for i in range(len(test_all_acts)):\n",
    "    print(f'Layer {i} activations: {test_all_acts[i]}')\n",
    "print('You should see:')\n",
    "print('''Layer 0 activations: [[0. 1. 2. 3. 4. 5. 6. 7. 8. 9.]]\n",
    "Layer 1 activations: [[0. 0. 0. 0. 0.]]\n",
    "Layer 2 activations: [[1. 1. 1. 1.]]\n",
    "Layer 3 activations: [[2. 2. 2.]]''')\n",
    "print('...and without the input layer activations:')\n",
    "test_all_acts = test_cn.get_net_acts_all_layers()\n",
    "for i in range(len(test_all_acts)):\n",
    "    print(f'Layer {i} activations: {test_all_acts[i]}')\n",
    "print('You should see:')\n",
    "print('''Layer 0 activations: [[0. 0. 0. 0. 0.]]\n",
    "Layer 1 activations: [[1. 1. 1. 1.]]\n",
    "Layer 2 activations: [[2. 2. 2.]]''')"
   ]
  },
  {
   "cell_type": "markdown",
   "metadata": {},
   "source": [
    "### 1d. Implement the Free Phase and Clamped Phase of the contrastive network\n",
    "\n",
    "The **Free Phase** of the network is analogous to the forward pass in artificial neural networks — while we keep the hold mini-batch of data at the input layer, we compute neural activations in each layer in order going from input to output layer for `n_iter` iterations (*remember there is feedback between successive layers `i` and `i+1` so the activations unlike MLP, they will not instantaneously \"converge\" to their final values after a single \"pass\"*).\n",
    "\n",
    "The **Clamped Phase** is exactly the same except (*you can copy-paste!*):\n",
    "- We fix (*clamp*) the output layer to the one-hot coded true classes when processing the current mini-batch.\n",
    "- We do NOT modify/touch these fixed output layer activations when doing the \"forward pass\"!"
   ]
  },
  {
   "cell_type": "markdown",
   "metadata": {},
   "source": [
    "#### Test: Free phase"
   ]
  },
  {
   "cell_type": "code",
   "execution_count": 13,
   "metadata": {},
   "outputs": [
    {
     "name": "stdout",
     "output_type": "stream",
     "text": [
      "Layer 0 activations:\n",
      "[[0.7605648  0.52187663 0.7988676  0.58490044 0.36113623]]\n",
      "Layer 1 activations:\n",
      "[[0.5335976  0.34082076 0.54033244]]\n",
      "---\n",
      "You should see:\n",
      "Layer 0 activations:\n",
      "[[0.761 0.522 0.799 0.585 0.361]]\n",
      "Layer 1 activations:\n",
      "[[0.534 0.341 0.54 ]]\n"
     ]
    }
   ],
   "source": [
    "tf.random.set_seed(0)\n",
    "test_cn = ContrastiveNet(num_neurons_each_layer=(6, 5, 3))\n",
    "tf.random.set_seed(1)\n",
    "test_in = tf.random.normal(shape=(1, 6))\n",
    "test_cn.free_step(test_in)\n",
    "test_acts = test_cn.get_net_acts_all_layers()\n",
    "for i in range(len(test_acts)):\n",
    "    print(f'Layer {i} activations:\\n{test_acts[i]}')\n",
    "print('---')\n",
    "print('You should see:')\n",
    "print('''Layer 0 activations:\n",
    "[[0.761 0.522 0.799 0.585 0.361]]\n",
    "Layer 1 activations:\n",
    "[[0.534 0.341 0.54 ]]''')"
   ]
  },
  {
   "cell_type": "markdown",
   "metadata": {},
   "source": [
    "#### Test: Clamped phase"
   ]
  },
  {
   "cell_type": "code",
   "execution_count": 14,
   "metadata": {},
   "outputs": [
    {
     "name": "stdout",
     "output_type": "stream",
     "text": [
      "Layer 0 activations:\n",
      "[[0.76180327 0.52160084 0.79813653 0.5824246  0.3587742 ]\n",
      " [0.46258628 0.33452544 0.58752304 0.5708037  0.57915807]\n",
      " [0.475202   0.40786755 0.6942389  0.7450016  0.514232  ]\n",
      " [0.46428087 0.20123616 0.860989   0.84959835 0.4710347 ]]\n",
      "Layer 1 activations:\n",
      "[[0. 2. 0.]\n",
      " [1. 0. 1.]\n",
      " [3. 1. 2.]\n",
      " [0. 3. 3.]]\n",
      "---\n",
      "You should see:\n",
      "Layer 0 activations:\n",
      "[[0.762 0.522 0.798 0.582 0.359]\n",
      " [0.463 0.335 0.588 0.571 0.579]\n",
      " [0.475 0.408 0.694 0.745 0.514]\n",
      " [0.464 0.201 0.861 0.85  0.471]]\n",
      "Layer 1 activations:\n",
      "[[0. 2. 0.]\n",
      " [1. 0. 1.]\n",
      " [3. 1. 2.]\n",
      " [0. 3. 3.]]\n"
     ]
    }
   ],
   "source": [
    "tf.random.set_seed(0)\n",
    "test_cn = ContrastiveNet(num_neurons_each_layer=(6, 5, 3), n_iter=100)\n",
    "tf.random.set_seed(1)\n",
    "test_in = tf.random.normal(shape=(4, 6))\n",
    "test_labels = tf.cast(tf.random.uniform(maxval=4, shape=(4, 3), dtype=tf.int32), dtype=tf.float32)\n",
    "test_cn.clamped_step(test_in, test_labels)\n",
    "test_acts = test_cn.get_net_acts_all_layers()\n",
    "for i in range(len(test_acts)):\n",
    "    print(f'Layer {i} activations:\\n{test_acts[i]}')\n",
    "print('---')\n",
    "print('You should see:')\n",
    "print('''Layer 0 activations:\n",
    "[[0.762 0.522 0.798 0.582 0.359]\n",
    " [0.463 0.335 0.588 0.571 0.579]\n",
    " [0.475 0.408 0.694 0.745 0.514]\n",
    " [0.464 0.201 0.861 0.85  0.471]]\n",
    "Layer 1 activations:\n",
    "[[0. 2. 0.]\n",
    " [1. 0. 1.]\n",
    " [3. 1. 2.]\n",
    " [0. 3. 3.]]''')"
   ]
  },
  {
   "cell_type": "code",
   "execution_count": 15,
   "metadata": {},
   "outputs": [
    {
     "name": "stdout",
     "output_type": "stream",
     "text": [
      "Layer 0 activations:\n",
      "[[0.76180327 0.52160084 0.79813653 0.5824246  0.3587742 ]\n",
      " [0.46258628 0.33452544 0.58752304 0.5708037  0.57915807]\n",
      " [0.475202   0.40786755 0.6942389  0.7450016  0.514232  ]\n",
      " [0.46428087 0.20123616 0.860989   0.84959835 0.4710347 ]]\n",
      "Layer 1 activations:\n",
      "[[0. 2. 0.]\n",
      " [1. 0. 1.]\n",
      " [3. 1. 2.]\n",
      " [0. 3. 3.]]\n",
      "---\n",
      "You should see:\n",
      "Layer 0 activations:\n",
      "[[0.762 0.522 0.798 0.582 0.359]\n",
      " [0.463 0.335 0.588 0.571 0.579]\n",
      " [0.475 0.408 0.694 0.745 0.514]\n",
      " [0.464 0.201 0.861 0.85  0.471]]\n",
      "Layer 1 activations:\n",
      "[[0. 2. 0.]\n",
      " [1. 0. 1.]\n",
      " [3. 1. 2.]\n",
      " [0. 3. 3.]]\n"
     ]
    }
   ],
   "source": [
    "# Free phase should not affect Clamped phase activations\n",
    "tf.random.set_seed(0)\n",
    "test_cn = ContrastiveNet(num_neurons_each_layer=(6, 5, 3), n_iter=100)\n",
    "tf.random.set_seed(1)\n",
    "test_in = tf.random.normal(shape=(4, 6))\n",
    "test_labels = tf.cast(tf.random.uniform(maxval=4, shape=(4, 3), dtype=tf.int32), dtype=tf.float32)\n",
    "test_cn.free_step(test_in)\n",
    "test_cn.clamped_step(test_in, test_labels)\n",
    "test_acts = test_cn.get_net_acts_all_layers()\n",
    "for i in range(len(test_acts)):\n",
    "    print(f'Layer {i} activations:\\n{test_acts[i]}')\n",
    "print('---')\n",
    "print('You should see:')\n",
    "print('''Layer 0 activations:\n",
    "[[0.762 0.522 0.798 0.582 0.359]\n",
    " [0.463 0.335 0.588 0.571 0.579]\n",
    " [0.475 0.408 0.694 0.745 0.514]\n",
    " [0.464 0.201 0.861 0.85  0.471]]\n",
    "Layer 1 activations:\n",
    "[[0. 2. 0.]\n",
    " [1. 0. 1.]\n",
    " [3. 1. 2.]\n",
    " [0. 3. 3.]]''')"
   ]
  },
  {
   "cell_type": "markdown",
   "metadata": {},
   "source": [
    "### 1e. Implement the Contrastive Hebbian weight update rule\n",
    "\n",
    "The Contrastive Hebbian learning rule specifies how to update the weight and bias after processing each mini-batch of data. For a given layer `l` the change in the weights ($dWts_l$) depends on the **difference in \"correlation\"** between the current Clamped Phase ($X^+$) and Free Phase ($X^-$) activations in the current layer $l$ and the layer below $l-1$:\n",
    "\n",
    "$$\\text{dWts}_l = s \\left ( X_{l-1}^{+T}X_{l}^{+} - X_{l-1}^{-T}X_{l}^{-} \\right )$$\n",
    "\n",
    "where the $T$ in the exponents indicates the transpose of the net activations and the coefficient (a scalar) is\n",
    "\n",
    "$$\n",
    "s = \\frac{1}{B} \\gamma^{(l+1) - L}\n",
    "$$\n",
    "\n",
    "where $B$ is the mini-batch size, $l$ is the current layer index (starting at 0 for the first non-input layer of the network), and $L$ is the number of NON-INPUT layers in the network.\n",
    "\n",
    "The bias update is based on the average difference in the Clamped Phase and Free Phase activations in the current layer:\n",
    "\n",
    "$$\\text{db}_l = s \\left (\\frac{1}{B} \\right ) \\sum_{i=1}^B \\left ( X_{i,l}^{+} - X_{i,l}^{-} \\right )$$\n",
    "\n",
    "**Reminder:** Don't forget to actually apply the weight and bias updates:\n",
    "\n",
    "$$\n",
    "wts_l = wts_l + \\eta \\text{dWts}_l\n",
    "$$\n",
    "\n",
    "$$\n",
    "b_l = b_l + \\eta  \\text{db}_l\n",
    "$$\n",
    "\n",
    "where $\\eta$ is the learning rate."
   ]
  },
  {
   "cell_type": "code",
   "execution_count": 48,
   "metadata": {},
   "outputs": [
    {
     "name": "stdout",
     "output_type": "stream",
     "text": [
      "---\n",
      "Layer 0 weights after weight update are:\n",
      "[[-0.2691936  -0.33749703  0.04883617  0.1076684  -0.04467005]\n",
      " [ 0.41348308 -0.02993253  0.57470596  0.17040384 -0.5206131 ]\n",
      " [ 0.26577055  0.1847619   0.081453   -0.18202533 -0.12777233]\n",
      " [ 0.14300081  0.4801886   0.21291807  0.42993897 -0.5238712 ]\n",
      " [-0.24269955 -0.65534633  0.28946412  0.331977    0.10132611]\n",
      " [ 0.00596499  0.34416905 -0.534752   -0.50044775  0.3814006 ]]\n",
      "Layer 0 bias after weight update are:\n",
      "[[ 0.03526496]\n",
      " [-0.3656804 ]\n",
      " [ 0.40667802]\n",
      " [ 0.3015083 ]\n",
      " [ 0.14290808]]\n",
      "---\n",
      "Layer 1 weights after weight update are:\n",
      "[[-0.278185    0.627791    0.1858472 ]\n",
      " [ 0.54445094  0.08794099 -0.46480945]\n",
      " [ 0.38223064  0.33471912  0.461286  ]\n",
      " [ 0.6413015   0.01072288  0.43746233]\n",
      " [ 0.36828405 -0.33812726  0.07958621]]\n",
      "Layer 1 bias after weight update are:\n",
      "[[-0.06702256]\n",
      " [ 0.10438403]\n",
      " [ 0.74947196]]\n",
      "---\n"
     ]
    }
   ],
   "source": [
    "tf.random.set_seed(0)\n",
    "test_cn = ContrastiveNet(num_neurons_each_layer=(6, 5, 3))\n",
    "tf.random.set_seed(1)\n",
    "test_in = tf.random.normal(shape=(4, 6))\n",
    "test_labels = tf.cast(tf.random.uniform(maxval=4, shape=(4, 3), dtype=tf.int32), dtype=tf.float32)\n",
    "test_cn.free_step(test_in)\n",
    "test_free = test_cn.get_net_acts_all_layers(test_in)\n",
    "test_cn.clamped_step(test_in, test_labels)\n",
    "test_clamped = test_cn.get_net_acts_all_layers(test_in)\n",
    "test_cn.update_wts(test_free, test_clamped,lr = 0.5)\n",
    "test_acts = test_cn.get_net_acts_all_layers()\n",
    "test_layers = test_cn.get_layers()\n",
    "for i in range(len(test_layers)):\n",
    "    layer = test_layers[i]\n",
    "    print('---')\n",
    "    print(f'Layer {i} weights after weight update are:\\n{layer.get_wts()}')\n",
    "    print(f'Layer {i} bias after weight update are:\\n{layer.get_b()}')\n",
    "print('---')"
   ]
  },
  {
   "cell_type": "markdown",
   "metadata": {},
   "source": [
    "You should see:\n",
    "    \n",
    "    Layer 0 weights after weight update are:\n",
    "    [[-0.641 -0.06   0.17   0.757  1.006]\n",
    "    [ 1.251 -0.444  0.137 -1.077 -1.871]\n",
    "    [ 0.532 -0.008 -0.018 -0.557 -0.743]\n",
    "    [-0.105  0.169  0.573  0.996 -0.992]\n",
    "    [ 0.168 -2.061  0.628  0.585 -2.074]\n",
    "    [-0.627  1.035 -0.376  0.243  1.888]]\n",
    "    Layer 0 bias after weight update are:\n",
    "    [ 0.141 -0.526  0.483  0.241 -0.286]\n",
    "    ---\n",
    "    Layer 1 weights after weight update are:\n",
    "    [[1.385 7.08  3.995]\n",
    "    [2.332 3.877 1.772]\n",
    "    [2.867 9.761 7.382]\n",
    "    [3.687 8.609 7.724]\n",
    "    [2.876 4.543 4.691]]\n",
    "    Layer 1 bias after weight update are:\n",
    "    [0.731 2.763 2.781]"
   ]
  },
  {
   "cell_type": "markdown",
   "metadata": {},
   "source": [
    "### 1f. Implement `predict` and `fit` methods\n",
    "\n",
    "First, implement and test the predict method below.\n",
    "\n",
    "Second, implement `fit`. To test it, create a network below with default hyperparameters and\n",
    "- `784` neurons in the input layer\n",
    "- `128` neurons in the first hidden layer\n",
    "- `64` neurons in the second hidden layer\n",
    "- `10` neurons in the output layer.\n",
    "\n",
    "After 1 epoch of training on the MNIST training set, you should get (**approximately**) `76-77%` training accuracy and `77-78%` validation accuracy."
   ]
  },
  {
   "cell_type": "code",
   "execution_count": 47,
   "metadata": {},
   "outputs": [
    {
     "name": "stdout",
     "output_type": "stream",
     "text": [
      "End of epoch 1/1: Train accuracy is 0.7712, Validation accuracy is 0.7825\n"
     ]
    }
   ],
   "source": [
    "tf.random.set_seed(0)  # Keep me at the top of this cell\n",
    "\n",
    "cnet = ContrastiveNet((784,128,64,10))\n",
    "hist = cnet.fit(x_train, y_train,x_val,y_val)"
   ]
  },
  {
   "cell_type": "markdown",
   "metadata": {},
   "source": [
    "### 1g. Train and evaluate accuracy on MNIST\n",
    "\n",
    "Using all default hyperparameters and the network configuration above, determine the number of training epochs needed to achieve what you find to be the maximum validation accuracy.\n",
    "\n",
    "Once you do this:\n",
    "1. Report below the number of training epochs that you find to achieve the highest validation accuracy.\n",
    "2. Create a high-quality, well labeled plot that plots the training and validation accuracy computed every epoch of training.\n",
    "3. Report the test set accuracy after training with the number of epochs that produces the highest validation accuracy."
   ]
  },
  {
   "cell_type": "code",
   "execution_count": 6,
   "metadata": {},
   "outputs": [
    {
     "name": "stdout",
     "output_type": "stream",
     "text": [
      "End of epoch 1/60: Train accuracy is 0.7713, Validation accuracy is 0.7830\n",
      "End of epoch 2/60: Train accuracy is 0.8368, Validation accuracy is 0.8490\n",
      "End of epoch 3/60: Train accuracy is 0.8639, Validation accuracy is 0.8795\n",
      "End of epoch 4/60: Train accuracy is 0.8787, Validation accuracy is 0.8900\n",
      "End of epoch 5/60: Train accuracy is 0.8893, Validation accuracy is 0.8955\n",
      "End of epoch 6/60: Train accuracy is 0.8972, Validation accuracy is 0.8985\n",
      "End of epoch 7/60: Train accuracy is 0.9024, Validation accuracy is 0.9040\n",
      "End of epoch 8/60: Train accuracy is 0.9078, Validation accuracy is 0.9080\n",
      "End of epoch 9/60: Train accuracy is 0.9126, Validation accuracy is 0.9160\n",
      "End of epoch 10/60: Train accuracy is 0.9163, Validation accuracy is 0.9155\n",
      "End of epoch 11/60: Train accuracy is 0.9195, Validation accuracy is 0.9195\n",
      "End of epoch 12/60: Train accuracy is 0.9222, Validation accuracy is 0.9215\n",
      "End of epoch 13/60: Train accuracy is 0.9250, Validation accuracy is 0.9235\n",
      "End of epoch 14/60: Train accuracy is 0.9278, Validation accuracy is 0.9255\n",
      "End of epoch 15/60: Train accuracy is 0.9303, Validation accuracy is 0.9260\n",
      "End of epoch 16/60: Train accuracy is 0.9325, Validation accuracy is 0.9260\n",
      "End of epoch 17/60: Train accuracy is 0.9347, Validation accuracy is 0.9285\n",
      "End of epoch 18/60: Train accuracy is 0.9357, Validation accuracy is 0.9295\n",
      "End of epoch 19/60: Train accuracy is 0.9382, Validation accuracy is 0.9340\n",
      "End of epoch 20/60: Train accuracy is 0.9390, Validation accuracy is 0.9310\n",
      "End of epoch 21/60: Train accuracy is 0.9408, Validation accuracy is 0.9355\n",
      "End of epoch 22/60: Train accuracy is 0.9424, Validation accuracy is 0.9340\n",
      "End of epoch 23/60: Train accuracy is 0.9438, Validation accuracy is 0.9370\n",
      "End of epoch 24/60: Train accuracy is 0.9452, Validation accuracy is 0.9385\n",
      "End of epoch 25/60: Train accuracy is 0.9464, Validation accuracy is 0.9390\n",
      "End of epoch 26/60: Train accuracy is 0.9472, Validation accuracy is 0.9375\n",
      "End of epoch 27/60: Train accuracy is 0.9483, Validation accuracy is 0.9420\n",
      "End of epoch 28/60: Train accuracy is 0.9495, Validation accuracy is 0.9440\n",
      "End of epoch 29/60: Train accuracy is 0.9505, Validation accuracy is 0.9450\n",
      "End of epoch 30/60: Train accuracy is 0.9515, Validation accuracy is 0.9445\n",
      "End of epoch 31/60: Train accuracy is 0.9521, Validation accuracy is 0.9445\n",
      "End of epoch 32/60: Train accuracy is 0.9531, Validation accuracy is 0.9455\n",
      "End of epoch 33/60: Train accuracy is 0.9541, Validation accuracy is 0.9450\n",
      "End of epoch 34/60: Train accuracy is 0.9548, Validation accuracy is 0.9460\n",
      "End of epoch 35/60: Train accuracy is 0.9559, Validation accuracy is 0.9470\n",
      "End of epoch 36/60: Train accuracy is 0.9568, Validation accuracy is 0.9485\n",
      "End of epoch 37/60: Train accuracy is 0.9573, Validation accuracy is 0.9515\n",
      "End of epoch 38/60: Train accuracy is 0.9579, Validation accuracy is 0.9505\n",
      "End of epoch 39/60: Train accuracy is 0.9583, Validation accuracy is 0.9535\n",
      "End of epoch 40/60: Train accuracy is 0.9596, Validation accuracy is 0.9535\n",
      "End of epoch 41/60: Train accuracy is 0.9594, Validation accuracy is 0.9510\n",
      "End of epoch 42/60: Train accuracy is 0.9606, Validation accuracy is 0.9545\n",
      "End of epoch 43/60: Train accuracy is 0.9613, Validation accuracy is 0.9540\n",
      "End of epoch 44/60: Train accuracy is 0.9619, Validation accuracy is 0.9525\n",
      "End of epoch 45/60: Train accuracy is 0.9629, Validation accuracy is 0.9545\n",
      "End of epoch 46/60: Train accuracy is 0.9633, Validation accuracy is 0.9550\n",
      "End of epoch 47/60: Train accuracy is 0.9640, Validation accuracy is 0.9530\n",
      "End of epoch 48/60: Train accuracy is 0.9641, Validation accuracy is 0.9565\n",
      "End of epoch 49/60: Train accuracy is 0.9650, Validation accuracy is 0.9565\n",
      "End of epoch 50/60: Train accuracy is 0.9658, Validation accuracy is 0.9535\n",
      "End of epoch 51/60: Train accuracy is 0.9660, Validation accuracy is 0.9545\n",
      "End of epoch 52/60: Train accuracy is 0.9668, Validation accuracy is 0.9575\n",
      "End of epoch 53/60: Train accuracy is 0.9669, Validation accuracy is 0.9570\n",
      "End of epoch 54/60: Train accuracy is 0.9679, Validation accuracy is 0.9590\n",
      "End of epoch 55/60: Train accuracy is 0.9681, Validation accuracy is 0.9585\n",
      "End of epoch 56/60: Train accuracy is 0.9683, Validation accuracy is 0.9580\n",
      "End of epoch 57/60: Train accuracy is 0.9689, Validation accuracy is 0.9595\n",
      "End of epoch 58/60: Train accuracy is 0.9694, Validation accuracy is 0.9585\n",
      "End of epoch 59/60: Train accuracy is 0.9700, Validation accuracy is 0.9620\n",
      "End of epoch 60/60: Train accuracy is 0.9699, Validation accuracy is 0.9600\n"
     ]
    }
   ],
   "source": [
    "tf.random.set_seed(0)  # Keep me at the top of this cell\n",
    "epochs = 60\n",
    "cnet = ContrastiveNet((784,128,64,10))\n",
    "hist = cnet.fit(x_train, y_train,x_val,y_val,epochs = epochs)"
   ]
  },
  {
   "cell_type": "code",
   "execution_count": 7,
   "metadata": {},
   "outputs": [
    {
     "data": {
      "text/plain": [
       "0.9607"
      ]
     },
     "execution_count": 7,
     "metadata": {},
     "output_type": "execute_result"
    }
   ],
   "source": [
    "cnet.accuracy(y_test, cnet.predict(x_test))"
   ]
  },
  {
   "cell_type": "markdown",
   "metadata": {},
   "source": [
    "with 60 epochs we were able to obtain a val accuracy of ~96% and a train accuracy of ~97. we were able to obtain a test accuracy of ~96%"
   ]
  },
  {
   "cell_type": "code",
   "execution_count": 56,
   "metadata": {},
   "outputs": [
    {
     "data": {
      "text/plain": [
       "<matplotlib.legend.Legend at 0x1797bdc50>"
      ]
     },
     "execution_count": 56,
     "metadata": {},
     "output_type": "execute_result"
    },
    {
     "data": {
      "image/png": "[encoded data removed]",
      "text/plain": [
       "<Figure size 640x480 with 1 Axes>"
      ]
     },
     "metadata": {},
     "output_type": "display_data"
    }
   ],
   "source": [
    "train_acc_hist, val_acc_hist = hist\n",
    "epochs_list = range(epochs)\n",
    "\n",
    "plt.plot(epochs_list,train_acc_hist,c= 'orange', label = \"training accuracy\")\n",
    "plt.plot(epochs_list, val_acc_hist,c = 'blue', label = \"validation accuracy\")\n",
    "plt.xlabel(\"epochs\")\n",
    "plt.ylabel(\"accuracy (%)\")\n",
    "plt.title(\"Training Epoch vs Accuracy CHL (784,128,64,10)\")\n",
    "plt.legend()"
   ]
  },
  {
   "cell_type": "markdown",
   "metadata": {},
   "source": [
    "### 1h. Questions\n",
    "\n",
    "**Question 1:** Add some temporary print outs to your code to get a rough idea about the number of iterations appear to be necessary to get the net_act in any layer of your choice to converge/stabilize. Does the default number appear to be too much, too little, or about right?\n",
    "\n",
    "**Question 2:** Tweak the feedback strength hyperparameter by hand — how do increases and decreases affect learning?\n",
    "\n",
    "**Question 3:** Tweak the mini-batch size in reasonably large steps. How does this affect runtime of the network and **why**?\n"
   ]
  },
  {
   "cell_type": "code",
   "execution_count": 24,
   "metadata": {},
   "outputs": [
    {
     "name": "stdout",
     "output_type": "stream",
     "text": [
      "End of epoch 1/5: Train accuracy is 0.7787, Validation accuracy is 0.7940\n",
      "End of epoch 2/5: Train accuracy is 0.8436, Validation accuracy is 0.8565\n",
      "End of epoch 3/5: Train accuracy is 0.8679, Validation accuracy is 0.8805\n",
      "End of epoch 4/5: Train accuracy is 0.8854, Validation accuracy is 0.8955\n",
      "End of epoch 5/5: Train accuracy is 0.8949, Validation accuracy is 0.9015\n"
     ]
    }
   ],
   "source": [
    "#increase gamma by 10 fold\n",
    "epochs = 5\n",
    "cnet = ContrastiveNet((784,128,64,10), gamma=0.1)\n",
    "hist = cnet.fit(x_train, y_train,x_val,y_val,epochs = epochs)"
   ]
  },
  {
   "cell_type": "code",
   "execution_count": 25,
   "metadata": {},
   "outputs": [
    {
     "name": "stdout",
     "output_type": "stream",
     "text": [
      "End of epoch 1/5: Train accuracy is 0.7252, Validation accuracy is 0.7340\n",
      "End of epoch 2/5: Train accuracy is 0.8236, Validation accuracy is 0.8365\n",
      "End of epoch 3/5: Train accuracy is 0.8605, Validation accuracy is 0.8760\n",
      "End of epoch 4/5: Train accuracy is 0.8795, Validation accuracy is 0.8850\n",
      "End of epoch 5/5: Train accuracy is 0.8910, Validation accuracy is 0.8990\n"
     ]
    }
   ],
   "source": [
    "#decrease gamma by 10 fold\n",
    "epochs = 5\n",
    "cnet = ContrastiveNet((784,128,64,10), gamma=0.001)\n",
    "hist = cnet.fit(x_train, y_train,x_val,y_val,epochs = epochs)"
   ]
  },
  {
   "cell_type": "code",
   "execution_count": 26,
   "metadata": {},
   "outputs": [
    {
     "name": "stdout",
     "output_type": "stream",
     "text": [
      "End of epoch 1/5: Train accuracy is 0.7111, Validation accuracy is 0.7285\n",
      "End of epoch 2/5: Train accuracy is 0.8341, Validation accuracy is 0.8455\n",
      "End of epoch 3/5: Train accuracy is 0.8704, Validation accuracy is 0.8765\n",
      "End of epoch 4/5: Train accuracy is 0.8821, Validation accuracy is 0.8880\n",
      "End of epoch 5/5: Train accuracy is 0.8953, Validation accuracy is 0.8990\n"
     ]
    }
   ],
   "source": [
    "#increase gamma by 50 fold\n",
    "epochs = 5\n",
    "cnet = ContrastiveNet((784,128,64,10), gamma=0.5)\n",
    "hist = cnet.fit(x_train, y_train,x_val,y_val,epochs = epochs)"
   ]
  },
  {
   "cell_type": "code",
   "execution_count": 28,
   "metadata": {},
   "outputs": [
    {
     "name": "stdout",
     "output_type": "stream",
     "text": [
      "End of epoch 1/5: Train accuracy is 0.6432, Validation accuracy is 0.6705\n",
      "End of epoch 2/5: Train accuracy is 0.7432, Validation accuracy is 0.7565\n",
      "End of epoch 3/5: Train accuracy is 0.7666, Validation accuracy is 0.7800\n",
      "End of epoch 4/5: Train accuracy is 0.7856, Validation accuracy is 0.8045\n",
      "End of epoch 5/5: Train accuracy is 0.7905, Validation accuracy is 0.8120\n"
     ]
    }
   ],
   "source": [
    "#decrease gamma by 1000 fold\n",
    "epochs = 5\n",
    "cnet = ContrastiveNet((784,128,64,10), gamma=0.00001)\n",
    "hist = cnet.fit(x_train, y_train,x_val,y_val,epochs = epochs)"
   ]
  },
  {
   "cell_type": "code",
   "execution_count": 33,
   "metadata": {},
   "outputs": [
    {
     "name": "stdout",
     "output_type": "stream",
     "text": [
      "End of epoch 1/5: Train accuracy is 0.6785, Validation accuracy is 0.6935\n",
      "End of epoch 2/5: Train accuracy is 0.8190, Validation accuracy is 0.8260\n",
      "End of epoch 3/5: Train accuracy is 0.8635, Validation accuracy is 0.8690\n",
      "End of epoch 4/5: Train accuracy is 0.8704, Validation accuracy is 0.8725\n",
      "End of epoch 5/5: Train accuracy is 0.8816, Validation accuracy is 0.8880\n"
     ]
    }
   ],
   "source": [
    "#increase gamma by 1000 fold\n",
    "epochs = 5\n",
    "cnet = ContrastiveNet((784,128,64,10), gamma=1.0)\n",
    "hist = cnet.fit(x_train, y_train,x_val,y_val,epochs = epochs)"
   ]
  },
  {
   "cell_type": "code",
   "execution_count": 22,
   "metadata": {},
   "outputs": [
    {
     "name": "stdout",
     "output_type": "stream",
     "text": [
      "(58000, 784)\n",
      "tf.Tensor(\n",
      "[[0.9993136  0.05631531 0.9973749  ... 0.19558328 0.4677471  0.64528084]\n",
      " [0.5224917  0.01367018 0.30035016 ... 0.26504886 0.01013714 0.2657607 ]\n",
      " [0.12449954 0.03388238 0.9992843  ... 0.0588864  0.0360819  0.37159413]\n",
      " ...\n",
      " [0.05983132 0.09903613 0.99603564 ... 0.27828017 0.10033374 0.44196725]\n",
      " [0.9600477  0.49625668 0.99958664 ... 0.00226584 0.00257338 0.21704027]\n",
      " [0.04284163 0.56957024 0.94972503 ... 0.01339971 0.01806653 0.86821336]], shape=(58000, 128), dtype=float32)\n",
      "tf.Tensor(\n",
      "[[0.0373286  0.92951006 0.16707464 ... 0.8351596  0.96839124 0.62619543]\n",
      " [0.31568116 0.9505691  0.03448289 ... 0.4609342  0.79147536 0.7939311 ]\n",
      " [0.22204052 0.97950095 0.39609    ... 0.410488   0.8021489  0.62702936]\n",
      " ...\n",
      " [0.06000416 0.9351762  0.26651537 ... 0.89941335 0.98683923 0.41282487]\n",
      " [0.731263   0.9254796  0.05423448 ... 0.37465507 0.9398709  0.41859013]\n",
      " [0.7646127  0.76688343 0.18513241 ... 0.5642069  0.9904095  0.57906705]], shape=(58000, 64), dtype=float32)\n",
      "tf.Tensor(\n",
      "[[0.15962231 0.5400063  0.7548487  ... 0.05626991 0.9780919  0.8214414 ]\n",
      " [0.22538893 0.49252877 0.717025   ... 0.10650418 0.9638163  0.69680876]\n",
      " [0.18039827 0.3927879  0.54044545 ... 0.10343477 0.96927714 0.7447672 ]\n",
      " ...\n",
      " [0.16427878 0.48347738 0.7567125  ... 0.1408477  0.9421227  0.76858747]\n",
      " [0.2408708  0.38502428 0.5654162  ... 0.05525013 0.91991425 0.87035316]\n",
      " [0.13808419 0.38602152 0.64828324 ... 0.07116256 0.94382435 0.7991098 ]], shape=(58000, 10), dtype=float32)\n",
      "tf.Tensor(\n",
      "[[0.9993007  0.05757699 0.99734795 ... 0.20391256 0.4656602  0.64496696]\n",
      " [0.5192147  0.01414093 0.2966894  ... 0.27363357 0.01001063 0.26210257]\n",
      " [0.12260973 0.03464606 0.9992742  ... 0.06131719 0.03568567 0.36892664]\n",
      " ...\n",
      " [0.05855194 0.10035425 0.99601126 ... 0.2865351  0.09940635 0.4407627 ]\n",
      " [0.95962876 0.50249577 0.9995777  ... 0.00234657 0.00252468 0.21487147]\n",
      " [0.04194696 0.5745171  0.94935673 ... 0.0138261  0.0177792  0.8668251 ]], shape=(58000, 128), dtype=float32)\n",
      "tf.Tensor(\n",
      "[[0.03736272 0.9303296  0.16489753 ... 0.8377516  0.9688155  0.63065714]\n",
      " [0.31292382 0.9517399  0.03401176 ... 0.462633   0.79561037 0.8002545 ]\n",
      " [0.22386044 0.97971994 0.39605126 ... 0.41323444 0.8049071  0.6323237 ]\n",
      " ...\n",
      " [0.05910486 0.93662757 0.26670876 ... 0.9012867  0.987056   0.41838777]\n",
      " [0.7338991  0.9272115  0.05387984 ... 0.37671492 0.94028175 0.42228284]\n",
      " [0.76529247 0.771132   0.1837019  ... 0.56722134 0.990576   0.58547205]], shape=(58000, 64), dtype=float32)\n",
      "tf.Tensor(\n",
      "[[0.15961573 0.54043454 0.7559056  ... 0.05631977 0.97823995 0.82282805]\n",
      " [0.22540233 0.4927903  0.71928656 ... 0.10634652 0.9644096  0.69910353]\n",
      " [0.18026403 0.39237982 0.5412499  ... 0.10346764 0.96987975 0.7468403 ]\n",
      " ...\n",
      " [0.16425836 0.48237294 0.75817513 ... 0.14103395 0.9432065  0.7702318 ]\n",
      " [0.24140497 0.38434973 0.5664772  ... 0.05498592 0.92108756 0.87106276]\n",
      " [0.13735981 0.38455313 0.64888614 ... 0.07085967 0.94442207 0.80043024]], shape=(58000, 10), dtype=float32)\n",
      "tf.Tensor(\n",
      "[[0.9993006  0.05757937 0.99734783 ... 0.203929   0.46566072 0.6449601 ]\n",
      " [0.5191836  0.01414201 0.29668564 ... 0.2736765  0.01000937 0.2620992 ]\n",
      " [0.12260579 0.03464918 0.9992742  ... 0.06132651 0.03568545 0.36891723]\n",
      " ...\n",
      " [0.05854937 0.10036106 0.9960115  ... 0.28656992 0.09940414 0.44075787]\n",
      " [0.9596295  0.50253403 0.9995777  ... 0.00234684 0.00252441 0.21486804]\n",
      " [0.04194563 0.5745419  0.9493561  ... 0.01382723 0.01777876 0.86682314]], shape=(58000, 128), dtype=float32)\n",
      "tf.Tensor(\n",
      "[[0.03736282 0.93033105 0.16488743 ... 0.837761   0.96881694 0.6306817 ]\n",
      " [0.3128875  0.9517403  0.03400763 ... 0.46262828 0.79564637 0.8003092 ]\n",
      " [0.2238837  0.9797187  0.3960404  ... 0.4132492  0.804923   0.6323712 ]\n",
      " ...\n",
      " [0.05910061 0.93663394 0.26671475 ... 0.9012925  0.98705703 0.4184337 ]\n",
      " [0.7339177  0.92721564 0.05387766 ... 0.3767248  0.94028157 0.4223194 ]\n",
      " [0.7652831  0.77116245 0.1836937  ... 0.5672291  0.99057674 0.58552563]], shape=(58000, 64), dtype=float32)\n",
      "tf.Tensor(\n",
      "[[0.15961447 0.5404327  0.75591105 ... 0.05632051 0.9782402  0.8228333 ]\n",
      " [0.22538994 0.49278766 0.7193008  ... 0.1063451  0.96441346 0.6991251 ]\n",
      " [0.18026106 0.39237013 0.5412494  ... 0.10346764 0.96988344 0.74685913]\n",
      " ...\n",
      " [0.16425738 0.48235852 0.75818384 ... 0.14103444 0.9432138  0.77023906]\n",
      " [0.24140266 0.38434184 0.56648266 ... 0.05498324 0.9210952  0.87106425]\n",
      " [0.13735032 0.38453352 0.64888275 ... 0.07085679 0.9444242  0.8004368 ]], shape=(58000, 10), dtype=float32)\n",
      "tf.Tensor(\n",
      "[[0.9993006  0.05757937 0.99734783 ... 0.20392904 0.46566072 0.64496005]\n",
      " [0.5191833  0.01414201 0.29668567 ... 0.27367678 0.01000937 0.2620992 ]\n",
      " [0.12260576 0.03464921 0.9992742  ... 0.06132657 0.03568547 0.36891708]\n",
      " ...\n",
      " [0.05854936 0.10036113 0.9960115  ... 0.28657016 0.09940411 0.44075778]\n",
      " [0.9596296  0.5025344  0.9995777  ... 0.00234684 0.00252441 0.21486801]\n",
      " [0.04194561 0.5745421  0.9493561  ... 0.01382724 0.01777876 0.86682314]], shape=(58000, 128), dtype=float32)\n",
      "tf.Tensor(\n",
      "[[0.03736282 0.93033105 0.16488743 ... 0.837761   0.96881694 0.6306817 ]\n",
      " [0.3128871  0.9517403  0.03400761 ... 0.46262807 0.7956468  0.8003097 ]\n",
      " [0.2238841  0.9797187  0.39604038 ... 0.4132493  0.80492306 0.63237166]\n",
      " ...\n",
      " [0.05910058 0.93663406 0.2667149  ... 0.9012926  0.98705703 0.41843414]\n",
      " [0.73391783 0.92721564 0.05387764 ... 0.37672493 0.94028157 0.42231965]\n",
      " [0.76528305 0.7711628  0.18369362 ... 0.5672291  0.99057674 0.5855263 ]], shape=(58000, 64), dtype=float32)\n",
      "tf.Tensor(\n",
      "[[0.15961446 0.5404327  0.75591105 ... 0.0563205  0.9782402  0.8228333 ]\n",
      " [0.22538966 0.49278766 0.71930087 ... 0.10634506 0.96441346 0.6991254 ]\n",
      " [0.18026106 0.39237    0.5412494  ... 0.1034676  0.96988344 0.7468594 ]\n",
      " ...\n",
      " [0.1642574  0.48235834 0.75818384 ... 0.14103438 0.94321394 0.77023906]\n",
      " [0.24140263 0.3843419  0.5664827  ... 0.05498318 0.9210952  0.8710643 ]\n",
      " [0.1373502  0.38453332 0.6488826  ... 0.07085678 0.9444242  0.800437  ]], shape=(58000, 10), dtype=float32)\n",
      "tf.Tensor(\n",
      "[[0.9993006  0.05757937 0.99734783 ... 0.20392904 0.46566072 0.64496005]\n",
      " [0.5191833  0.01414201 0.29668567 ... 0.27367678 0.01000937 0.2620992 ]\n",
      " [0.12260576 0.03464921 0.9992742  ... 0.06132657 0.03568547 0.36891708]\n",
      " ...\n",
      " [0.05854936 0.10036113 0.9960115  ... 0.28657016 0.09940411 0.44075778]\n",
      " [0.9596296  0.5025344  0.9995777  ... 0.00234684 0.00252441 0.21486801]\n",
      " [0.04194561 0.5745421  0.9493561  ... 0.01382724 0.01777876 0.86682314]], shape=(58000, 128), dtype=float32)\n",
      "tf.Tensor(\n",
      "[[0.03736282 0.93033105 0.16488743 ... 0.837761   0.96881694 0.6306817 ]\n",
      " [0.3128871  0.9517403  0.03400761 ... 0.46262807 0.7956468  0.8003097 ]\n",
      " [0.2238841  0.9797187  0.39604038 ... 0.41324934 0.80492306 0.6323716 ]\n",
      " ...\n",
      " [0.05910058 0.93663406 0.2667149  ... 0.9012926  0.98705703 0.41843414]\n",
      " [0.73391783 0.92721564 0.05387764 ... 0.37672493 0.94028157 0.42231965]\n",
      " [0.76528305 0.7711628  0.18369363 ... 0.56722903 0.99057674 0.5855263 ]], shape=(58000, 64), dtype=float32)\n",
      "tf.Tensor(\n",
      "[[0.15961446 0.5404327  0.75591105 ... 0.0563205  0.9782402  0.8228333 ]\n",
      " [0.22538966 0.4927876  0.7193008  ... 0.10634506 0.96441346 0.6991254 ]\n",
      " [0.18026109 0.39237    0.5412494  ... 0.1034676  0.96988344 0.74685943]\n",
      " ...\n",
      " [0.1642574  0.4823584  0.7581839  ... 0.14103438 0.94321394 0.7702391 ]\n",
      " [0.24140263 0.3843419  0.5664827  ... 0.05498318 0.9210952  0.8710643 ]\n",
      " [0.1373502  0.3845333  0.6488826  ... 0.07085678 0.9444242  0.800437  ]], shape=(58000, 10), dtype=float32)\n",
      "tf.Tensor(\n",
      "[[0.9993006  0.05757937 0.99734783 ... 0.20392904 0.46566072 0.64496005]\n",
      " [0.5191833  0.01414201 0.29668567 ... 0.27367678 0.01000937 0.2620992 ]\n",
      " [0.12260576 0.03464921 0.9992742  ... 0.06132657 0.03568547 0.36891708]\n",
      " ...\n",
      " [0.05854936 0.10036113 0.9960115  ... 0.28657016 0.09940411 0.44075778]\n",
      " [0.9596296  0.5025344  0.9995777  ... 0.00234684 0.00252441 0.21486801]\n",
      " [0.04194561 0.5745421  0.9493561  ... 0.01382724 0.01777876 0.86682314]], shape=(58000, 128), dtype=float32)\n",
      "tf.Tensor(\n",
      "[[0.03736282 0.93033105 0.16488743 ... 0.837761   0.96881694 0.6306817 ]\n",
      " [0.3128871  0.9517403  0.03400761 ... 0.46262807 0.7956468  0.8003097 ]\n",
      " [0.2238841  0.9797187  0.39604038 ... 0.41324934 0.80492306 0.6323716 ]\n",
      " ...\n",
      " [0.05910058 0.93663406 0.2667149  ... 0.9012926  0.98705703 0.41843414]\n",
      " [0.73391783 0.92721564 0.05387764 ... 0.37672493 0.94028157 0.42231965]\n",
      " [0.76528305 0.7711628  0.18369363 ... 0.56722903 0.99057674 0.5855263 ]], shape=(58000, 64), dtype=float32)\n",
      "tf.Tensor(\n",
      "[[0.15961446 0.5404327  0.75591105 ... 0.0563205  0.9782402  0.8228333 ]\n",
      " [0.22538966 0.4927876  0.7193008  ... 0.10634506 0.96441346 0.6991254 ]\n",
      " [0.18026109 0.39237    0.5412494  ... 0.1034676  0.96988344 0.74685943]\n",
      " ...\n",
      " [0.1642574  0.4823584  0.7581839  ... 0.14103438 0.94321394 0.7702391 ]\n",
      " [0.24140263 0.3843419  0.5664827  ... 0.05498318 0.9210952  0.8710643 ]\n",
      " [0.1373502  0.3845333  0.6488826  ... 0.07085678 0.9444242  0.800437  ]], shape=(58000, 10), dtype=float32)\n",
      "tf.Tensor(\n",
      "[[0.9993006  0.05757937 0.99734783 ... 0.20392904 0.46566072 0.64496005]\n",
      " [0.5191833  0.01414201 0.29668567 ... 0.27367678 0.01000937 0.2620992 ]\n",
      " [0.12260576 0.03464921 0.9992742  ... 0.06132657 0.03568547 0.36891708]\n",
      " ...\n",
      " [0.05854936 0.10036113 0.9960115  ... 0.28657016 0.09940411 0.44075778]\n",
      " [0.9596296  0.5025344  0.9995777  ... 0.00234684 0.00252441 0.21486801]\n",
      " [0.04194561 0.5745421  0.9493561  ... 0.01382724 0.01777876 0.86682314]], shape=(58000, 128), dtype=float32)\n",
      "tf.Tensor(\n",
      "[[0.03736282 0.93033105 0.16488743 ... 0.837761   0.96881694 0.6306817 ]\n",
      " [0.3128871  0.9517403  0.03400761 ... 0.46262807 0.7956468  0.8003097 ]\n",
      " [0.2238841  0.9797187  0.39604038 ... 0.41324934 0.80492306 0.6323716 ]\n",
      " ...\n",
      " [0.05910058 0.93663406 0.2667149  ... 0.9012926  0.98705703 0.41843414]\n",
      " [0.73391783 0.92721564 0.05387764 ... 0.37672493 0.94028157 0.42231965]\n",
      " [0.76528305 0.7711628  0.18369363 ... 0.56722903 0.99057674 0.5855263 ]], shape=(58000, 64), dtype=float32)\n",
      "tf.Tensor(\n",
      "[[0.15961446 0.5404327  0.75591105 ... 0.0563205  0.9782402  0.8228333 ]\n",
      " [0.22538966 0.4927876  0.7193008  ... 0.10634506 0.96441346 0.6991254 ]\n",
      " [0.18026109 0.39237    0.5412494  ... 0.1034676  0.96988344 0.74685943]\n",
      " ...\n",
      " [0.1642574  0.4823584  0.7581839  ... 0.14103438 0.94321394 0.7702391 ]\n",
      " [0.24140263 0.3843419  0.5664827  ... 0.05498318 0.9210952  0.8710643 ]\n",
      " [0.1373502  0.3845333  0.6488826  ... 0.07085678 0.9444242  0.800437  ]], shape=(58000, 10), dtype=float32)\n",
      "tf.Tensor(\n",
      "[[0.9993006  0.05757937 0.99734783 ... 0.20392904 0.46566072 0.64496005]\n",
      " [0.5191833  0.01414201 0.29668567 ... 0.27367678 0.01000937 0.2620992 ]\n",
      " [0.12260576 0.03464921 0.9992742  ... 0.06132657 0.03568547 0.36891708]\n",
      " ...\n",
      " [0.05854936 0.10036113 0.9960115  ... 0.28657016 0.09940411 0.44075778]\n",
      " [0.9596296  0.5025344  0.9995777  ... 0.00234684 0.00252441 0.21486801]\n",
      " [0.04194561 0.5745421  0.9493561  ... 0.01382724 0.01777876 0.86682314]], shape=(58000, 128), dtype=float32)\n",
      "tf.Tensor(\n",
      "[[0.03736282 0.93033105 0.16488743 ... 0.837761   0.96881694 0.6306817 ]\n",
      " [0.3128871  0.9517403  0.03400761 ... 0.46262807 0.7956468  0.8003097 ]\n",
      " [0.2238841  0.9797187  0.39604038 ... 0.41324934 0.80492306 0.6323716 ]\n",
      " ...\n",
      " [0.05910058 0.93663406 0.2667149  ... 0.9012926  0.98705703 0.41843414]\n",
      " [0.73391783 0.92721564 0.05387764 ... 0.37672493 0.94028157 0.42231965]\n",
      " [0.76528305 0.7711628  0.18369363 ... 0.56722903 0.99057674 0.5855263 ]], shape=(58000, 64), dtype=float32)\n",
      "tf.Tensor(\n",
      "[[0.15961446 0.5404327  0.75591105 ... 0.0563205  0.9782402  0.8228333 ]\n",
      " [0.22538966 0.4927876  0.7193008  ... 0.10634506 0.96441346 0.6991254 ]\n",
      " [0.18026109 0.39237    0.5412494  ... 0.1034676  0.96988344 0.74685943]\n",
      " ...\n",
      " [0.1642574  0.4823584  0.7581839  ... 0.14103438 0.94321394 0.7702391 ]\n",
      " [0.24140263 0.3843419  0.5664827  ... 0.05498318 0.9210952  0.8710643 ]\n",
      " [0.1373502  0.3845333  0.6488826  ... 0.07085678 0.9444242  0.800437  ]], shape=(58000, 10), dtype=float32)\n",
      "tf.Tensor(\n",
      "[[0.9993006  0.05757937 0.99734783 ... 0.20392904 0.46566072 0.64496005]\n",
      " [0.5191833  0.01414201 0.29668567 ... 0.27367678 0.01000937 0.2620992 ]\n",
      " [0.12260576 0.03464921 0.9992742  ... 0.06132657 0.03568547 0.36891708]\n",
      " ...\n",
      " [0.05854936 0.10036113 0.9960115  ... 0.28657016 0.09940411 0.44075778]\n",
      " [0.9596296  0.5025344  0.9995777  ... 0.00234684 0.00252441 0.21486801]\n",
      " [0.04194561 0.5745421  0.9493561  ... 0.01382724 0.01777876 0.86682314]], shape=(58000, 128), dtype=float32)\n",
      "tf.Tensor(\n",
      "[[0.03736282 0.93033105 0.16488743 ... 0.837761   0.96881694 0.6306817 ]\n",
      " [0.3128871  0.9517403  0.03400761 ... 0.46262807 0.7956468  0.8003097 ]\n",
      " [0.2238841  0.9797187  0.39604038 ... 0.41324934 0.80492306 0.6323716 ]\n",
      " ...\n",
      " [0.05910058 0.93663406 0.2667149  ... 0.9012926  0.98705703 0.41843414]\n",
      " [0.73391783 0.92721564 0.05387764 ... 0.37672493 0.94028157 0.42231965]\n",
      " [0.76528305 0.7711628  0.18369363 ... 0.56722903 0.99057674 0.5855263 ]], shape=(58000, 64), dtype=float32)\n",
      "tf.Tensor(\n",
      "[[0.15961446 0.5404327  0.75591105 ... 0.0563205  0.9782402  0.8228333 ]\n",
      " [0.22538966 0.4927876  0.7193008  ... 0.10634506 0.96441346 0.6991254 ]\n",
      " [0.18026109 0.39237    0.5412494  ... 0.1034676  0.96988344 0.74685943]\n",
      " ...\n",
      " [0.1642574  0.4823584  0.7581839  ... 0.14103438 0.94321394 0.7702391 ]\n",
      " [0.24140263 0.3843419  0.5664827  ... 0.05498318 0.9210952  0.8710643 ]\n",
      " [0.1373502  0.3845333  0.6488826  ... 0.07085678 0.9444242  0.800437  ]], shape=(58000, 10), dtype=float32)\n",
      "tf.Tensor(\n",
      "[[0.9993006  0.05757937 0.99734783 ... 0.20392904 0.46566072 0.64496005]\n",
      " [0.5191833  0.01414201 0.29668567 ... 0.27367678 0.01000937 0.2620992 ]\n",
      " [0.12260576 0.03464921 0.9992742  ... 0.06132657 0.03568547 0.36891708]\n",
      " ...\n",
      " [0.05854936 0.10036113 0.9960115  ... 0.28657016 0.09940411 0.44075778]\n",
      " [0.9596296  0.5025344  0.9995777  ... 0.00234684 0.00252441 0.21486801]\n",
      " [0.04194561 0.5745421  0.9493561  ... 0.01382724 0.01777876 0.86682314]], shape=(58000, 128), dtype=float32)\n",
      "tf.Tensor(\n",
      "[[0.03736282 0.93033105 0.16488743 ... 0.837761   0.96881694 0.6306817 ]\n",
      " [0.3128871  0.9517403  0.03400761 ... 0.46262807 0.7956468  0.8003097 ]\n",
      " [0.2238841  0.9797187  0.39604038 ... 0.41324934 0.80492306 0.6323716 ]\n",
      " ...\n",
      " [0.05910058 0.93663406 0.2667149  ... 0.9012926  0.98705703 0.41843414]\n",
      " [0.73391783 0.92721564 0.05387764 ... 0.37672493 0.94028157 0.42231965]\n",
      " [0.76528305 0.7711628  0.18369363 ... 0.56722903 0.99057674 0.5855263 ]], shape=(58000, 64), dtype=float32)\n",
      "tf.Tensor(\n",
      "[[0.15961446 0.5404327  0.75591105 ... 0.0563205  0.9782402  0.8228333 ]\n",
      " [0.22538966 0.4927876  0.7193008  ... 0.10634506 0.96441346 0.6991254 ]\n",
      " [0.18026109 0.39237    0.5412494  ... 0.1034676  0.96988344 0.74685943]\n",
      " ...\n",
      " [0.1642574  0.4823584  0.7581839  ... 0.14103438 0.94321394 0.7702391 ]\n",
      " [0.24140263 0.3843419  0.5664827  ... 0.05498318 0.9210952  0.8710643 ]\n",
      " [0.1373502  0.3845333  0.6488826  ... 0.07085678 0.9444242  0.800437  ]], shape=(58000, 10), dtype=float32)\n"
     ]
    }
   ],
   "source": [
    "cnet = ContrastiveNet((784,128,64,10))\n",
    "layer_1 = cnet.get_layers()[1]\n",
    "print(x_train.shape)\n",
    "cnet.free_step(x_train)"
   ]
  },
  {
   "cell_type": "code",
   "execution_count": 34,
   "metadata": {},
   "outputs": [
    {
     "name": "stdout",
     "output_type": "stream",
     "text": [
      "End of epoch 1/5: Train accuracy is 0.8321, Validation accuracy is 0.8435\n",
      "End of epoch 2/5: Train accuracy is 0.8811, Validation accuracy is 0.8910\n",
      "End of epoch 3/5: Train accuracy is 0.8992, Validation accuracy is 0.9060\n",
      "End of epoch 4/5: Train accuracy is 0.9094, Validation accuracy is 0.9165\n",
      "End of epoch 5/5: Train accuracy is 0.9177, Validation accuracy is 0.9205\n"
     ]
    }
   ],
   "source": [
    "#decrease mini_batch by half \n",
    "epochs = 5\n",
    "cnet = ContrastiveNet((784,128,64,10))\n",
    "hist = cnet.fit(x_train, y_train,x_val,y_val,epochs = epochs, batch_size= 500)"
   ]
  },
  {
   "cell_type": "code",
   "execution_count": 35,
   "metadata": {},
   "outputs": [
    {
     "name": "stdout",
     "output_type": "stream",
     "text": [
      "End of epoch 1/5: Train accuracy is 0.8819, Validation accuracy is 0.8950\n",
      "End of epoch 2/5: Train accuracy is 0.9087, Validation accuracy is 0.9230\n",
      "End of epoch 3/5: Train accuracy is 0.9238, Validation accuracy is 0.9285\n",
      "End of epoch 4/5: Train accuracy is 0.9317, Validation accuracy is 0.9355\n",
      "End of epoch 5/5: Train accuracy is 0.9388, Validation accuracy is 0.9400\n"
     ]
    }
   ],
   "source": [
    "#decrease mini_batch by half AGAIN \n",
    "epochs = 5\n",
    "cnet = ContrastiveNet((784,128,64,10))\n",
    "hist = cnet.fit(x_train, y_train,x_val,y_val,epochs = epochs, batch_size= 250)"
   ]
  },
  {
   "cell_type": "code",
   "execution_count": 36,
   "metadata": {},
   "outputs": [
    {
     "name": "stdout",
     "output_type": "stream",
     "text": [
      "End of epoch 1/5: Train accuracy is 0.6424, Validation accuracy is 0.6495\n",
      "End of epoch 2/5: Train accuracy is 0.7601, Validation accuracy is 0.7620\n",
      "End of epoch 3/5: Train accuracy is 0.8086, Validation accuracy is 0.8095\n",
      "End of epoch 4/5: Train accuracy is 0.8335, Validation accuracy is 0.8375\n",
      "End of epoch 5/5: Train accuracy is 0.8520, Validation accuracy is 0.8590\n"
     ]
    }
   ],
   "source": [
    "#increase mini_batch by half \n",
    "epochs = 5\n",
    "cnet = ContrastiveNet((784,128,64,10))\n",
    "hist = cnet.fit(x_train, y_train,x_val,y_val,epochs = epochs, batch_size= 2000)"
   ]
  },
  {
   "cell_type": "code",
   "execution_count": 37,
   "metadata": {},
   "outputs": [
    {
     "name": "stdout",
     "output_type": "stream",
     "text": [
      "End of epoch 1/5: Train accuracy is 0.4557, Validation accuracy is 0.4670\n",
      "End of epoch 2/5: Train accuracy is 0.6352, Validation accuracy is 0.6525\n",
      "End of epoch 3/5: Train accuracy is 0.7233, Validation accuracy is 0.7370\n",
      "End of epoch 4/5: Train accuracy is 0.7684, Validation accuracy is 0.7830\n",
      "End of epoch 5/5: Train accuracy is 0.7931, Validation accuracy is 0.8035\n"
     ]
    }
   ],
   "source": [
    "#increase mini_batch by half AGAIN \n",
    "epochs = 5\n",
    "cnet = ContrastiveNet((784,128,64,10))\n",
    "hist = cnet.fit(x_train, y_train,x_val,y_val,epochs = epochs, batch_size= 4000)"
   ]
  },
  {
   "cell_type": "markdown",
   "metadata": {},
   "source": [
    "**Reminder:** You should not be using AI to do your work. This applies not only to your code, but also your writing (you should NOT use even use AI to make your writing \"sound better\"). I will stop grading your project if you use AI to generate code and/or written answers.\n",
    "\n",
    "**Answer 1:** It looks like n_iter is abit to high the net_acts seem to stablize around 3~4 iterations \n",
    "\n",
    "**Answer 2:** increasing or decreasing gamma by 10 fold didn't seem to have much of an effect for the result expected for 5 epochs. However, when pushing ot the extremes in either direction decrease or increase by 1000 fold we start to see some effects in terms of hindering learning. It should be noted though that making gamma smaller seems to have a greater effect for example when gamma = 1.0 we still obtain ~89% after 5 epoches whereas when gamma = 0.0001 we obtain ~81%. I tested gamma > 1.0 and it resulted in very poor learning but I don't believe we are suppose to set gamma bigger than 1 anyway so I did not include it in the comparsion.\n",
    "\n",
    "**Answer 3:** As seen from above the mini_batch size has a dramatic effect on runtime and this is expected since we are essentially running a nested triple for loop in our fit method: the epoch loop, the mini_size loop, and the n_iter loop. For a decrease of a factor of 4 we see the runtime more than doubles from 40 seconds to 1 minute. Likewise, when increasing by a factor of 4 we go from a runtime of 40 seconds to 27 seconds for 5 epochs. This effect will be more noticable as we increase the number of epoches since the nested loops have a polynomial relationship. As we decrease the batch size the more loops we have to do for each epoch to cover the entire dataset and for each one of those loops we still have to do the inner n_inter loop which is 10 times by default. All this leads to very long run espically as the number of epochs gets big or the batch size gets small. "
   ]
  }
 ],
 "metadata": {
  "kernelspec": {
   "display_name": "tf-latest",
   "language": "python",
   "name": "python3"
  },
  "language_info": {
   "codemirror_mode": {
    "name": "ipython",
    "version": 3
   },
   "file_extension": ".py",
   "mimetype": "text/x-python",
   "name": "python",
   "nbconvert_exporter": "python",
   "pygments_lexer": "ipython3",
   "version": "3.11.5"
  }
 },
 "nbformat": 4,
 "nbformat_minor": 2
}
