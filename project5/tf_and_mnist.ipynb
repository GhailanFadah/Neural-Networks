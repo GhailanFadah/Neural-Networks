{
  "cells": [
    {
      "cell_type": "markdown",
      "metadata": {
        "id": "A0V_chG60ntu"
      },
      "source": [
        "**Ghailan and Gordon**\n",
        "\n",
        "Spring 2024\n",
        "\n",
        "CS 443: Bio-inspired Machine Learning\n",
        "\n",
        "# Project 0: TensorFlow and MNIST\n",
        "\n",
        "The goals of this project is to:\n",
        "- refresh your memory of TensorFlow\n",
        "- learn how to use new TensorFlow and NumPy functions that will be helpful later in the semester in simple examples\n",
        "- load and preprocess the MNIST dataset\n",
        "- build an simple artificial neural network using the TensorFlow low-level API and train it on MNIST.\n",
        "\n",
        "## AI Policy\n",
        "\n",
        "To improve the quality of your learning and out of fairness to your hardworking classmates, AI (e.g. ChatGPT, Copilot, etc.) should NOT be used in ANY way on this project and extensions. This includes both written analysis, plotting, and code. I will only grade your work, not the AI's. I will stop grading your project if I notice AI-generated content (in any capacity)."
      ]
    },
    {
      "cell_type": "code",
      "execution_count": 1,
      "metadata": {
        "colab": {
          "base_uri": "https://localhost:8080/"
        },
        "id": "HiLOZ0pv0tqL",
        "outputId": "ebf08a04-9c6c-4c02-f9ed-3aa4d9b7e02e"
      },
      "outputs": [
        {
          "name": "stdout",
          "output_type": "stream",
          "text": [
            "Mounted at /content/drive\n",
            "/content/drive/MyDrive/project0\n"
          ]
        }
      ],
      "source": [
        "from google.colab import drive\n",
        "\n",
        "drive.mount('/content/drive')\n",
        "%cd /content/drive/MyDrive/project0"
      ]
    },
    {
      "cell_type": "code",
      "execution_count": 2,
      "metadata": {
        "colab": {
          "base_uri": "https://localhost:8080/"
        },
        "id": "01uUTRO31P7N",
        "outputId": "a3751cd2-fcea-44c6-9ce1-ad35dccc7a9c"
      },
      "outputs": [
        {
          "name": "stdout",
          "output_type": "stream",
          "text": [
            "\u001b[0m\u001b[01;34mdata\u001b[0m/  mnist.py  \u001b[01;34m__pycache__\u001b[0m/  single_layer_net.py  tf_and_mnist.ipynb  viz.py\n"
          ]
        }
      ],
      "source": [
        "%ls"
      ]
    },
    {
      "cell_type": "code",
      "execution_count": 3,
      "metadata": {
        "id": "Om9Cw6HB0nt2"
      },
      "outputs": [],
      "source": [
        "import time\n",
        "import numpy as np\n",
        "import matplotlib.pyplot as plt\n",
        "import tensorflow as tf\n",
        "\n",
        "plt.style.use(['seaborn-v0_8-colorblind', 'seaborn-v0_8-darkgrid'])\n",
        "plt.show()\n",
        "plt.rcParams.update({'font.size': 18})\n",
        "\n",
        "np.set_printoptions(suppress=True, precision=3)\n",
        "\n",
        "%load_ext autoreload\n",
        "%autoreload 2"
      ]
    },
    {
      "cell_type": "markdown",
      "metadata": {
        "id": "mPdPbx3s0nt6"
      },
      "source": [
        "## Task 1: TensorFlow\n",
        "\n",
        "The goal of this task is to refresh your memory of TensorFlow and learn to perform tasks with TensorFlow that will come up later in the semester with simpler examples. Having the TensorFlow documentation open is a good idea:\n",
        "\n",
        "https://www.tensorflow.org/api_docs/python/tf\n",
        "\n",
        "In most cases, each subtask requires only 1 line of code to accomplish. And no loops here! :)"
      ]
    },
    {
      "cell_type": "markdown",
      "metadata": {
        "id": "pHcXdvpZ0nt7"
      },
      "source": [
        "### 1a. Convert from NumPy to TensorFlow\n",
        "\n",
        "Convert the following Tensor to an ndarray."
      ]
    },
    {
      "cell_type": "code",
      "execution_count": 4,
      "metadata": {
        "colab": {
          "base_uri": "https://localhost:8080/"
        },
        "id": "3Wd_RVRl0nt7",
        "outputId": "ec2141b3-58ba-4d33-dd37-a6d92856efab"
      },
      "outputs": [
        {
          "name": "stdout",
          "output_type": "stream",
          "text": [
            "Is your array a NumPy ndarray? True\n",
            "Your array has shape (2, 3) and it should be (2, 3).\n",
            "Your array has dtype int32 and it should be int32.\n"
          ]
        }
      ],
      "source": [
        "tensor = tf.constant([[1, 2, 3], [4, 5, 6]])\n",
        "\n",
        "# YOUR CODE HERE\n",
        "tensor_np = tensor.numpy()\n",
        "\n",
        "print(f'Is your array a NumPy ndarray? {isinstance(tensor_np, np.ndarray)}')\n",
        "print(f'Your array has shape {tensor_np.shape} and it should be (2, 3).')\n",
        "print(f'Your array has dtype {tensor_np.dtype} and it should be int32.')"
      ]
    },
    {
      "cell_type": "markdown",
      "metadata": {
        "id": "zo8717jV0nt9"
      },
      "source": [
        "### 1b. Convert from TensorFlow to NumPy\n",
        "\n",
        "Convert the following ndarray to a TensorFlow Tensor with datatype `tf.int64`."
      ]
    },
    {
      "cell_type": "code",
      "execution_count": 5,
      "metadata": {
        "colab": {
          "base_uri": "https://localhost:8080/"
        },
        "id": "TQ-3iDjY0nt9",
        "outputId": "64d2d877-b6d8-49b8-f63d-480abaa75221"
      },
      "outputs": [
        {
          "name": "stdout",
          "output_type": "stream",
          "text": [
            "Is your array a TF Tensor? True\n",
            "Your array has shape (2, 3) and it should be (2, 3).\n",
            "Your array has <dtype: 'int64'> and it should be <dtype: 'int64'>.\n"
          ]
        }
      ],
      "source": [
        "array = np.array([[1, 2, 3], [4, 5, 6]])\n",
        "\n",
        "# YOUR CODE HERE\n",
        "array_tf = tf.convert_to_tensor(array, tf.int64)\n",
        "\n",
        "print(f'Is your array a TF Tensor? {isinstance(array_tf, tf.Tensor)}')\n",
        "print(f'Your array has shape {array_tf.shape} and it should be (2, 3).')\n",
        "print(f\"Your array has {array_tf.dtype} and it should be <dtype: 'int64'>.\")"
      ]
    },
    {
      "cell_type": "markdown",
      "metadata": {
        "id": "9hWaUM5Z0nt-"
      },
      "source": [
        "### 1c. Convert data types\n",
        "\n",
        "Convert the following Tensor to a `tf.float32` datatype."
      ]
    },
    {
      "cell_type": "code",
      "execution_count": 6,
      "metadata": {
        "colab": {
          "base_uri": "https://localhost:8080/"
        },
        "id": "yP5Tfvew0nt_",
        "outputId": "5ca69098-031a-480d-ffdc-9da6caccdab7"
      },
      "outputs": [
        {
          "name": "stdout",
          "output_type": "stream",
          "text": [
            "Your tensor has <dtype: 'float32'> and it should be <dtype: 'float32'>.\n"
          ]
        }
      ],
      "source": [
        "tensor = tf.constant([[1, 2, 3], [4, 5, 6]])\n",
        "\n",
        "# YOUR CODE HERE\n",
        "tensor_np = tf.cast(tensor,tf.float32)\n",
        "\n",
        "print(f\"Your tensor has {tensor_np.dtype} and it should be <dtype: 'float32'>.\")"
      ]
    },
    {
      "cell_type": "markdown",
      "metadata": {
        "id": "6ZUw19RR0nuA"
      },
      "source": [
        "### 1d. One-hot coding\n",
        "\n",
        "- One-hot code the following int-coded class labels. Assume `C=5`.\n",
        "- Make the dtype `tf.float32`.\n",
        "- Here's a twist: make the \"off value\" `-1` instead of `0`."
      ]
    },
    {
      "cell_type": "code",
      "execution_count": 7,
      "metadata": {
        "colab": {
          "base_uri": "https://localhost:8080/"
        },
        "id": "71jvetjF0nuA",
        "outputId": "f5b798bc-7095-4348-eae1-df89fa594d18"
      },
      "outputs": [
        {
          "name": "stdout",
          "output_type": "stream",
          "text": [
            "Your tensor has <dtype: 'float32'> and it should be <dtype: 'float32'>.\n",
            "Your tensor is\n",
            "[[-1. -1.  1. -1. -1.]\n",
            " [-1. -1. -1.  1. -1.]\n",
            " [ 1. -1. -1. -1. -1.]\n",
            " [-1.  1. -1. -1. -1.]\n",
            " [-1.  1. -1. -1. -1.]]\n",
            "and it should be\n",
            "[[-1. -1.  1. -1. -1.]\n",
            " [-1. -1. -1.  1. -1.]\n",
            " [ 1. -1. -1. -1. -1.]\n",
            " [-1.  1. -1. -1. -1.]\n",
            " [-1.  1. -1. -1. -1.]]\n"
          ]
        }
      ],
      "source": [
        "labels = [2, 3, 0, 1, 1]\n",
        "labels = np.array(labels)\n",
        "\n",
        "# YOUR CODE HERE\n",
        "\n",
        "hot = np.ones((labels.shape[0], 5))*-1\n",
        "hot[np.arange(labels.shape[0]), labels] = 1\n",
        "\n",
        "\n",
        "yh = tf.convert_to_tensor(hot, tf.float32)\n",
        "\n",
        "\n",
        "print(f\"Your tensor has {yh.dtype} and it should be <dtype: 'float32'>.\")\n",
        "print(f\"Your tensor is\\n{yh}\")\n",
        "print('and it should be')\n",
        "print('''[[-1. -1.  1. -1. -1.]\n",
        " [-1. -1. -1.  1. -1.]\n",
        " [ 1. -1. -1. -1. -1.]\n",
        " [-1.  1. -1. -1. -1.]\n",
        " [-1.  1. -1. -1. -1.]]''')"
      ]
    },
    {
      "cell_type": "markdown",
      "metadata": {
        "id": "W0NLCkoS0nuA"
      },
      "source": [
        "### 1e. (i) Find the index of the top-k items in each row of a Tensor\n",
        "\n",
        "*This is a multi-part task.*\n",
        "\n",
        "In this scenario, we want to find the index of the 2nd largest item in each row. While in this case we are interested in the `k=2` largest, your solution should in theory work for any `k`. This is like `argmax` within each row, but more configurable. We may want the index of the max (`k=1`), the 2nd largest (`k=2`), 3rd largest (`k=3`), and so forth. If there are ties for `k`-th place, the smallest column index is fine.\n",
        "\n",
        "Ultimately, we want the column indices to have a `tf.int32` data type.\n",
        "\n",
        "**Hint:** There is a hint in the title of this subtask..."
      ]
    },
    {
      "cell_type": "code",
      "execution_count": 8,
      "metadata": {
        "colab": {
          "base_uri": "https://localhost:8080/"
        },
        "id": "7fWcEn3u0nuB",
        "outputId": "ff57bb03-b083-40a0-d288-c417feccc9d2"
      },
      "outputs": [
        {
          "name": "stdout",
          "output_type": "stream",
          "text": [
            "my_tensor is:\n",
            "[[7. 3. 1. 4.]\n",
            " [2. 2. 2. 3.]\n",
            " [7. 3. 4. 7.]\n",
            " [1. 6. 4. 0.]\n",
            " [1. 7. 2. 3.]\n",
            " [1. 8. 9. 2.]\n",
            " [9. 2. 7. 4.]]\n",
            "Column indices shape is (7,) and should be (7,).\n",
            "Column indices of the 2nd largest values in each row are:\n",
            "[3 0 3 2 3 1 2]\n",
            "They should be\n",
            "[3 0 3 2 3 1 2]\n",
            "Dtype is <dtype: 'int32'> as it should be <dtype: 'int32'>\n"
          ]
        }
      ],
      "source": [
        "tf.random.set_seed(0)\n",
        "my_tensor = tf.cast(tf.random.uniform(maxval=10, shape=(7, 4), dtype=tf.int64), dtype=tf.float32)\n",
        "\n",
        "k=2\n",
        "values, indices = tf.approx_top_k(my_tensor, k)\n",
        "\n",
        "col_indices = indices[:,k-1]\n",
        "\n",
        "print(f'my_tensor is:\\n{my_tensor}')\n",
        "print(f'Column indices shape is {col_indices.shape} and should be (7,).')\n",
        "print(f'Column indices of the 2nd largest values in each row are:\\n{col_indices}')\n",
        "print('They should be\\n[3 0 3 2 3 1 2]')\n",
        "print(f\"Dtype is {col_indices.dtype} as it should be <dtype: 'int32'>\")\n",
        "\n"
      ]
    },
    {
      "cell_type": "markdown",
      "metadata": {
        "id": "9T7OYLtR0nuB"
      },
      "source": [
        "### 1e. (ii) Generating sequences of values\n",
        "\n",
        "Generate a 1D Tensor of `tf.int32` values that go from 0 to the number of rows in `my_tensor` - 1, in steps of 1."
      ]
    },
    {
      "cell_type": "code",
      "execution_count": 9,
      "metadata": {
        "colab": {
          "base_uri": "https://localhost:8080/"
        },
        "id": "QJg9N97C0nuC",
        "outputId": "47b2312b-7e96-4ea4-d9d9-60768c68f0d9"
      },
      "outputs": [
        {
          "name": "stdout",
          "output_type": "stream",
          "text": [
            "Row indices shape is (7,) and should be (7,).\n",
            "Your row indices are:\n",
            "[0 1 2 3 4 5 6]\n",
            "They should be\n",
            "[0 1 2 3 4 5 6]\n",
            "Dtype is <dtype: 'int32'> as it should be <dtype: 'int32'>\n"
          ]
        }
      ],
      "source": [
        "# YOUR CODE HERE\n",
        "array = np.arange(0, my_tensor.shape[0], 1)\n",
        "row_indices = tf.convert_to_tensor(array, tf.int32)\n",
        "print(f'Row indices shape is {row_indices.shape} and should be (7,).')\n",
        "print(f'Your row indices are:\\n{row_indices}')\n",
        "print('They should be\\n[0 1 2 3 4 5 6]')\n",
        "print(f\"Dtype is {row_indices.dtype} as it should be <dtype: 'int32'>\")"
      ]
    },
    {
      "cell_type": "markdown",
      "metadata": {
        "id": "E9mk3s2I0nuC"
      },
      "source": [
        "### 1e. (iii) Stacking multiple Tensors together\n",
        "\n",
        "Now you have a list of row indices (`row_indices`) and a list of column indices (`col_indices`). Write code to stack them into a single Tensor where the first column holds the row indices and the second column holds the column indices. In other words, we are creating row-col index pairs in each row.\n",
        "\n",
        "Example:\n",
        "`rows: [0, 1, 2]`\n",
        "`cols: [9, 8, 7]`\n",
        "\n",
        "We want combined:\n",
        "```\n",
        "0, 9\n",
        "1, 8\n",
        "2, 7\n",
        "```"
      ]
    },
    {
      "cell_type": "code",
      "execution_count": 10,
      "metadata": {
        "colab": {
          "base_uri": "https://localhost:8080/"
        },
        "id": "BatvNSjK0nuD",
        "outputId": "510f180c-68ec-4ff8-bd90-b28d1c1b9cb5"
      },
      "outputs": [
        {
          "name": "stdout",
          "output_type": "stream",
          "text": [
            "Rows are: [0 1 2 3 4 5 6]\n",
            "Cols are: [3 0 3 2 3 1 2]\n",
            "Your combined Tensor is:\n",
            "[[0 3]\n",
            " [1 0]\n",
            " [2 3]\n",
            " [3 2]\n",
            " [4 3]\n",
            " [5 1]\n",
            " [6 2]] and it should be:\n",
            "[[0 3]\n",
            " [1 1]\n",
            " [2 0]\n",
            " [3 2]\n",
            " [4 3]\n",
            " [5 1]\n",
            " [6 2]]\n"
          ]
        }
      ],
      "source": [
        "# YOUR CODE HERE  !!!!!seems to have an error on the notebooks end\n",
        "rc_indices = tf.stack([row_indices, col_indices], 1)\n",
        "\n",
        "\n",
        "print(f'Rows are: {row_indices}')\n",
        "print(f'Cols are: {col_indices}')\n",
        "print(f'Your combined Tensor is:\\n{rc_indices} and it should be:')\n",
        "print('''[[0 3]\n",
        " [1 1]\n",
        " [2 0]\n",
        " [3 2]\n",
        " [4 3]\n",
        " [5 1]\n",
        " [6 2]]''')\n"
      ]
    },
    {
      "cell_type": "markdown",
      "metadata": {
        "id": "lW3VE3-e0nuD"
      },
      "source": [
        "### 1e. (iv) Creating a mask in TensorFlow\n",
        "\n",
        "Let's say we want to create a Tensor of all 0s, except have some constant value at the locations of the 2nd largest items you found above in `my_tensor`. This Tensor should have the same shape as `my_tensor`. Let's make that constant value `99` here. Figure out how to use the TensorFlow function [scatter_nd](https://www.tensorflow.org/api_docs/python/tf/scatter_nd) to accomplish this.\n",
        "\n",
        "*Creating a Tensor that is the same shape as the original Tensor with all 0s except at preset locations is called a **mask**.*"
      ]
    },
    {
      "cell_type": "code",
      "execution_count": 11,
      "metadata": {
        "colab": {
          "base_uri": "https://localhost:8080/"
        },
        "id": "64Jmhk_B0nuD",
        "outputId": "e33bd622-1e6d-40cc-f8b6-9560e856c747"
      },
      "outputs": [
        {
          "name": "stdout",
          "output_type": "stream",
          "text": [
            "(7, 4)\n",
            "updated tensor is:\n",
            "[[ 0.  0.  0. 99.]\n",
            " [99.  0.  0.  0.]\n",
            " [ 0.  0.  0. 99.]\n",
            " [ 0.  0. 99.  0.]\n",
            " [ 0.  0.  0. 99.]\n",
            " [ 0. 99.  0.  0.]\n",
            " [ 0.  0. 99.  0.]] and should be:\n",
            "[[ 0.  0.  0. 99.]\n",
            " [99.  0.  0.  0.]\n",
            " [ 0.  0.  0. 99.]\n",
            " [ 0.  0. 99.  0.]\n",
            " [ 0.  0.  0. 99.]\n",
            " [ 0. 99.  0.  0.]\n",
            " [ 0.  0. 99.  0.]]\n",
            "Column indices of the 2nd largest values in each row are:\n",
            "[3 0 3 2 3 1 2]\n",
            "They should be\n",
            "[3 0 3 2 3 1 2]\n",
            "Dtype is <dtype: 'int32'> as it should be <dtype: 'int32'>\n"
          ]
        }
      ],
      "source": [
        "# YOUR CODE HERE\n",
        "print(my_tensor.shape)\n",
        "mask_tensor = tf.scatter_nd(rc_indices, tf.ones(my_tensor.shape[0])*99, my_tensor.shape)\n",
        "\n",
        "print(f'updated tensor is:\\n{mask_tensor} and should be:')\n",
        "print('''[[ 0.  0.  0. 99.]\n",
        " [99.  0.  0.  0.]\n",
        " [ 0.  0.  0. 99.]\n",
        " [ 0.  0. 99.  0.]\n",
        " [ 0.  0.  0. 99.]\n",
        " [ 0. 99.  0.  0.]\n",
        " [ 0.  0. 99.  0.]]''')\n",
        "print(f'Column indices of the 2nd largest values in each row are:\\n{tf.squeeze(col_indices)}')\n",
        "print('They should be\\n[3 0 3 2 3 1 2]')\n",
        "print(f\"Dtype is {col_indices.dtype} as it should be <dtype: 'int32'>\")\n",
        "\n"
      ]
    },
    {
      "cell_type": "markdown",
      "metadata": {
        "id": "brWh1yOS0nuF"
      },
      "source": [
        "### 1e. (v) Updating a Tensor\n",
        "\n",
        "Recall that we cannot use assignment to update values in Tensors, but it is actually still possible to update them. Update the 2nd largest values in each row of `my_tensor`, replacing them with `99`. *This is just like the previous subtask, except the Tensor has the original values instead of `0`s in the non-`99` entries.*\n",
        "\n",
        "**Hint:** There is a helpful function that is very similar in name to `scatter_nd`. The name is very long..."
      ]
    },
    {
      "cell_type": "code",
      "execution_count": 12,
      "metadata": {
        "colab": {
          "base_uri": "https://localhost:8080/"
        },
        "id": "cv4-2Zxd0nuG",
        "outputId": "4fc1975f-bb9d-40d7-e8c9-4706d7d2b6b1"
      },
      "outputs": [
        {
          "name": "stdout",
          "output_type": "stream",
          "text": [
            "The updated my_tensor is:\n",
            "[[ 7.  3.  1. 99.]\n",
            " [99.  2.  2.  3.]\n",
            " [ 7.  3.  4. 99.]\n",
            " [ 1.  6. 99.  0.]\n",
            " [ 1.  7.  2. 99.]\n",
            " [ 1. 99.  9.  2.]\n",
            " [ 9.  2. 99.  4.]] and it should be\n",
            "[[ 7.  3.  1. 99.]\n",
            " [99.  2.  2.  3.]\n",
            " [ 7.  3.  4. 99.]\n",
            " [ 1.  6. 99.  0.]\n",
            " [ 1.  7.  2. 99.]\n",
            " [ 1. 99.  9.  2.]\n",
            " [ 9.  2. 99.  4.]]\n"
          ]
        }
      ],
      "source": [
        "# YOUR CODE HERE\n",
        "updated_tensor = tf.tensor_scatter_nd_update(my_tensor, rc_indices, tf.ones(my_tensor.shape[0])*99)\n",
        "\n",
        "\n",
        "print(f'The updated my_tensor is:\\n{updated_tensor} and it should be')\n",
        "print('''[[ 7.  3.  1. 99.]\n",
        " [99.  2.  2.  3.]\n",
        " [ 7.  3.  4. 99.]\n",
        " [ 1.  6. 99.  0.]\n",
        " [ 1.  7.  2. 99.]\n",
        " [ 1. 99.  9.  2.]\n",
        " [ 9.  2. 99.  4.]]''')"
      ]
    },
    {
      "cell_type": "markdown",
      "metadata": {
        "id": "QtluLMPd0nuG"
      },
      "source": [
        "### 1f. Generating random numbers\n",
        "\n",
        "Generate 7 uniformly random floats between -1 (inclusive) and +1 (exclusive)."
      ]
    },
    {
      "cell_type": "code",
      "execution_count": 13,
      "metadata": {
        "colab": {
          "base_uri": "https://localhost:8080/"
        },
        "id": "KSNeqN_n0nuG",
        "outputId": "a77ea317-aabe-49cc-9c16-70de6c3690dd"
      },
      "outputs": [
        {
          "name": "stdout",
          "output_type": "stream",
          "text": [
            "Your random numbers are:\n",
            "[[-0.416 -0.587  0.071  0.123 -0.167  0.616 -0.014]]\n",
            "and should be\n",
            "[-0.416 -0.587  0.071  0.123 -0.167  0.616 -0.014]\n"
          ]
        }
      ],
      "source": [
        "tf.random.set_seed(0)  # KEEP ME\n",
        "\n",
        "# YOUR CODE HERE\n",
        "rand_nums = tf.random.uniform((1,7), -1, 1)\n",
        "\n",
        "print(f'Your random numbers are:\\n{rand_nums}\\nand should be\\n[-0.416 -0.587  0.071  0.123 -0.167  0.616 -0.014]')"
      ]
    },
    {
      "cell_type": "markdown",
      "metadata": {
        "id": "9OzzqEja0nud"
      },
      "source": [
        "### 1g. Exchanging rows and columns\n",
        "\n",
        "Exchange the rows and columns of the Tensor `a` below."
      ]
    },
    {
      "cell_type": "code",
      "execution_count": 14,
      "metadata": {
        "colab": {
          "base_uri": "https://localhost:8080/"
        },
        "id": "R3h8SHSj0nue",
        "outputId": "4731f79c-d143-47b6-857c-652802710ad1"
      },
      "outputs": [
        {
          "name": "stdout",
          "output_type": "stream",
          "text": [
            "Your tensor:\n",
            "[[1 4]\n",
            " [2 5]\n",
            " [3 6]] and it should be:\n",
            "[[1 4]\n",
            " [2 5]\n",
            " [3 6]]\n"
          ]
        }
      ],
      "source": [
        "a = tf.constant([[1, 2, 3], [4, 5, 6]])\n",
        "\n",
        "# YOUR CODE HERE\n",
        "a1 = tf.transpose(a)\n",
        "\n",
        "print(f'Your tensor:\\n{a1} and it should be:')\n",
        "print('''[[1 4]\n",
        " [2 5]\n",
        " [3 6]]''')"
      ]
    },
    {
      "cell_type": "markdown",
      "metadata": {
        "id": "uROFeVwr0nue"
      },
      "source": [
        "### 1h. Indexing a tensor with non-contiguous indices\n",
        "\n",
        "Let's say we have the Tensor below:\n",
        "\n",
        "```\n",
        "[[ 0  1  2  3]\n",
        " [ 4  5  6  7]\n",
        " [ 8  9 10 11]\n",
        " [12 13 14 15]\n",
        " [16 17 18 19]\n",
        " [20 21 22 23]]\n",
        "```\n",
        "\n",
        "and we wanted to index into it so that we extract the 1st row, the last row, the 2nd row, the 2nd to last row, ... (in that order):\n",
        "\n",
        "```\n",
        "[[ 0,  1,  2,  3],\n",
        " [20, 21, 22, 23],\n",
        " [ 4,  5,  6,  7],\n",
        " [16, 17, 18, 19],\n",
        " [ 8,  9, 10, 11],\n",
        " [12, 13, 14, 15]]\n",
        "```\n",
        "\n",
        "In one line of code, use a function to accomplish this indexing operation (i.e. no square bracket syntax).\n",
        "\n",
        "**Hint:** This function was included in the TensorFlow tutorial from last semester, but we didn't actually use it for anything at the time..."
      ]
    },
    {
      "cell_type": "code",
      "execution_count": 15,
      "metadata": {
        "colab": {
          "base_uri": "https://localhost:8080/"
        },
        "id": "W2-yENJr0nuf",
        "outputId": "ef8b239a-87d2-49fb-cf2f-05908ff0e9c9"
      },
      "outputs": [
        {
          "name": "stdout",
          "output_type": "stream",
          "text": [
            "Your tensor is:\n",
            "[[ 0  1  2  3]\n",
            " [ 4  5  6  7]\n",
            " [ 8  9 10 11]\n",
            " [12 13 14 15]\n",
            " [16 17 18 19]\n",
            " [20 21 22 23]]\n",
            "Your reordered tensor is:\n",
            "[[ 0  1  2  3]\n",
            " [20 21 22 23]\n",
            " [ 4  5  6  7]\n",
            " [16 17 18 19]\n",
            " [ 8  9 10 11]\n",
            " [12 13 14 15]] and should be\n",
            "[[ 0  1  2  3]\n",
            " [20 21 22 23]\n",
            " [ 4  5  6  7]\n",
            " [16 17 18 19]\n",
            " [ 8  9 10 11]\n",
            " [12 13 14 15]]\n"
          ]
        }
      ],
      "source": [
        "tensor = tf.reshape(tf.range(24), [6, 4])\n",
        "indices = [0, 5, 1, 4, 2, 3]  # List of inds of rows to extract from tensor (in that order).\n",
        "\n",
        "# YOUR CODE HERE\n",
        "\n",
        "tensor_reordered = tf.gather(tensor, indices)\n",
        "print(f'Your tensor is:\\n{tensor}')\n",
        "print(f'Your reordered tensor is:\\n{tensor_reordered} and should be')\n",
        "print('''[[ 0  1  2  3]\n",
        " [20 21 22 23]\n",
        " [ 4  5  6  7]\n",
        " [16 17 18 19]\n",
        " [ 8  9 10 11]\n",
        " [12 13 14 15]]''')\n",
        "\n"
      ]
    },
    {
      "cell_type": "markdown",
      "metadata": {
        "id": "5fs4-DMB0nuh"
      },
      "source": [
        "### 1i. Summing along an axis while preserving the number of dimensions\n",
        "\n",
        "The below operation `op` subtracts the sum of values within each row and normalizes so that the max within each column is 1. Your task is to define `row_sum`, which is the sum of all entries within each row. `row_sum` needs to retain a 2D shape for `op` not to crash (something like `(3, 1)`, not something that looks like `(3,)`)."
      ]
    },
    {
      "cell_type": "code",
      "execution_count": 16,
      "metadata": {
        "colab": {
          "base_uri": "https://localhost:8080/"
        },
        "id": "C7wJ1IRQ0nuj",
        "outputId": "cd8bafe4-5ed2-4f0b-dee5-84db4ac65123"
      },
      "outputs": [
        {
          "name": "stdout",
          "output_type": "stream",
          "text": [
            "The result of the operation is tensor is:\n",
            "[[0.538 0.48  0.417 0.375]\n",
            " [1.    1.    1.    1.   ]\n",
            " [0.115 0.16  0.208 0.25 ]] and it should be\n",
            "[[0.538 0.48  0.417 0.375]\n",
            " [1.    1.    1.    1.   ]\n",
            " [0.115 0.16  0.208 0.25 ]]\n"
          ]
        }
      ],
      "source": [
        "new_tensor = tf.constant([[1, 3, 5, 6], [7, 8, 9, 9], [3, 2, 1, 0]], dtype=tf.float32)\n",
        "\n",
        "# YOUR CODE HERE\n",
        "\n",
        "row_sum = tf.reduce_sum(new_tensor, axis = 1, keepdims=True)\n",
        "\n",
        "\n",
        "op = (new_tensor - row_sum) / (tf.constant([-26, -25, -24, -24], dtype=tf.float32))\n",
        "print(f'The result of the operation is tensor is:\\n{op} and it should be')\n",
        "print('''[[0.538 0.48  0.417 0.375]\n",
        " [1.    1.    1.    1.   ]\n",
        " [0.115 0.16  0.208 0.25 ]]''')\n",
        "\n"
      ]
    },
    {
      "cell_type": "markdown",
      "metadata": {
        "id": "p5zzDRo80nuj"
      },
      "source": [
        "### 1j. Checking the device on which TensorFlow is executing your code\n",
        "\n",
        "Below, print out:\n",
        "\n",
        "1. the list of physical devices Tensorflow has access to on your computer that are of type `'CPU'`. For most of you, there should be one physical device entry that mentions \"CPU\".\n",
        "2. the list of physical devices Tensorflow has access to on your computer that are of type `'GPU'`. For most of you, this could be an empty list.\n",
        "\n",
        "An example printout is:\n",
        "\n",
        "```\n",
        "CPU devices:\n",
        "[PhysicalDevice(name='/physical_device:CPU:0', device_type='CPU')]\n",
        "GPU devices:\n",
        "[]\n",
        "```"
      ]
    },
    {
      "cell_type": "code",
      "execution_count": 17,
      "metadata": {
        "colab": {
          "base_uri": "https://localhost:8080/"
        },
        "id": "oJrPtbyV0nuk",
        "outputId": "8b26677b-65bb-4e83-d3b8-7062eebfbb72"
      },
      "outputs": [
        {
          "name": "stdout",
          "output_type": "stream",
          "text": [
            "CPU devices:\n",
            "[PhysicalDevice(name='/physical_device:CPU:0', device_type='CPU')]\n",
            "GPU devices:\n",
            "[PhysicalDevice(name='/physical_device:GPU:0', device_type='GPU')]\n"
          ]
        }
      ],
      "source": [
        "print('CPU devices:')\n",
        "print(tf.config.list_physical_devices('CPU'))\n",
        "print('GPU devices:')\n",
        "print(tf.config.list_physical_devices('GPU'))\n"
      ]
    },
    {
      "cell_type": "markdown",
      "metadata": {
        "id": "kFuxH8KV0nul"
      },
      "source": [
        "### 1k. Throwback to NumPy: logical indexing\n",
        "\n",
        "This subtask involves NumPy, not TensorFlow.\n",
        "\n",
        "In one line of code, use logical indexing to replace all positive values in the below 2D ndarray with 1s."
      ]
    },
    {
      "cell_type": "code",
      "execution_count": 18,
      "metadata": {
        "colab": {
          "base_uri": "https://localhost:8080/"
        },
        "id": "yUrGFGsb0nuo",
        "outputId": "640df5e6-86ea-4a42-bc48-847a77155a14"
      },
      "outputs": [
        {
          "name": "stdout",
          "output_type": "stream",
          "text": [
            "After the replacement, your array looks like:\n",
            "[[ 1.     1.     1.     1.    -0.076  1.    -0.062  1.     1.    -0.117]\n",
            " [ 1.     1.     1.     1.    -0.429 -0.413 -0.48   1.     1.     1.   ]]\n",
            "and it should look like\n",
            "[[ 1.     1.     1.     1.    -0.076  1.    -0.062  1.     1.    -0.117]\n",
            " [ 1.     1.     1.     1.    -0.429 -0.413 -0.48   1.     1.     1.   ]]\n"
          ]
        }
      ],
      "source": [
        "np.random.seed(0)\n",
        "arr = np.random.uniform(-0.5, 0.5, size=(2, 10))\n",
        "\n",
        "# YOUR CODE HERE\n",
        "arr = np.where(arr>0,1,arr)\n",
        "\n",
        "print(f'After the replacement, your array looks like:\\n{arr}')\n",
        "print('and it should look like')\n",
        "print('''[[ 1.     1.     1.     1.    -0.076  1.    -0.062  1.     1.    -0.117]\n",
        " [ 1.     1.     1.     1.    -0.429 -0.413 -0.48   1.     1.     1.   ]]''')"
      ]
    },
    {
      "cell_type": "markdown",
      "metadata": {
        "id": "GpO0OIy40nup"
      },
      "source": [
        "## Task 2: MNIST Dataset\n",
        "\n",
        "This task focuses on accessing and preprocessing MNIST, a popular image dataset that we will use throughout the semester. MNIST has 60,000 training samples and 10,000 test samples. Each sample is a `28x28` image of a hand written digit. The digit in each sample image is the class label. The digit may be any in the range `0-9` ($C = 10$)."
      ]
    },
    {
      "cell_type": "code",
      "execution_count": 19,
      "metadata": {
        "id": "OVsk3xAs0nup"
      },
      "outputs": [],
      "source": [
        "from mnist import get_mnist"
      ]
    },
    {
      "cell_type": "markdown",
      "metadata": {
        "id": "--Ovb7Nr0nup"
      },
      "source": [
        "### 2a. Load and preprocess MNIST\n",
        "\n",
        "Implement and test `get_mnist(N_val, path)` and other helper functions in `mnist.py` to load in MNIST, preprocess the dataset, then create train/validation/test splits."
      ]
    },
    {
      "cell_type": "code",
      "execution_count": 20,
      "metadata": {
        "colab": {
          "base_uri": "https://localhost:8080/"
        },
        "id": "UDXFnwDP0nuq",
        "outputId": "acc10194-f9ae-4164-caaa-7eae36103c62"
      },
      "outputs": [
        {
          "name": "stdout",
          "output_type": "stream",
          "text": [
            "Preprocessed shapes:\n",
            "x_train.shape=TensorShape([59000, 784]) x_test.shape=TensorShape([10000, 784]) x_val.shape=TensorShape([1000, 784])\n",
            "y_train.shape=TensorShape([59000]) y_test.shape=TensorShape([10000]) y_val.shape=TensorShape([1000])\n",
            "--------------\n",
            "Train min/max: 0.0/1.0\n",
            "Validation min/max: 0.0/1.0\n",
            "Test min/max: 0.0/1.0\n",
            "Training samples x_train.dtype=tf.float32, Validation samples x_val.dtype=tf.float32, Test samples x_test.dtype=tf.float32\n",
            "Training labels y_train.dtype=tf.int64, Validation labels y_val.dtype=tf.int64, Test labels y_test.dtype=tf.int64\n",
            "Labels present in training set: [0 1 2 3 4 5 6 7 8 9]\n",
            "Labels present in validation set: [0 1 2 3 4 5 6 7 8 9]\n",
            "Labels present  in test set: [0 1 2 3 4 5 6 7 8 9]\n",
            "First 5 training labels: [9 3 3 0 0]\n",
            "First 5 validation labels: [9 3 7 3 4]\n",
            "First 5 test labels: [9 1 0 9 2]\n"
          ]
        }
      ],
      "source": [
        "x_train, y_train, x_test, y_test, x_val, y_val = get_mnist(1000)\n",
        "\n",
        "print('Preprocessed shapes:')\n",
        "print(f'{x_train.shape=} {x_test.shape=} {x_val.shape=}\\n{y_train.shape=} {y_test.shape=} {y_val.shape=}')\n",
        "print('--------------')\n",
        "print(f'Train min/max: {tf.reduce_min(x_train)}/{tf.reduce_max(x_train)}')\n",
        "print(f'Validation min/max: {tf.reduce_min(x_val)}/{tf.reduce_max(x_val)}')\n",
        "print(f'Test min/max: {tf.reduce_min(x_test)}/{tf.reduce_max(x_test)}')\n",
        "print(f'Training samples {x_train.dtype=}, Validation samples {x_val.dtype=}, Test samples {x_test.dtype=}')\n",
        "print(f'Training labels {y_train.dtype=}, Validation labels {y_val.dtype=}, Test labels {y_test.dtype=}')\n",
        "print(f'Labels present in training set: {tf.sort(tf.unique(y_train)[0])}')\n",
        "print(f'Labels present in validation set: {tf.sort(tf.unique(y_val)[0])}')\n",
        "print(f'Labels present  in test set: {tf.sort(tf.unique(y_test)[0])}')\n",
        "print(f'First 5 training labels: {y_train[:5]}')\n",
        "print(f'First 5 validation labels: {y_val[:5]}')\n",
        "print(f'First 5 test labels: {y_test[:5]}')"
      ]
    },
    {
      "cell_type": "markdown",
      "metadata": {
        "id": "n9tU5Ydk0nuq"
      },
      "source": [
        "You should see:\n",
        "\n",
        "    Preprocessed shapes:\n",
        "    x_train.shape=TensorShape([59000, 784]) x_test.shape=TensorShape([10000, 784]) x_val.shape=TensorShape([1000, 784])\n",
        "    y_train.shape=(59000,) y_test.shape=(10000,) y_val.shape=(1000,)\n",
        "    --------------\n",
        "    Train min/max: 0.0/1.0\n",
        "    Validation min/max: 0.0/1.0\n",
        "    Test min/max: 0.0/1.0\n",
        "    Training samples x_train.dtype=tf.float32, Validation samples x_val.dtype=tf.float32, Test samples x_test.dtype=tf.float32\n",
        "    Training labels y_train.dtype=dtype('int64'), Validation labels y_val.dtype=dtype('int64'), Test labels y_test.dtype=dtype('int64')\n",
        "    Labels present in training set: [0 1 2 3 4 5 6 7 8 9]\n",
        "    Labels present in validation set: [0 1 2 3 4 5 6 7 8 9]\n",
        "    Labels present  in test set: [0 1 2 3 4 5 6 7 8 9]\n",
        "    First 5 training labels: [9 3 3 0 0]\n",
        "    First 5 validation labels: [9 3 7 3 4]\n",
        "    First 5 test labels: [9 1 0 9 2]"
      ]
    },
    {
      "cell_type": "markdown",
      "metadata": {
        "id": "IXbxerXL0nuq"
      },
      "source": [
        "### 2b. Visualize MNIST samples\n",
        "\n",
        "Use `draw_grid_image()` in `viz.py` in the cell below to create a `10x10` grid of the first 100 MNIST validation sample images. Be sure to convert the 1st 100 samples from Tensor to NumPy ndarray format before passing them into `draw_grid_image`.\n",
        "\n",
        "This function places the image samples on a *single canvas* image (i.e. does not create subplots). Plotting one image instead an 2D array is more efficient (*you will be using this to visualize weights many times during training)*!\n",
        "\n",
        "If you selected the first `N_val` samples for your validation set, the first two rows of your image should consist of the following digits:\n",
        "\n",
        "```\n",
        "[[9 3 7 3 4 5 9 1 2 4]\n",
        " [9 7 8 8 4 1 2 8 4 2]]\n",
        "```"
      ]
    },
    {
      "cell_type": "code",
      "execution_count": 21,
      "metadata": {
        "id": "8hLPXP6L0nuy"
      },
      "outputs": [],
      "source": [
        "from viz import draw_grid_image"
      ]
    },
    {
      "cell_type": "code",
      "execution_count": 22,
      "metadata": {
        "colab": {
          "base_uri": "https://localhost:8080/",
          "height": 471
        },
        "id": "xMNAMyXk0nu0",
        "outputId": "a1b3e781-ba9e-4be1-8df9-909f17207c52"
      },
      "outputs": [
        {
          "name": "stdout",
          "output_type": "stream",
          "text": [
            "(1000, 784)\n",
            "(1000, 28, 28, 1)\n"
          ]
        },
        {
          "data": {
            "image/png": "[encoded data removed]",
            "text/plain": [
              "<Figure size 640x480 with 2 Axes>"
            ]
          },
          "metadata": {},
          "output_type": "display_data"
        }
      ],
      "source": [
        "val_numpy = x_val.numpy()\n",
        "print(val_numpy.shape)\n",
        "val_numpy = np.reshape(val_numpy,(1000,28,28,1))\n",
        "print(val_numpy.shape)\n",
        "\n",
        "\n",
        "draw_grid_image(val_numpy, 10,10,(28,28,1), title = \"First 100 MNIST samples\")"
      ]
    },
    {
      "cell_type": "markdown",
      "metadata": {
        "id": "-NxRD-qs0nu0"
      },
      "source": [
        "## Task 3: Implement and train a single layer classification neural network\n",
        "\n",
        "To help refresh your memory on TensorFlow and artificial neural networks, you will implement a single layer softmax neural network in 100% TensorFlow low-level API (no NumPy). There is nothing different about this network than what you built last semester in the MLP project. This warm-up task will allow you to practice design skills that you have developed in CS 343 and apply them to a new situation. It is important that your code is 100% TensorFlow because you will train the network in Task 4 using a graphics processing unit (GPU) on the MNIST dataset that you prepared from Task 2. **You will be re-using this code in Project 1 so write efficient and clean code.**\n",
        "\n",
        "I encourage you to consult code and in-class tutorials from last semester to help jog your memory."
      ]
    },
    {
      "cell_type": "code",
      "execution_count": 23,
      "metadata": {
        "id": "66dhfL8J0nu0"
      },
      "outputs": [],
      "source": [
        "from single_layer_net import SingleLayerNetwork"
      ]
    },
    {
      "cell_type": "markdown",
      "metadata": {
        "id": "m4I9lziT0nu1"
      },
      "source": [
        "### 3a. Implement `SingleLayerNetwork` class: basics\n",
        "\n",
        "In `single_layer_net`, `SingleLayerNetwork` is a parent class and implements general features that any single layer network should have. *There will be specific single layer neural networks below and in Project 1 that inherit from `SingleLayerNetwork`.*\n",
        "\n",
        "Start by implementing methods in the parent class that all the neural networks will share. Use the below test code to help you along.\n",
        "\n",
        "- Constructor\n",
        "- `get_wts(self)`\n",
        "- `get_b(self)`\n",
        "- `set_wts(self)`\n",
        "- `set_b(self)`\n",
        "- `one_hot(self, y, C, off_value=0)`\n",
        "- `accuracy(self, y_true, y_pred)`\n",
        "\n",
        "**Reminder:** All code in `single_layer_net.py` should be built using TensorFlow only (no Numpy). So there is no need to import numpy."
      ]
    },
    {
      "cell_type": "markdown",
      "metadata": {
        "id": "uAI9ah2G0nu1"
      },
      "source": [
        "#### Test: weight and bias initialization"
      ]
    },
    {
      "cell_type": "code",
      "execution_count": 24,
      "metadata": {
        "colab": {
          "base_uri": "https://localhost:8080/"
        },
        "id": "JlbKkjPV0nu2",
        "outputId": "c44f9a44-20ad-41a4-ef9f-29c1abb9c1ce"
      },
      "outputs": [
        {
          "name": "stdout",
          "output_type": "stream",
          "text": [
            "Your wts are:\n",
            "<tf.Variable 'Variable:0' shape=(3, 2) dtype=float32, numpy=\n",
            "array([[ 0.015,  0.004],\n",
            "       [-0.004, -0.01 ],\n",
            "       [-0.012,  0.005]], dtype=float32)>\n",
            "and should be:\n",
            "<tf.Variable 'Variable:0' shape=(3, 2) dtype=float32, numpy=\n",
            "array([[ 0.015,  0.004],\n",
            "       [-0.004, -0.01 ],\n",
            "       [-0.012,  0.005]], dtype=float32)>\n",
            "\n",
            "Your bias is:\n",
            "<tf.Variable 'Variable:0' shape=(2, 1) dtype=float32, numpy=\n",
            "array([[0.011],\n",
            "       [0.002]], dtype=float32)>\n",
            "and should be\n",
            "<tf.Variable 'Variable:0' shape=(2,) dtype=float32, numpy=array([0.011, 0.002], dtype=float32)> \n"
          ]
        }
      ],
      "source": [
        "tf.random.set_seed(0)\n",
        "M, C = 3, 2\n",
        "nl = SingleLayerNetwork(M, C, wt_stdev=0.01)\n",
        "wts = nl.get_wts()\n",
        "b = nl.get_b()\n",
        "print(f\"Your wts are:\\n{wts}\\nand should be:\")\n",
        "print(\"\"\"<tf.Variable 'Variable:0' shape=(3, 2) dtype=float32, numpy=\n",
        "array([[ 0.015,  0.004],\n",
        "       [-0.004, -0.01 ],\n",
        "       [-0.012,  0.005]], dtype=float32)>\"\"\")\n",
        "print(f\"\\nYour bias is:\\n{b}\\nand should be\")\n",
        "print(\"\"\"<tf.Variable 'Variable:0' shape=(2,) dtype=float32, numpy=array([0.011, 0.002], dtype=float32)> \"\"\")"
      ]
    },
    {
      "cell_type": "markdown",
      "metadata": {
        "id": "R76VPM5W0nu2"
      },
      "source": [
        "#### Test: one-hot"
      ]
    },
    {
      "cell_type": "code",
      "execution_count": 25,
      "metadata": {
        "colab": {
          "base_uri": "https://localhost:8080/"
        },
        "id": "orVojIcO0nu2",
        "outputId": "9fac9be3-07fd-4496-a20e-a9d35e5d1808"
      },
      "outputs": [
        {
          "name": "stdout",
          "output_type": "stream",
          "text": [
            "Your one-hot coding of [0 3 2 4] is:\n",
            "[[1 0 0 0 0]\n",
            " [0 0 0 1 0]\n",
            " [0 0 1 0 0]\n",
            " [0 0 0 0 1]]\n",
            "and should be:\n",
            "[[1 0 0 0 0]\n",
            " [0 0 0 1 0]\n",
            " [0 0 1 0 0]\n",
            " [0 0 0 0 1]]\n"
          ]
        }
      ],
      "source": [
        "C = 5\n",
        "y = tf.constant([0, 3, 2, 4])\n",
        "nl = SingleLayerNetwork(1, C)\n",
        "print(f'Your one-hot coding of {y} is:')\n",
        "tf.print(nl.one_hot(y, C))\n",
        "print('and should be:\\n[[1 0 0 0 0]\\n [0 0 0 1 0]\\n [0 0 1 0 0]\\n [0 0 0 0 1]]')"
      ]
    },
    {
      "cell_type": "markdown",
      "metadata": {
        "id": "lqY325140nu2"
      },
      "source": [
        "#### Test: accuracy"
      ]
    },
    {
      "cell_type": "code",
      "execution_count": 26,
      "metadata": {
        "colab": {
          "base_uri": "https://localhost:8080/"
        },
        "id": "-nVzQ-do0nu2",
        "outputId": "8162374c-5f81-4dfc-f256-8435942c699f"
      },
      "outputs": [
        {
          "name": "stdout",
          "output_type": "stream",
          "text": [
            "Your accuracy is 0.67 and should be 0.67\n"
          ]
        }
      ],
      "source": [
        "nl = SingleLayerNetwork(1, 1)\n",
        "y1 = tf.constant([1, 2, 3, 1, 2, 3])\n",
        "y2 = tf.constant([1, 0, 3, 1, 0, 3])\n",
        "acc = nl.accuracy(y1, y2)\n",
        "print(f'Your accuracy is {acc:.2f} and should be 0.67')"
      ]
    },
    {
      "cell_type": "markdown",
      "metadata": {
        "id": "KxXsmJ0O0nu3"
      },
      "source": [
        "### 3b. Implement `SoftmaxNet` class\n",
        "\n",
        "Create a class in `single_layer_net.py` called `SoftmaxNet` that inherits from `SingleLayerNetwork`. Implement and test the following methods in your `SoftmaxNet` class:\n",
        "- `forward(self, x):` Do the forward pass with samples `x`. For the softmax network, this is Dense netIn followed by softmax netAct.\n",
        "- `loss(self, yh, net_act):` Computes cross-entropy loss with true classes `yh` (one-hot coded) and `net_act`.\n",
        "\n",
        "\n",
        "For cross-entropy loss, you can use the \"one-hot version\" of the equation (*since true class values $\\vec{yh}$ are one-hot coded coming in*):\n",
        "\n",
        "$$L = -\\frac{1}{B} \\sum_{i=1}^B \\sum_{c=1}^C yh_{ic} \\times log(\\text{netAct}_{ic})$$\n",
        "\n",
        "where $B$ is the mini-batch size and $C$ is the number of classes, like usual.\n",
        "\n",
        "#### Tips\n",
        "- If you are getting type compatibility problems, try casting to `tf.float32`."
      ]
    },
    {
      "cell_type": "code",
      "execution_count": 27,
      "metadata": {
        "id": "IMxZjdN20nu3"
      },
      "outputs": [],
      "source": [
        "from single_layer_net import SoftmaxNet"
      ]
    },
    {
      "cell_type": "markdown",
      "metadata": {
        "id": "Ej5flbKd0nu3"
      },
      "source": [
        "#### Test forward"
      ]
    },
    {
      "cell_type": "code",
      "execution_count": 28,
      "metadata": {
        "colab": {
          "base_uri": "https://localhost:8080/"
        },
        "id": "oBUDGfCz0nu3",
        "outputId": "b189d02b-cb5a-470d-bf1e-d2dfb0389b88"
      },
      "outputs": [
        {
          "name": "stdout",
          "output_type": "stream",
          "text": [
            "Your net_act is:\n",
            "[[0.172 0.209 0.186 0.248 0.185]\n",
            " [0.151 0.201 0.138 0.292 0.217]\n",
            " [0.181 0.237 0.17  0.237 0.174]\n",
            " [0.166 0.193 0.166 0.272 0.203]]\n",
            "and it should be:\n",
            "[[0.172 0.209 0.186 0.248 0.185]\n",
            " [0.151 0.201 0.138 0.292 0.217]\n",
            " [0.181 0.237 0.17  0.237 0.174]\n",
            " [0.166 0.193 0.166 0.272 0.203]]\n"
          ]
        }
      ],
      "source": [
        "N, M, C = 4, 3, 5\n",
        "\n",
        "# test input samples\n",
        "tf.random.set_seed(0)\n",
        "x = tf.random.normal(shape=(N, M), dtype=tf.float32)\n",
        "\n",
        "sm_net = SoftmaxNet(M, C)\n",
        "sm_net.set_b(tf.constant([-0.062,  0.088, -0.148, 0.3, -0.002], dtype=tf.float32))\n",
        "sm_net.set_wts(tf.constant([[-0.062,  0.112,  0.127, 0.11, 0.12], \\\n",
        "    [ 0.143,  0.04 ,  0.063, -0.11, -0.12], \\\n",
        "    [-0.22 ,  0.189, -0.017, 0.13, 0.14]], dtype=tf.float32))\n",
        "test_net_act = sm_net.forward(x)\n",
        "\n",
        "print(f'Your net_act is:\\n{test_net_act}')\n",
        "print('and it should be:')\n",
        "print(\"\"\"[[0.172 0.209 0.186 0.248 0.185]\n",
        " [0.151 0.201 0.138 0.292 0.217]\n",
        " [0.181 0.237 0.17  0.237 0.174]\n",
        " [0.166 0.193 0.166 0.272 0.203]]\"\"\")"
      ]
    },
    {
      "cell_type": "markdown",
      "metadata": {
        "id": "cJ7He1FG0nu7"
      },
      "source": [
        "#### Test loss"
      ]
    },
    {
      "cell_type": "code",
      "execution_count": 29,
      "metadata": {
        "colab": {
          "base_uri": "https://localhost:8080/"
        },
        "id": "JVZMRdei0nvI",
        "outputId": "b4a45921-446b-47bd-9be1-88ac28211c51"
      },
      "outputs": [
        {
          "name": "stdout",
          "output_type": "stream",
          "text": [
            "Your loss is 1.5895 and it should be 1.5895\n"
          ]
        }
      ],
      "source": [
        "N, M, C = 4, 3, 5\n",
        "\n",
        "# test input samples\n",
        "tf.random.set_seed(0)\n",
        "x = tf.random.normal(shape=(N, M), dtype=tf.float32)\n",
        "\n",
        "sm_net = SoftmaxNet(M, C)\n",
        "sm_net.set_b(tf.constant([-0.062,  0.088, -0.148, 0.3, -0.002], dtype=tf.float32))\n",
        "sm_net.set_wts(tf.constant([[-0.062,  0.112,  0.127, 0.11, 0.12], \\\n",
        "    [ 0.143,  0.04 ,  0.063, -0.11, -0.12], \\\n",
        "    [-0.22 ,  0.189, -0.017, 0.13, 0.14]], dtype=tf.float32))\n",
        "test_net_act = sm_net.forward(x)\n",
        "test_yh = sm_net.one_hot(y, C)\n",
        "test_loss = sm_net.loss(test_yh, test_net_act)\n",
        "\n",
        "print(f'Your loss is {test_loss:.4f} and it should be 1.5895')"
      ]
    },
    {
      "cell_type": "markdown",
      "metadata": {
        "id": "PuOa0HmZ0nvI"
      },
      "source": [
        "### 3c. Single layer network shared functionality (`predict`)\n",
        "\n",
        "Now that you've implemented the specific methods for the softmax net, implement the `predict(self, x, net_act=None)` in the `SingleLayerNetwork` class, which predicts the class of each sample in `x`.\n",
        "\n",
        "To predict the class of sample `i` $c_i^*$, you can use the softmax activations in the output layer:\n",
        "$$c_i^* = argmax_{c}(\\text{netAct}_{ic})$$\n"
      ]
    },
    {
      "cell_type": "markdown",
      "metadata": {
        "id": "8jkMhb6V0nvI"
      },
      "source": [
        "#### Test `predict`"
      ]
    },
    {
      "cell_type": "code",
      "execution_count": 30,
      "metadata": {
        "colab": {
          "base_uri": "https://localhost:8080/"
        },
        "id": "yiixJNYd0nvJ",
        "outputId": "470ec32f-8b5e-4943-9848-b78dfbb88314"
      },
      "outputs": [
        {
          "name": "stdout",
          "output_type": "stream",
          "text": [
            "Your test predicted classes are [1 0 1 1] and they should be [1 0 1 1]\n"
          ]
        }
      ],
      "source": [
        "N, M, C = 4, 3, 3\n",
        "\n",
        "# test input samples\n",
        "tf.random.set_seed(5)\n",
        "x = tf.random.normal(shape=(N, M), dtype=tf.float32)\n",
        "\n",
        "sm_net = SoftmaxNet(M, C)\n",
        "sm_net.set_b(tf.constant([-0.062,  0.088, -0.148], dtype=tf.float32))\n",
        "sm_net.set_wts(tf.constant([[-0.062,  0.112,  0.127], \\\n",
        "    [ 0.143,  0.04 ,  0.063], \\\n",
        "    [-0.22 ,  0.189, -0.017]], dtype=tf.float32))\n",
        "test_preds = sm_net.predict(x)\n",
        "\n",
        "tf.print(f'Your test predicted classes are {test_preds} and they should be [1 0 1 1]')"
      ]
    },
    {
      "cell_type": "markdown",
      "metadata": {
        "id": "LxyXT_Kt0nvJ"
      },
      "source": [
        "### 3d. Single layer network shared functionality (`extract_at_indices` and `fit`)\n",
        "\n",
        "Next implement:\n",
        "- `extract_at_indices(self, x, indices)`: small helper method that that returns the samples or labels (`x`) at the indices `indices`. Useful for forming mini-batches during training.\n",
        "- `fit`"
      ]
    },
    {
      "cell_type": "markdown",
      "metadata": {
        "id": "3nCRZrjh0nvK"
      },
      "source": [
        "#### Test `extract_at_indices`"
      ]
    },
    {
      "cell_type": "code",
      "execution_count": 31,
      "metadata": {
        "colab": {
          "base_uri": "https://localhost:8080/"
        },
        "id": "TTdsP5jl0nvK",
        "outputId": "c646bfa4-15ab-4d68-9b74-981482c1d7cc"
      },
      "outputs": [
        {
          "name": "stdout",
          "output_type": "stream",
          "text": [
            "Test 1:\n",
            "-------\n",
            " test_1_vals=<tf.Tensor: shape=(3, 4), dtype=float32, numpy=\n",
            "array([[ 0.,  1.,  2.,  3.],\n",
            "       [40., 41., 42., 43.],\n",
            "       [ 8.,  9., 10., 11.]], dtype=float32)>\n",
            " and should be\n",
            " test_1_vals=<tf.Tensor: shape=(3, 4), dtype=float32, numpy=\n",
            "array([[ 0.,  1.,  2.,  3.],\n",
            "       [40., 41., 42., 43.],\n",
            "       [ 8.,  9., 10., 11.]], dtype=float32)>\n",
            "Test 2:\n",
            "-------\n",
            " test_2_vals=<tf.Tensor: shape=(4,), dtype=int32, numpy=array([9, 1, 2, 7], dtype=int32)>\n",
            " and should be\n",
            " test_2_vals=<tf.Tensor: shape=(4,), dtype=int32, numpy=array([9, 1, 2, 7], dtype=int32)>\n"
          ]
        }
      ],
      "source": [
        "sd = SoftmaxNet(1, 1)\n",
        "\n",
        "# Test 1\n",
        "test_samples = tf.reshape(tf.range(100, dtype=tf.float32), [25, 4])\n",
        "test_1_inds = tf.constant([0, 10, 2])\n",
        "test_1_vals = sd.extract_at_indices(test_samples, test_1_inds)\n",
        "print(f'Test 1:\\n-------\\n {test_1_vals=}\\n and should be')\n",
        "print(\"\"\" test_1_vals=<tf.Tensor: shape=(3, 4), dtype=float32, numpy=\n",
        "array([[ 0.,  1.,  2.,  3.],\n",
        "       [40., 41., 42., 43.],\n",
        "       [ 8.,  9., 10., 11.]], dtype=float32)>\"\"\")\n",
        "\n",
        "# Test 2\n",
        "tf.random.set_seed(0)\n",
        "test_labels = tf.random.shuffle(tf.range(10))\n",
        "test_2_inds = tf.constant([1, 2, 3, 4])\n",
        "test_2_vals = sd.extract_at_indices(test_labels, test_2_inds)\n",
        "print(f'Test 2:\\n-------\\n {test_2_vals=}\\n and should be')\n",
        "print(\"\"\" test_2_vals=<tf.Tensor: shape=(4,), dtype=int32, numpy=array([9, 1, 2, 7], dtype=int32)>\"\"\")\n"
      ]
    },
    {
      "cell_type": "markdown",
      "metadata": {
        "id": "UC8kckV60nvL"
      },
      "source": [
        "#### Test `fit`"
      ]
    },
    {
      "cell_type": "markdown",
      "metadata": {
        "id": "v8P5WaRz0nvL"
      },
      "source": [
        "Write code in the cell below to train a `SoftmaxNet` on MNIST using the default hyperparameters (1 epoch).\n",
        "\n",
        "After 1 epoch of training, you should get a training and validation losses of ~`2-3` and validation accuracy of ~`14-15%`\n",
        "\n",
        "Suggested information to include in training progress print outs:\n",
        "\n",
        "```\n",
        "Epoch 0/0, Training loss 2.56, Val loss 2.47, Val acc 14.10\n",
        "Finished training after 1 epochs!\n",
        "```"
      ]
    },
    {
      "cell_type": "code",
      "execution_count": 32,
      "metadata": {
        "colab": {
          "base_uri": "https://localhost:8080/"
        },
        "id": "dX9Mm2hw0nvM",
        "outputId": "f926de58-e737-4af3-e05c-62e3b533068e"
      },
      "outputs": [
        {
          "name": "stdout",
          "output_type": "stream",
          "text": [
            "\n",
            "epoch: 0\n",
            "validation accuracy: 0.144\n",
            "validation loss: 2.4534855\n",
            "lr: 0.0001\n",
            "Finished training after 1 epochs!\n"
          ]
        },
        {
          "data": {
            "text/plain": [
              "([<tf.Tensor: shape=(), dtype=float32, numpy=2.559715>],\n",
              " [<tf.Tensor: shape=(), dtype=float32, numpy=2.4534855>],\n",
              " [0.144],\n",
              " [0.0001])"
            ]
          },
          "execution_count": 32,
          "metadata": {},
          "output_type": "execute_result"
        }
      ],
      "source": [
        "tf.random.set_seed(0)  # keep me\n",
        "\n",
        "softmaxNet = SoftmaxNet(784,10)\n",
        "softmaxNet.fit(x_train, y_train, x_val, y_val,)\n"
      ]
    },
    {
      "cell_type": "markdown",
      "metadata": {
        "id": "bTTjDHkh0nvM"
      },
      "source": [
        "### 3e. Train `SoftmaxNet` on MNIST\n",
        "\n",
        "In the cell below, train your `SoftmaxNet` with default hyperparameters and vary only the number of training epochs and `val_every`. Your goal is to train the network until the validation accuracy peaks. Do this by monitoring the validation accuracy while training. You should:\n",
        "1. Report the approximate number of training epochs needed so that the validation accuracy appears to reach its maximum. *You don't need to find this precisely, just approximately given the resolution of your print outs.*\n",
        "2. Create a high quality, well-labeled plot showing the training loss over every epoch of training.\n",
        "3. Create a high quality, well-labeled plot showing the validation loss only on epochs where you checked it. *You can combine with the previous plot or keep separate.*\n",
        "4. Report the the MNIST test set accuracy.\n",
        "\n",
        "**Tips:**\n",
        "- I would suggest NOT checking the validation accuracy every epoch! This will slow down training quite a bit. Find a frequency/interval that is more reasonable, but still gives you clear information about approximately when the validation accuracy peaks.\n",
        "- Using NumPy in plotting code below is totally fine and expected.\n",
        "- If training does not finish in 5 minutes, stop training and move onto Task 4 to get setup with a cloud GPU. Re-run the training with the GPU once that is configured and training should take less than 5 minutes."
      ]
    },
    {
      "cell_type": "code",
      "execution_count": 33,
      "metadata": {
        "colab": {
          "base_uri": "https://localhost:8080/"
        },
        "id": "r7jEkm2F0nvM",
        "outputId": "725a3dbb-f834-49aa-aa83-123d956f3c03"
      },
      "outputs": [
        {
          "name": "stdout",
          "output_type": "stream",
          "text": [
            "\n",
            "epoch: 0\n",
            "validation accuracy: 0.144\n",
            "validation loss: 2.4534855\n",
            "lr: 0.0001\n",
            "\n",
            "epoch: 10\n",
            "validation accuracy: 0.686\n",
            "validation loss: 1.2573103\n",
            "lr: 0.0001\n",
            "\n",
            "epoch: 20\n",
            "validation accuracy: 0.821\n",
            "validation loss: 0.74545574\n",
            "lr: 0.0001\n",
            "\n",
            "epoch: 30\n",
            "validation accuracy: 0.878\n",
            "validation loss: 0.5261312\n",
            "lr: 0.0001\n",
            "\n",
            "epoch: 40\n",
            "validation accuracy: 0.891\n",
            "validation loss: 0.41882136\n",
            "lr: 0.0001\n",
            "\n",
            "epoch: 50\n",
            "validation accuracy: 0.906\n",
            "validation loss: 0.3586963\n",
            "lr: 0.0001\n",
            "\n",
            "epoch: 60\n",
            "validation accuracy: 0.915\n",
            "validation loss: 0.32305866\n",
            "lr: 0.0001\n",
            "\n",
            "epoch: 70\n",
            "validation accuracy: 0.915\n",
            "validation loss: 0.2995389\n",
            "lr: 0.0001\n",
            "\n",
            "epoch: 80\n",
            "validation accuracy: 0.916\n",
            "validation loss: 0.2825166\n",
            "lr: 0.0001\n",
            "\n",
            "epoch: 90\n",
            "validation accuracy: 0.918\n",
            "validation loss: 0.27038515\n",
            "lr: 0.0001\n",
            "\n",
            "epoch: 100\n",
            "validation accuracy: 0.921\n",
            "validation loss: 0.26080063\n",
            "lr: 0.0001\n",
            "\n",
            "epoch: 110\n",
            "validation accuracy: 0.922\n",
            "validation loss: 0.25362727\n",
            "lr: 0.0001\n",
            "\n",
            "epoch: 120\n",
            "validation accuracy: 0.924\n",
            "validation loss: 0.2473458\n",
            "lr: 0.0001\n",
            "\n",
            "epoch: 130\n",
            "validation accuracy: 0.926\n",
            "validation loss: 0.2428011\n",
            "lr: 0.0001\n",
            "\n",
            "epoch: 140\n",
            "validation accuracy: 0.928\n",
            "validation loss: 0.23846874\n",
            "lr: 0.0001\n",
            "\n",
            "epoch: 150\n",
            "validation accuracy: 0.933\n",
            "validation loss: 0.23531935\n",
            "lr: 0.0001\n",
            "\n",
            "epoch: 160\n",
            "validation accuracy: 0.931\n",
            "validation loss: 0.23216031\n",
            "lr: 0.0001\n",
            "\n",
            "epoch: 170\n",
            "validation accuracy: 0.933\n",
            "validation loss: 0.22931929\n",
            "lr: 0.0001\n",
            "\n",
            "epoch: 180\n",
            "validation accuracy: 0.934\n",
            "validation loss: 0.22778277\n",
            "lr: 0.0001\n",
            "\n",
            "epoch: 190\n",
            "validation accuracy: 0.932\n",
            "validation loss: 0.22633164\n",
            "lr: 0.0001\n",
            "\n",
            "epoch: 200\n",
            "validation accuracy: 0.934\n",
            "validation loss: 0.22377576\n",
            "lr: 0.0001\n",
            "\n",
            "epoch: 210\n",
            "validation accuracy: 0.933\n",
            "validation loss: 0.22229601\n",
            "lr: 0.0001\n",
            "\n",
            "epoch: 220\n",
            "validation accuracy: 0.935\n",
            "validation loss: 0.2209353\n",
            "lr: 0.0001\n",
            "\n",
            "epoch: 230\n",
            "validation accuracy: 0.935\n",
            "validation loss: 0.21979026\n",
            "lr: 0.0001\n",
            "\n",
            "epoch: 240\n",
            "validation accuracy: 0.934\n",
            "validation loss: 0.21854179\n",
            "lr: 0.0001\n",
            "\n",
            "epoch: 250\n",
            "validation accuracy: 0.936\n",
            "validation loss: 0.21858788\n",
            "lr: 0.0001\n",
            "\n",
            "epoch: 260\n",
            "validation accuracy: 0.935\n",
            "validation loss: 0.21704622\n",
            "lr: 0.0001\n",
            "\n",
            "epoch: 270\n",
            "validation accuracy: 0.936\n",
            "validation loss: 0.2157702\n",
            "lr: 0.0001\n",
            "\n",
            "epoch: 280\n",
            "validation accuracy: 0.936\n",
            "validation loss: 0.215028\n",
            "lr: 0.0001\n",
            "\n",
            "epoch: 290\n",
            "validation accuracy: 0.937\n",
            "validation loss: 0.21419004\n",
            "lr: 0.0001\n",
            "\n",
            "epoch: 300\n",
            "validation accuracy: 0.937\n",
            "validation loss: 0.21415198\n",
            "lr: 0.0001\n",
            "\n",
            "epoch: 310\n",
            "validation accuracy: 0.938\n",
            "validation loss: 0.21369237\n",
            "lr: 0.0001\n",
            "\n",
            "epoch: 320\n",
            "validation accuracy: 0.939\n",
            "validation loss: 0.21312691\n",
            "lr: 0.0001\n",
            "\n",
            "epoch: 330\n",
            "validation accuracy: 0.94\n",
            "validation loss: 0.21315555\n",
            "lr: 0.0001\n",
            "\n",
            "epoch: 340\n",
            "validation accuracy: 0.94\n",
            "validation loss: 0.21139963\n",
            "lr: 0.0001\n",
            "\n",
            "epoch: 350\n",
            "validation accuracy: 0.94\n",
            "validation loss: 0.21187644\n",
            "lr: 0.0001\n",
            "\n",
            "epoch: 360\n",
            "validation accuracy: 0.939\n",
            "validation loss: 0.21285142\n",
            "lr: 0.0001\n",
            "\n",
            "epoch: 370\n",
            "validation accuracy: 0.939\n",
            "validation loss: 0.21188828\n",
            "lr: 0.0001\n",
            "\n",
            "epoch: 380\n",
            "validation accuracy: 0.939\n",
            "validation loss: 0.21094984\n",
            "lr: 0.0001\n",
            "\n",
            "epoch: 390\n",
            "validation accuracy: 0.94\n",
            "validation loss: 0.21067122\n",
            "lr: 0.0001\n",
            "\n",
            "epoch: 400\n",
            "validation accuracy: 0.94\n",
            "validation loss: 0.21019301\n",
            "lr: 0.0001\n",
            "\n",
            "epoch: 410\n",
            "validation accuracy: 0.939\n",
            "validation loss: 0.2104017\n",
            "lr: 0.0001\n",
            "\n",
            "epoch: 420\n",
            "validation accuracy: 0.942\n",
            "validation loss: 0.21000342\n",
            "lr: 0.0001\n",
            "\n",
            "epoch: 430\n",
            "validation accuracy: 0.94\n",
            "validation loss: 0.20960714\n",
            "lr: 0.0001\n",
            "\n",
            "epoch: 440\n",
            "validation accuracy: 0.94\n",
            "validation loss: 0.21035533\n",
            "lr: 0.0001\n",
            "\n",
            "epoch: 450\n",
            "validation accuracy: 0.94\n",
            "validation loss: 0.20963289\n",
            "lr: 0.0001\n",
            "\n",
            "epoch: 460\n",
            "validation accuracy: 0.94\n",
            "validation loss: 0.2094177\n",
            "lr: 0.0001\n",
            "\n",
            "epoch: 470\n",
            "validation accuracy: 0.941\n",
            "validation loss: 0.20910643\n",
            "lr: 0.0001\n",
            "\n",
            "epoch: 480\n",
            "validation accuracy: 0.939\n",
            "validation loss: 0.20865682\n",
            "lr: 0.0001\n",
            "\n",
            "epoch: 490\n",
            "validation accuracy: 0.939\n",
            "validation loss: 0.20891134\n",
            "lr: 0.0001\n",
            "\n",
            "epoch: 499\n",
            "validation accuracy: 0.94\n",
            "validation loss: 0.20872554\n",
            "lr: 0.0001\n",
            "Finished training after 500 epochs!\n"
          ]
        }
      ],
      "source": [
        "tf.random.set_seed(0)  # keep me\n",
        "\n",
        "softmaxNet = SoftmaxNet(784,10)\n",
        "hist = softmaxNet.fit(x_train, y_train, x_val, y_val,epochs = 500, val_every = 10)\n"
      ]
    },
    {
      "cell_type": "code",
      "execution_count": 34,
      "metadata": {
        "colab": {
          "base_uri": "https://localhost:8080/",
          "height": 495
        },
        "id": "dlzh5Eqh0nvN",
        "outputId": "5a6e06b5-7537-4b83-c676-365a981a8937"
      },
      "outputs": [
        {
          "data": {
            "image/png": "[encoded data removed]",
            "text/plain": [
              "<Figure size 640x480 with 1 Axes>"
            ]
          },
          "metadata": {},
          "output_type": "display_data"
        }
      ],
      "source": [
        "train_loss_hist = hist[0]\n",
        "val_loss_hist = hist[1]\n",
        "\n",
        "plt.plot(train_loss_hist, label = \"training loss\")\n",
        "plt.xlabel(\"Training epoch\")\n",
        "plt.ylabel(\"Loss\")\n",
        "plt.title(\"Training Loss of Softmax Net on MNIST\")\n",
        "plt.legend();\n"
      ]
    },
    {
      "cell_type": "code",
      "execution_count": 37,
      "metadata": {
        "colab": {
          "base_uri": "https://localhost:8080/",
          "height": 495
        },
        "id": "vCw2obO60nvN",
        "outputId": "317951c9-d0bf-4dbf-ad23-d1520bd3e226"
      },
      "outputs": [
        {
          "data": {
            "image/png": "[encoded data removed]",
            "text/plain": [
              "<Figure size 640x480 with 1 Axes>"
            ]
          },
          "metadata": {},
          "output_type": "display_data"
        }
      ],
      "source": [
        "x_val_loss = 10*np.arange(len(val_loss_hist))\n",
        "plt.plot(x_val_loss,val_loss_hist, label = \"validation loss\")\n",
        "\n",
        "plt.xlabel(\"Epocht\")\n",
        "plt.ylabel(\"Loss\")\n",
        "plt.title(\"Validation Loss of Softmax Net on MNIST\")\n",
        "plt.legend();"
      ]
    },
    {
      "cell_type": "markdown",
      "metadata": {
        "id": "uZsRUJVo0nvN"
      },
      "source": [
        "We see here that the approximate epoch where validation loss and accuracy stops improving is ~370 epochs with default hyperparameters."
      ]
    },
    {
      "cell_type": "code",
      "execution_count": 38,
      "metadata": {
        "colab": {
          "base_uri": "https://localhost:8080/"
        },
        "id": "GaZYhbqR0nvN",
        "outputId": "e940907a-06f6-4e98-adde-c08ce1132115"
      },
      "outputs": [
        {
          "name": "stdout",
          "output_type": "stream",
          "text": [
            "test set accuracy is: 0.9265\n"
          ]
        }
      ],
      "source": [
        "#test set:\n",
        "print(\"test set accuracy is: \"+str(softmaxNet.accuracy(y_test, softmaxNet.predict(x_test))))"
      ]
    },
    {
      "cell_type": "markdown",
      "metadata": {
        "id": "ERDXegPD0nvN"
      },
      "source": [
        "## Task 4: Training on GPUs\n",
        "\n",
        "The training workloads in CS443 will be sufficiently computationally demanding that running them on your laptop CPU will not be practical or a good use of your time. While you should develop and debug your project code locally on your computer like last semester, you will want to run your large \"production\" training jobs on graphics processing units (GPUs). While every computer has a GPU, many are not good for machine learning workflows or do not support training with TensorFlow. A good rule of thumb for what a \"large\" training run is ~5 minutes or more on your computer.\n",
        "\n",
        "You have several options for working with GPUs in this class:\n",
        "\n",
        "**Option 1** (recommended): You run your code on [Paperspace](https://www.paperspace.com). This involves uploading your project folder and all data/python/notebook files to the Paperspace web interface then simply opening the project notebook in the web interface. It costs money (we have a budget kindly offered by DavisAI), so we need to be mindful about usage. In my testing, this is slightly faster than Option 2. If you decide to go this route, your team needs to message me so that I can setup a Paperspace environment for your team.\n",
        "\n",
        "**Option 2**: You run your code on [Google Colab](https://colab.research.google.com). This involves uploading your project folder and all data/python/notebook files to a folder on Google Drive, opening the notebook from within Google Drive (to open it in Google Colab), selecting that you want to run your code on the GPU from a dropdown menu, and run a code snippet to connect your code with Google Drive. You are able to train on the GPU for free for up to ~12 hours at a time (should be enough time for CS443 work).\n",
        "\n",
        "**Option 3**: You happen to have a computer with powerful NVIDIA GPU or an Apple Mac with M1 Pro/Max, M2 Pro/Max, M3 Pro/Max chips (*regular M1, M2, and M3 may not be sufficient*). If you follow the instructions on the CS443 website to setup GPU support in TensorFlow, your computers should be able to handle the projects without using a cloud GPU.\n",
        "\n",
        "Check out the CS443 website for more detailed instructions. Once you decide, move onto the next subtask.\n",
        "\n",
        "*Note: you can change your mind at any time if an option above is not working well for you!*"
      ]
    },
    {
      "cell_type": "markdown",
      "metadata": {
        "id": "uw9OCXmU0nvN"
      },
      "source": [
        "### Task 4a. Experiment: Effect of batch size on validation accuracy\n",
        "\n",
        "In the cell below, run the command from Task 1 that prints out GPU devices that TensorFlow is configured to run compute jobs on. You should see something like:\n",
        "\n",
        "```\n",
        "[PhysicalDevice(name='/physical_device:GPU:0', device_type='GPU')]\n",
        "```"
      ]
    },
    {
      "cell_type": "code",
      "execution_count": 39,
      "metadata": {
        "colab": {
          "base_uri": "https://localhost:8080/"
        },
        "id": "ICK0D67V0nvO",
        "outputId": "c1081536-c234-4026-9ee3-c60b71438e14"
      },
      "outputs": [
        {
          "name": "stdout",
          "output_type": "stream",
          "text": [
            "CPU devices:\n",
            "[PhysicalDevice(name='/physical_device:CPU:0', device_type='CPU')]\n",
            "GPU devices:\n",
            "[PhysicalDevice(name='/physical_device:GPU:0', device_type='GPU')]\n"
          ]
        }
      ],
      "source": [
        "print('CPU devices:')\n",
        "print(tf.config.list_physical_devices('CPU'))\n",
        "print('GPU devices:')\n",
        "print(tf.config.list_physical_devices('GPU'))"
      ]
    },
    {
      "cell_type": "markdown",
      "metadata": {
        "id": "mqbFVOQJ0nvO"
      },
      "source": [
        "In the cell below, copy-paste your network training code from Task 3e. Run an experiment where you change the mini-batch size to:\n",
        "- 2048 (the default)\n",
        "- 8192\n",
        "- 50000 (i.e. batch gradient descent)\n",
        "\n",
        "Use the number of epochs that you settled on from Task 3e that yielded peak validation accuracy. Save/print off:\n",
        "\n",
        "1. The final validation accuracy.\n",
        "2. The runtime of `fit` (e.g. by using `time.time()`).\n",
        "\n",
        "**Note:** Don't forget to re-create/wipe your network clean in between training runs!"
      ]
    },
    {
      "cell_type": "code",
      "execution_count": 40,
      "metadata": {
        "colab": {
          "base_uri": "https://localhost:8080/"
        },
        "id": "tcdytqgv26bC",
        "outputId": "2ef054ad-fafd-46e3-b8aa-9bddce26896a"
      },
      "outputs": [
        {
          "name": "stdout",
          "output_type": "stream",
          "text": [
            "\n",
            "epoch: 0\n",
            "validation accuracy: 0.135\n",
            "validation loss: 2.5353482\n",
            "lr: 0.0001\n",
            "\n",
            "epoch: 10\n",
            "validation accuracy: 0.682\n",
            "validation loss: 1.254611\n",
            "lr: 0.0001\n",
            "\n",
            "epoch: 20\n",
            "validation accuracy: 0.827\n",
            "validation loss: 0.7463871\n",
            "lr: 0.0001\n",
            "\n",
            "epoch: 30\n",
            "validation accuracy: 0.863\n",
            "validation loss: 0.5289662\n",
            "lr: 0.0001\n",
            "\n",
            "epoch: 40\n",
            "validation accuracy: 0.892\n",
            "validation loss: 0.42179844\n",
            "lr: 0.0001\n",
            "\n",
            "epoch: 50\n",
            "validation accuracy: 0.906\n",
            "validation loss: 0.36221975\n",
            "lr: 0.0001\n",
            "\n",
            "epoch: 60\n",
            "validation accuracy: 0.911\n",
            "validation loss: 0.3262832\n",
            "lr: 0.0001\n",
            "\n",
            "epoch: 70\n",
            "validation accuracy: 0.917\n",
            "validation loss: 0.30242783\n",
            "lr: 0.0001\n",
            "\n",
            "epoch: 80\n",
            "validation accuracy: 0.919\n",
            "validation loss: 0.28564346\n",
            "lr: 0.0001\n",
            "\n",
            "epoch: 90\n",
            "validation accuracy: 0.924\n",
            "validation loss: 0.2733548\n",
            "lr: 0.0001\n",
            "\n",
            "epoch: 100\n",
            "validation accuracy: 0.924\n",
            "validation loss: 0.2637404\n",
            "lr: 0.0001\n",
            "\n",
            "epoch: 110\n",
            "validation accuracy: 0.925\n",
            "validation loss: 0.25527632\n",
            "lr: 0.0001\n",
            "\n",
            "epoch: 120\n",
            "validation accuracy: 0.93\n",
            "validation loss: 0.249283\n",
            "lr: 0.0001\n",
            "\n",
            "epoch: 130\n",
            "validation accuracy: 0.928\n",
            "validation loss: 0.24373652\n",
            "lr: 0.0001\n",
            "\n",
            "epoch: 140\n",
            "validation accuracy: 0.93\n",
            "validation loss: 0.23943748\n",
            "lr: 0.0001\n",
            "\n",
            "epoch: 150\n",
            "validation accuracy: 0.929\n",
            "validation loss: 0.23653196\n",
            "lr: 0.0001\n",
            "\n",
            "epoch: 160\n",
            "validation accuracy: 0.933\n",
            "validation loss: 0.2333758\n",
            "lr: 0.0001\n",
            "\n",
            "epoch: 170\n",
            "validation accuracy: 0.932\n",
            "validation loss: 0.23066588\n",
            "lr: 0.0001\n",
            "\n",
            "epoch: 180\n",
            "validation accuracy: 0.934\n",
            "validation loss: 0.22846146\n",
            "lr: 0.0001\n",
            "\n",
            "epoch: 190\n",
            "validation accuracy: 0.934\n",
            "validation loss: 0.22557785\n",
            "lr: 0.0001\n",
            "\n",
            "epoch: 200\n",
            "validation accuracy: 0.934\n",
            "validation loss: 0.22496895\n",
            "lr: 0.0001\n",
            "\n",
            "epoch: 210\n",
            "validation accuracy: 0.935\n",
            "validation loss: 0.22378331\n",
            "lr: 0.0001\n",
            "\n",
            "epoch: 220\n",
            "validation accuracy: 0.934\n",
            "validation loss: 0.22123873\n",
            "lr: 0.0001\n",
            "\n",
            "epoch: 230\n",
            "validation accuracy: 0.935\n",
            "validation loss: 0.22029606\n",
            "lr: 0.0001\n",
            "\n",
            "epoch: 240\n",
            "validation accuracy: 0.934\n",
            "validation loss: 0.21886373\n",
            "lr: 0.0001\n",
            "\n",
            "epoch: 250\n",
            "validation accuracy: 0.935\n",
            "validation loss: 0.21713188\n",
            "lr: 0.0001\n",
            "\n",
            "epoch: 260\n",
            "validation accuracy: 0.938\n",
            "validation loss: 0.21728992\n",
            "lr: 0.0001\n",
            "\n",
            "epoch: 270\n",
            "validation accuracy: 0.936\n",
            "validation loss: 0.21662693\n",
            "lr: 0.0001\n",
            "\n",
            "epoch: 280\n",
            "validation accuracy: 0.938\n",
            "validation loss: 0.21685712\n",
            "lr: 0.0001\n",
            "\n",
            "epoch: 290\n",
            "validation accuracy: 0.937\n",
            "validation loss: 0.21631362\n",
            "lr: 0.0001\n",
            "\n",
            "epoch: 300\n",
            "validation accuracy: 0.938\n",
            "validation loss: 0.21434814\n",
            "lr: 0.0001\n",
            "\n",
            "epoch: 310\n",
            "validation accuracy: 0.94\n",
            "validation loss: 0.21453029\n",
            "lr: 0.0001\n",
            "\n",
            "epoch: 320\n",
            "validation accuracy: 0.939\n",
            "validation loss: 0.21313746\n",
            "lr: 0.0001\n",
            "\n",
            "epoch: 330\n",
            "validation accuracy: 0.939\n",
            "validation loss: 0.21283527\n",
            "lr: 0.0001\n",
            "\n",
            "epoch: 340\n",
            "validation accuracy: 0.939\n",
            "validation loss: 0.21352229\n",
            "lr: 0.0001\n",
            "\n",
            "epoch: 350\n",
            "validation accuracy: 0.94\n",
            "validation loss: 0.21327698\n",
            "lr: 0.0001\n",
            "\n",
            "epoch: 360\n",
            "validation accuracy: 0.94\n",
            "validation loss: 0.21186778\n",
            "lr: 0.0001\n",
            "\n",
            "epoch: 369\n",
            "validation accuracy: 0.94\n",
            "validation loss: 0.2111638\n",
            "lr: 0.0001\n",
            "Finished training after 370 epochs!\n",
            "135.58609461784363\n"
          ]
        }
      ],
      "source": [
        "#batch_size = default\n",
        "start = time.time()\n",
        "\n",
        "softmaxNet = SoftmaxNet(784,10)\n",
        "hist = softmaxNet.fit(x_train, y_train, x_val, y_val,epochs = 370, val_every = 10)\n",
        "\n",
        "print(time.time()-start)"
      ]
    },
    {
      "cell_type": "code",
      "execution_count": 41,
      "metadata": {
        "colab": {
          "base_uri": "https://localhost:8080/"
        },
        "id": "b3dSJQ230nvO",
        "outputId": "6fb02e42-9744-4468-e953-86444b529f6d"
      },
      "outputs": [
        {
          "name": "stdout",
          "output_type": "stream",
          "text": [
            "\n",
            "epoch: 0\n",
            "validation accuracy: 0.081\n",
            "validation loss: 2.7869117\n",
            "lr: 0.0001\n",
            "\n",
            "epoch: 10\n",
            "validation accuracy: 0.146\n",
            "validation loss: 2.3454683\n",
            "lr: 0.0001\n",
            "\n",
            "epoch: 20\n",
            "validation accuracy: 0.267\n",
            "validation loss: 2.000511\n",
            "lr: 0.0001\n",
            "\n",
            "epoch: 30\n",
            "validation accuracy: 0.412\n",
            "validation loss: 1.7209225\n",
            "lr: 0.0001\n",
            "\n",
            "epoch: 40\n",
            "validation accuracy: 0.548\n",
            "validation loss: 1.4905667\n",
            "lr: 0.0001\n",
            "\n",
            "epoch: 50\n",
            "validation accuracy: 0.639\n",
            "validation loss: 1.298917\n",
            "lr: 0.0001\n",
            "\n",
            "epoch: 60\n",
            "validation accuracy: 0.704\n",
            "validation loss: 1.1397185\n",
            "lr: 0.0001\n",
            "\n",
            "epoch: 70\n",
            "validation accuracy: 0.745\n",
            "validation loss: 1.0084696\n",
            "lr: 0.0001\n",
            "\n",
            "epoch: 80\n",
            "validation accuracy: 0.777\n",
            "validation loss: 0.90039974\n",
            "lr: 0.0001\n",
            "\n",
            "epoch: 90\n",
            "validation accuracy: 0.797\n",
            "validation loss: 0.8108604\n",
            "lr: 0.0001\n",
            "\n",
            "epoch: 100\n",
            "validation accuracy: 0.812\n",
            "validation loss: 0.7367009\n",
            "lr: 0.0001\n",
            "\n",
            "epoch: 110\n",
            "validation accuracy: 0.822\n",
            "validation loss: 0.674631\n",
            "lr: 0.0001\n",
            "\n",
            "epoch: 120\n",
            "validation accuracy: 0.838\n",
            "validation loss: 0.6220685\n",
            "lr: 0.0001\n",
            "\n",
            "epoch: 130\n",
            "validation accuracy: 0.849\n",
            "validation loss: 0.577094\n",
            "lr: 0.0001\n",
            "\n",
            "epoch: 140\n",
            "validation accuracy: 0.856\n",
            "validation loss: 0.53896827\n",
            "lr: 0.0001\n",
            "\n",
            "epoch: 150\n",
            "validation accuracy: 0.866\n",
            "validation loss: 0.50559205\n",
            "lr: 0.0001\n",
            "\n",
            "epoch: 160\n",
            "validation accuracy: 0.872\n",
            "validation loss: 0.47692513\n",
            "lr: 0.0001\n",
            "\n",
            "epoch: 170\n",
            "validation accuracy: 0.876\n",
            "validation loss: 0.45243225\n",
            "lr: 0.0001\n",
            "\n",
            "epoch: 180\n",
            "validation accuracy: 0.889\n",
            "validation loss: 0.43052727\n",
            "lr: 0.0001\n",
            "\n",
            "epoch: 190\n",
            "validation accuracy: 0.895\n",
            "validation loss: 0.4121544\n",
            "lr: 0.0001\n",
            "\n",
            "epoch: 200\n",
            "validation accuracy: 0.9\n",
            "validation loss: 0.39567143\n",
            "lr: 0.0001\n",
            "\n",
            "epoch: 210\n",
            "validation accuracy: 0.904\n",
            "validation loss: 0.38023904\n",
            "lr: 0.0001\n",
            "\n",
            "epoch: 220\n",
            "validation accuracy: 0.906\n",
            "validation loss: 0.3677248\n",
            "lr: 0.0001\n",
            "\n",
            "epoch: 230\n",
            "validation accuracy: 0.91\n",
            "validation loss: 0.35566798\n",
            "lr: 0.0001\n",
            "\n",
            "epoch: 240\n",
            "validation accuracy: 0.911\n",
            "validation loss: 0.34546065\n",
            "lr: 0.0001\n",
            "\n",
            "epoch: 250\n",
            "validation accuracy: 0.913\n",
            "validation loss: 0.33586693\n",
            "lr: 0.0001\n",
            "\n",
            "epoch: 260\n",
            "validation accuracy: 0.914\n",
            "validation loss: 0.32805753\n",
            "lr: 0.0001\n",
            "\n",
            "epoch: 270\n",
            "validation accuracy: 0.914\n",
            "validation loss: 0.3202127\n",
            "lr: 0.0001\n",
            "\n",
            "epoch: 280\n",
            "validation accuracy: 0.915\n",
            "validation loss: 0.31283373\n",
            "lr: 0.0001\n",
            "\n",
            "epoch: 290\n",
            "validation accuracy: 0.915\n",
            "validation loss: 0.30678767\n",
            "lr: 0.0001\n",
            "\n",
            "epoch: 300\n",
            "validation accuracy: 0.917\n",
            "validation loss: 0.3003336\n",
            "lr: 0.0001\n",
            "\n",
            "epoch: 310\n",
            "validation accuracy: 0.917\n",
            "validation loss: 0.29554635\n",
            "lr: 0.0001\n",
            "\n",
            "epoch: 320\n",
            "validation accuracy: 0.919\n",
            "validation loss: 0.29019716\n",
            "lr: 0.0001\n",
            "\n",
            "epoch: 330\n",
            "validation accuracy: 0.919\n",
            "validation loss: 0.28579774\n",
            "lr: 0.0001\n",
            "\n",
            "epoch: 340\n",
            "validation accuracy: 0.922\n",
            "validation loss: 0.2813894\n",
            "lr: 0.0001\n",
            "\n",
            "epoch: 350\n",
            "validation accuracy: 0.923\n",
            "validation loss: 0.27764577\n",
            "lr: 0.0001\n",
            "\n",
            "epoch: 360\n",
            "validation accuracy: 0.923\n",
            "validation loss: 0.2737745\n",
            "lr: 0.0001\n",
            "\n",
            "epoch: 369\n",
            "validation accuracy: 0.924\n",
            "validation loss: 0.27103996\n",
            "lr: 0.0001\n",
            "Finished training after 370 epochs!\n",
            "36.738144874572754\n"
          ]
        }
      ],
      "source": [
        "#Experiment with batch size = 8192\n",
        "start = time.time()\n",
        "\n",
        "softmaxNet = SoftmaxNet(784,10)\n",
        "hist = softmaxNet.fit(x_train, y_train, x_val, y_val,epochs = 370, val_every = 10, batch_size = 8192)\n",
        "\n",
        "print(time.time()-start)"
      ]
    },
    {
      "cell_type": "code",
      "execution_count": 42,
      "metadata": {
        "colab": {
          "base_uri": "https://localhost:8080/"
        },
        "id": "W3s68e6T2wev",
        "outputId": "976a9fd1-62a7-4489-c295-f81e75659863"
      },
      "outputs": [
        {
          "name": "stdout",
          "output_type": "stream",
          "text": [
            "\n",
            "epoch: 0\n",
            "validation accuracy: 0.049\n",
            "validation loss: 2.7249813\n",
            "lr: 0.0001\n",
            "\n",
            "epoch: 10\n",
            "validation accuracy: 0.055\n",
            "validation loss: 2.653633\n",
            "lr: 0.0001\n",
            "\n",
            "epoch: 20\n",
            "validation accuracy: 0.056\n",
            "validation loss: 2.5856884\n",
            "lr: 0.0001\n",
            "\n",
            "epoch: 30\n",
            "validation accuracy: 0.072\n",
            "validation loss: 2.5207691\n",
            "lr: 0.0001\n",
            "\n",
            "epoch: 40\n",
            "validation accuracy: 0.084\n",
            "validation loss: 2.4586012\n",
            "lr: 0.0001\n",
            "\n",
            "epoch: 50\n",
            "validation accuracy: 0.106\n",
            "validation loss: 2.39891\n",
            "lr: 0.0001\n",
            "\n",
            "epoch: 60\n",
            "validation accuracy: 0.129\n",
            "validation loss: 2.3414118\n",
            "lr: 0.0001\n",
            "\n",
            "epoch: 70\n",
            "validation accuracy: 0.147\n",
            "validation loss: 2.2858467\n",
            "lr: 0.0001\n",
            "\n",
            "epoch: 80\n",
            "validation accuracy: 0.175\n",
            "validation loss: 2.2320526\n",
            "lr: 0.0001\n",
            "\n",
            "epoch: 90\n",
            "validation accuracy: 0.197\n",
            "validation loss: 2.1799638\n",
            "lr: 0.0001\n",
            "\n",
            "epoch: 100\n",
            "validation accuracy: 0.21\n",
            "validation loss: 2.1293995\n",
            "lr: 0.0001\n",
            "\n",
            "epoch: 110\n",
            "validation accuracy: 0.228\n",
            "validation loss: 2.0801187\n",
            "lr: 0.0001\n",
            "\n",
            "epoch: 120\n",
            "validation accuracy: 0.257\n",
            "validation loss: 2.0321803\n",
            "lr: 0.0001\n",
            "\n",
            "epoch: 130\n",
            "validation accuracy: 0.277\n",
            "validation loss: 1.9855334\n",
            "lr: 0.0001\n",
            "\n",
            "epoch: 140\n",
            "validation accuracy: 0.298\n",
            "validation loss: 1.9400786\n",
            "lr: 0.0001\n",
            "\n",
            "epoch: 150\n",
            "validation accuracy: 0.321\n",
            "validation loss: 1.8957754\n",
            "lr: 0.0001\n",
            "\n",
            "epoch: 160\n",
            "validation accuracy: 0.35\n",
            "validation loss: 1.8525856\n",
            "lr: 0.0001\n",
            "\n",
            "epoch: 170\n",
            "validation accuracy: 0.378\n",
            "validation loss: 1.8104776\n",
            "lr: 0.0001\n",
            "\n",
            "epoch: 180\n",
            "validation accuracy: 0.407\n",
            "validation loss: 1.7694086\n",
            "lr: 0.0001\n",
            "\n",
            "epoch: 190\n",
            "validation accuracy: 0.436\n",
            "validation loss: 1.7294136\n",
            "lr: 0.0001\n",
            "\n",
            "epoch: 200\n",
            "validation accuracy: 0.45\n",
            "validation loss: 1.690527\n",
            "lr: 0.0001\n",
            "\n",
            "epoch: 210\n",
            "validation accuracy: 0.478\n",
            "validation loss: 1.6526178\n",
            "lr: 0.0001\n",
            "\n",
            "epoch: 220\n",
            "validation accuracy: 0.492\n",
            "validation loss: 1.6157115\n",
            "lr: 0.0001\n",
            "\n",
            "epoch: 230\n",
            "validation accuracy: 0.513\n",
            "validation loss: 1.579822\n",
            "lr: 0.0001\n",
            "\n",
            "epoch: 240\n",
            "validation accuracy: 0.534\n",
            "validation loss: 1.5448911\n",
            "lr: 0.0001\n",
            "\n",
            "epoch: 250\n",
            "validation accuracy: 0.546\n",
            "validation loss: 1.5109702\n",
            "lr: 0.0001\n",
            "\n",
            "epoch: 260\n",
            "validation accuracy: 0.567\n",
            "validation loss: 1.4780098\n",
            "lr: 0.0001\n",
            "\n",
            "epoch: 270\n",
            "validation accuracy: 0.577\n",
            "validation loss: 1.445934\n",
            "lr: 0.0001\n",
            "\n",
            "epoch: 280\n",
            "validation accuracy: 0.588\n",
            "validation loss: 1.4147308\n",
            "lr: 0.0001\n",
            "\n",
            "epoch: 290\n",
            "validation accuracy: 0.602\n",
            "validation loss: 1.3844087\n",
            "lr: 0.0001\n",
            "\n",
            "epoch: 300\n",
            "validation accuracy: 0.618\n",
            "validation loss: 1.3549674\n",
            "lr: 0.0001\n",
            "\n",
            "epoch: 310\n",
            "validation accuracy: 0.629\n",
            "validation loss: 1.3263912\n",
            "lr: 0.0001\n",
            "\n",
            "epoch: 320\n",
            "validation accuracy: 0.643\n",
            "validation loss: 1.298683\n",
            "lr: 0.0001\n",
            "\n",
            "epoch: 330\n",
            "validation accuracy: 0.656\n",
            "validation loss: 1.2717552\n",
            "lr: 0.0001\n",
            "\n",
            "epoch: 340\n",
            "validation accuracy: 0.666\n",
            "validation loss: 1.2455834\n",
            "lr: 0.0001\n",
            "\n",
            "epoch: 350\n",
            "validation accuracy: 0.672\n",
            "validation loss: 1.2201004\n",
            "lr: 0.0001\n",
            "\n",
            "epoch: 360\n",
            "validation accuracy: 0.685\n",
            "validation loss: 1.1954556\n",
            "lr: 0.0001\n",
            "\n",
            "epoch: 369\n",
            "validation accuracy: 0.698\n",
            "validation loss: 1.1737505\n",
            "lr: 0.0001\n",
            "Finished training after 370 epochs!\n",
            "7.53731632232666\n"
          ]
        }
      ],
      "source": [
        "# Now try with batch_size = 50000\n",
        "start = time.time()\n",
        "\n",
        "softmaxNet = SoftmaxNet(784,10)\n",
        "hist = softmaxNet.fit(x_train, y_train, x_val, y_val,epochs = 370, val_every = 10, batch_size = 50000)\n",
        "\n",
        "print(time.time()-start)"
      ]
    },
    {
      "cell_type": "markdown",
      "metadata": {
        "id": "0P9o7_w90nvO"
      },
      "source": [
        "### Task 4b. Questions\n",
        "\n",
        "**Question 1:** For the 3 mini-batch sizes that you tested, how does the final validation accuracy change based on the mini-batch choices? Be specific.\n",
        "\n",
        "**Question 2:** For the 3 mini-batch sizes that you tested, how does the runtime differ? Be specific and relate your answer to you found in Question 1.\n",
        "\n",
        "**Question 3:** Why do you think you observed the trend that you did? The result should be fairly striking.  \n",
        "\n",
        "*It turns out that this result is fairly common in many different training scenarios. Keep this in mind going forward and when you think about selecting mini-batch sizes.*\n",
        "\n",
        "**Reminder:** You should not use AI in projects, including in your answers to questions."
      ]
    },
    {
      "cell_type": "markdown",
      "metadata": {
        "id": "A1VIykcW0nvO"
      },
      "source": [
        "**Answer 1:**\n",
        "\n",
        "The final validation accuracy for default parameters was best. As we increase batch size while keeping all else the same, the validation accuracy decreases. 93.7% vs 91.1% vs 72.1% for batch_size = 2048, 8192, and 50000 respectively.\n",
        "\n",
        "**Answer 2:**\n",
        "\n",
        "The runtime for larger mini-batches is considerably faster.  This is because there are less weight updates (which are more time consuming than forward passes) during runtime. We would have to run over more epochs to represent the same amount of learning as default parameters.\n",
        "\n",
        "**Answer 3:**\n",
        "\n",
        "I think that the value per weight update is central to the observed differences.  With larger mini-batch sizes, we are doing significantly less weight updates, but they are more meaningful since they refelect a greater proportion of our data.  I think for all of these cases 2000+ inputs represents a reasonable subset of our data so more weight updates will achieve better results.\n",
        "\n",
        "\n",
        "\n",
        "\n"
      ]
    },
    {
      "cell_type": "markdown",
      "metadata": {
        "id": "NyZARboe0nvP"
      },
      "source": [
        "## Extensions\n",
        "\n",
        "### a. AI Policy\n",
        "\n",
        "The goal of extensions is to learn and create something new beyond the base project that excites you. This is a reminder that projects (and extensions) with AI generated content will not be graded. This includes code and written text.\n",
        "\n",
        "### b. Guidelines\n",
        "\n",
        "To receive credit for any extension, you must:\n",
        "1. **You must describe what you did and what you found in detail**.\n",
        "2. Include (*labeled!*) plots and/or numbers to present your results.\n",
        "3. Write up your extensions below or in a separate notebook.\n",
        "4. Give kudos to all sources, including anyone that you consulted.\n",
        "\n",
        "### c. Suggestions\n",
        "\n",
        "**Rule of thumb: one deep, thorough extension is worth more than several quick, shallow extensions!**\n",
        "\n",
        "The ideas below are **suggested** extensions — feel free to go in another direction related to this project that is not listed!"
      ]
    },
    {
      "cell_type": "markdown",
      "metadata": {
        "id": "Is6xMzGhPetg"
      },
      "source": []
    },
    {
      "cell_type": "markdown",
      "metadata": {
        "id": "BpCqBq9tPetg"
      },
      "source": [
        "### Early Stopping Support:\n",
        "\n",
        "The idea with early stopping is to stop training when training stops being effective.  A common way to do this is to set some tolerance for improvement in loss or accuracy.  I'm choosing to let the user select the tolerance to the amount in reduction of the validation loss over 3 reporting periods.\n",
        "\n",
        "Formally, if `val_loss` does not improve for `tolerance` reporting periods (`tolerance` * `val_every` epochs), then training will stop.\n",
        "\n",
        "Implementing this is pretty simple actually\n",
        "\n",
        "1. We add our additional parameter `tolerance` with defaults of `None` to our `fit` function\n",
        "\n",
        "2. Define a `best_so_far` variable which represents the lowest validation loss so far\n",
        "\n",
        "3. Define a `counter` which represents the number of validation reports that have passed since there has been an improvement in validation loss\n",
        "\n",
        "3. Add a logic gate which asks if the most recent validation loss is less than `best_so_far`, if it is, then `best_so_far = cur_val_loss` and reset our counter to 0 otherwise, we increment our counter\n",
        "\n",
        "4. Add a logic gate which asks if `counter >= tolerance`. If true: stop training, else: continue\n"
      ]
    },
    {
      "cell_type": "code",
      "execution_count": 43,
      "metadata": {
        "colab": {
          "base_uri": "https://localhost:8080/"
        },
        "id": "81Y7kIUaPeth",
        "outputId": "e3db6851-c0c8-44f8-8b7e-2f3e0f8b184e"
      },
      "outputs": [
        {
          "name": "stdout",
          "output_type": "stream",
          "text": [
            "\n",
            "epoch: 0\n",
            "validation accuracy: 0.607\n",
            "validation loss: 1.4033904\n",
            "lr: 0.001\n",
            "\n",
            "epoch: 10\n",
            "validation accuracy: 0.921\n",
            "validation loss: 0.2570817\n",
            "lr: 0.001\n",
            "\n",
            "epoch: 20\n",
            "validation accuracy: 0.935\n",
            "validation loss: 0.22352281\n",
            "lr: 0.001\n",
            "\n",
            "epoch: 30\n",
            "validation accuracy: 0.939\n",
            "validation loss: 0.21406709\n",
            "lr: 0.001\n",
            "\n",
            "epoch: 40\n",
            "validation accuracy: 0.94\n",
            "validation loss: 0.21332398\n",
            "lr: 0.001\n",
            "\n",
            "epoch: 50\n",
            "validation accuracy: 0.941\n",
            "validation loss: 0.21144566\n",
            "lr: 0.001\n",
            "\n",
            "epoch: 60\n",
            "validation accuracy: 0.941\n",
            "validation loss: 0.21181498\n",
            "lr: 0.001\n",
            "\n",
            "epoch: 70\n",
            "validation accuracy: 0.941\n",
            "validation loss: 0.2083654\n",
            "lr: 0.001\n",
            "\n",
            "epoch: 80\n",
            "validation accuracy: 0.939\n",
            "validation loss: 0.20909621\n",
            "lr: 0.001\n",
            "\n",
            "epoch: 90\n",
            "validation accuracy: 0.94\n",
            "validation loss: 0.21020842\n",
            "lr: 0.001\n",
            "Early stopping initiated.  Validation loss has not improved for 3 reporting periods\n",
            "Finished training after 101 epochs!\n",
            "37.46626853942871\n"
          ]
        }
      ],
      "source": [
        "import time\n",
        "start = time.time()\n",
        "\n",
        "softmaxNet = SoftmaxNet(784,10)\n",
        "hist = softmaxNet.fit(x_train, y_train, x_val, y_val,epochs = 1000, val_every = 10, batch_size = 2048, tolerance = 3, lr = 0.001)\n",
        "\n",
        "print(time.time()-start)"
      ]
    },
    {
      "cell_type": "markdown",
      "metadata": {
        "id": "nDDLyjN8Petj"
      },
      "source": [
        "The primary use for early stopping is to save time.  It doens't make sense to train a model when it is not learning meaningfully (reducing loss on validation set).  "
      ]
    },
    {
      "cell_type": "markdown",
      "metadata": {
        "id": "NLSCrwKa0nvQ"
      },
      "source": [
        "### 4. Add learning rate decay support to your training pipeline\n",
        "\n",
        "Learning rate decay decreases the learning rate over the course of training to more closely hone in on the final global/local minimum that your neural network converges on. A simple, common, and effective method is to decrease the learning rate by some percentage every X epochs. Integrate optional support for this in your `fit` method and demonstrate how it may be helpful."
      ]
    },
    {
      "cell_type": "markdown",
      "metadata": {
        "id": "cRGpWMZ3Petk"
      },
      "source": [
        "Before implementing learning rate decay, we need to think about how we want to reduce our learning rate as we go.\n",
        "\n",
        "Fundementally, we need to think about how this works with regards to our optimizer, adam. Upon some investigation there are several important factors to consider.\n",
        "\n",
        "Adam is already adapting weight updates and optimizing the learnign rate, so we don't need to do anything overly complicated here.  Adam already does this.  This means it makes much more sense to decrease our learning rate at a relatively high rate.  I've seen 95-99.99% used frequently depending on the number of intended epochs for training. https://stats.stackexchange.com/questions/200063/adam-optimizer-with-exponential-decay\n",
        "\n",
        "For this reason we will be using exponential decay with a relatively high proportion.  We will also start using a learning rate that is relatively high, 0.005.  (our default is 0.0001)\n",
        "\n",
        "\n",
        "#### Implementation:\n",
        "\n",
        "implementation here is also straightforward.  We add a new parameter `decay_rate` and multiply our learning rate by this value over each epoch\n"
      ]
    },
    {
      "cell_type": "code",
      "execution_count": 44,
      "metadata": {
        "colab": {
          "base_uri": "https://localhost:8080/"
        },
        "id": "5S8fcgw0Petk",
        "outputId": "2d628976-a8a6-4ea0-be61-22876efc2953"
      },
      "outputs": [
        {
          "name": "stdout",
          "output_type": "stream",
          "text": [
            "\n",
            "epoch: 0\n",
            "validation accuracy: 0.358\n",
            "validation loss: 1.8612994\n",
            "lr: 0.00198\n",
            "\n",
            "epoch: 10\n",
            "validation accuracy: 0.898\n",
            "validation loss: 0.38483655\n",
            "lr: 0.0017906765085174325\n",
            "\n",
            "epoch: 20\n",
            "validation accuracy: 0.922\n",
            "validation loss: 0.269678\n",
            "lr: 0.0016194557364425167\n",
            "\n",
            "epoch: 30\n",
            "validation accuracy: 0.929\n",
            "validation loss: 0.24087383\n",
            "lr: 0.0014646067393087945\n",
            "\n",
            "epoch: 40\n",
            "validation accuracy: 0.936\n",
            "validation loss: 0.22557871\n",
            "lr: 0.0013245640819679666\n",
            "\n",
            "epoch: 50\n",
            "validation accuracy: 0.937\n",
            "validation loss: 0.22044638\n",
            "lr: 0.0011979120129323219\n",
            "\n",
            "epoch: 60\n",
            "validation accuracy: 0.938\n",
            "validation loss: 0.21881467\n",
            "lr: 0.001083370151933707\n",
            "\n",
            "epoch: 70\n",
            "validation accuracy: 0.944\n",
            "validation loss: 0.21472998\n",
            "lr: 0.0009797805460084097\n",
            "\n",
            "epoch: 80\n",
            "validation accuracy: 0.942\n",
            "validation loss: 0.21228763\n",
            "lr: 0.000886095963252345\n",
            "\n",
            "epoch: 90\n",
            "validation accuracy: 0.944\n",
            "validation loss: 0.21000104\n",
            "lr: 0.0008013693059030809\n",
            "\n",
            "epoch: 100\n",
            "validation accuracy: 0.942\n",
            "validation loss: 0.2089492\n",
            "lr: 0.0007247440357209937\n",
            "\n",
            "epoch: 110\n",
            "validation accuracy: 0.942\n",
            "validation loss: 0.20882921\n",
            "lr: 0.0006554455148756075\n",
            "\n",
            "epoch: 120\n",
            "validation accuracy: 0.944\n",
            "validation loss: 0.20877616\n",
            "lr: 0.0005927731747984161\n",
            "\n",
            "epoch: 130\n",
            "validation accuracy: 0.944\n",
            "validation loss: 0.20959745\n",
            "lr: 0.0005360934338337483\n",
            "\n",
            "epoch: 140\n",
            "validation accuracy: 0.943\n",
            "validation loss: 0.20936833\n",
            "lr: 0.0004848332920891604\n",
            "Early stopping initiated.  Validation loss has not improved for 3 reporting periods\n",
            "Finished training after 151 epochs!\n",
            "14.692012786865234\n"
          ]
        }
      ],
      "source": [
        "import time\n",
        "start = time.time()\n",
        "\n",
        "softmaxNet = SoftmaxNet(784,10)\n",
        "hist = softmaxNet.fit(x_train, y_train, x_val, y_val,epochs = 1000, val_every = 10, batch_size = 8192, tolerance = 3, lr = 0.002, decay_rate = 0.99)\n",
        "\n",
        "print(time.time()-start)"
      ]
    },
    {
      "cell_type": "markdown",
      "metadata": {
        "id": "d6lZLi3iPetk"
      },
      "source": [
        "We see here that learning rate is slowly decreasing as we move through training. Picking a good decay rate is really hard because one needs to have a good idea as to how many epochs the model will be effectively training for.  Changing other parameters results in the learning rate decay being less helpful and needing to be tuned again.  Such is the pain of hyperparameter tuning."
      ]
    },
    {
      "cell_type": "code",
      "execution_count": 45,
      "metadata": {
        "colab": {
          "base_uri": "https://localhost:8080/",
          "height": 495
        },
        "id": "82KwnvqzPetl",
        "outputId": "d2f19fb6-b02e-4d7a-e98a-6f2dd68d850c"
      },
      "outputs": [
        {
          "data": {
            "image/png": "[encoded data removed]",
            "text/plain": [
              "<Figure size 640x480 with 1 Axes>"
            ]
          },
          "metadata": {},
          "output_type": "display_data"
        }
      ],
      "source": [
        "val_loss_hist = hist[1]\n",
        "x_val_loss = 10*np.arange(len(val_loss_hist))\n",
        "plt.plot(x_val_loss,val_loss_hist, label = \"validation loss\")\n",
        "\n",
        "plt.xlabel(\"Epoch\")\n",
        "plt.ylabel(\"Loss\")\n",
        "plt.title(\"Validation Loss of Softmax Net on MNIST with lr scheduling and early stoppin3\")\n",
        "plt.legend();"
      ]
    },
    {
      "cell_type": "code",
      "execution_count": 46,
      "metadata": {
        "colab": {
          "base_uri": "https://localhost:8080/",
          "height": 495
        },
        "id": "SMQwR2hZPetl",
        "outputId": "0065ef42-918b-4e30-9e9c-99615b77a2a9"
      },
      "outputs": [
        {
          "data": {
            "image/png": "[encoded data removed]",
            "text/plain": [
              "<Figure size 640x480 with 1 Axes>"
            ]
          },
          "metadata": {},
          "output_type": "display_data"
        }
      ],
      "source": [
        "lr_hist = hist[3]\n",
        "plt.plot(lr_hist, label = \"learning rate\")\n",
        "\n",
        "plt.xlabel(\"Epoch\")\n",
        "plt.ylabel(\"Learnign Rate\")\n",
        "plt.title(\"Learning rate schedule\")\n",
        "plt.legend();"
      ]
    },
    {
      "cell_type": "markdown",
      "metadata": {
        "id": "qGK1SroQPetm"
      },
      "source": [
        "Here's a really good example of what we want our learning rate to look like as we train.  We can see that we through a pretty large range of learning rate as we continue to train, spanning from 0.002 to 0.0005 is highly interesting and I imaging coupling this with adam makes the effective learning rate even more specific as we get closer and closer to a local minima in the loss surface."
      ]
    },
    {
      "cell_type": "markdown",
      "metadata": {
        "id": "Q-uIG3MEPetm"
      },
      "source": [
        "# exploration of tf.funtion\n",
        "\n",
        "while looking at the tensor flow documentation I ran across tf.function operation which caught my eye. The big picture of this operation is it allows you to switch from eager execution to graph execution. Eager excution is where all operations are executed by python and results are returned to python whereas graph execution the computations are executed as a TensorFlow graph. This offers portability to devices that lack the python interpreter and tends to offer better performance overall. The graphs are constructed using a set of tf.Operation objects, which represent units of computation; and tf.Tensor objects, which represent the units of data that flow between operations. Since these graphs are data structures, they can be saved, run in parallel, and run efficiently on multiple devices all without the original Python code. below is a visualization of a saved graph taken from the tenserflow documenation webpage"
      ]
    },
    {
      "cell_type": "markdown",
      "metadata": {
        "id": "VK3GLtdwPetm"
      },
      "source": [
        "![Screen Shot 2024-02-15 at 7.48.39 PM.png](<attachment:Screen Shot 2024-02-15 at 7.48.39 PM.png>)"
      ]
    },
    {
      "cell_type": "markdown",
      "metadata": {
        "id": "Sff5LE0tPetn"
      },
      "source": [
        "With that in mind I briefly explored this operation and expermiented with it to oberseve some of its advantages as well as disadvantages."
      ]
    },
    {
      "cell_type": "code",
      "execution_count": 47,
      "metadata": {
        "colab": {
          "base_uri": "https://localhost:8080/"
        },
        "id": "J-UCQ4wHPetn",
        "outputId": "6846b9a3-3910-456f-9f27-4d036cb28f30"
      },
      "outputs": [
        {
          "name": "stdout",
          "output_type": "stream",
          "text": [
            "tf.Tensor(\n",
            "[[3. 4.]\n",
            " [4. 5.]], shape=(2, 2), dtype=float32)\n",
            "tf.Tensor(\n",
            "[[3. 4.]\n",
            " [4. 5.]], shape=(2, 2), dtype=float32)\n"
          ]
        }
      ],
      "source": [
        "# can be called or used as a decorator\n",
        "\n",
        "# simple def\n",
        "def simple_add(x,y):\n",
        "    return tf.add(x, y)\n",
        "\n",
        "\n",
        "# random constants\n",
        "x1 = tf.constant([[1.0, 2.0]])\n",
        "y1 = tf.constant([[2.0], [3.0]])\n",
        "b1 = tf.constant(4.0)\n",
        "\n",
        "# called\n",
        "tf_simple_add = tf.function(simple_add)\n",
        "\n",
        "# decorator\n",
        "@tf.function\n",
        "def simple_add2(x,y):\n",
        "    return tf.add(x, y)\n",
        "\n",
        "# results\n",
        "print(tf_simple_add(x1,y1))\n",
        "print(simple_add2(x1, y1))\n"
      ]
    },
    {
      "cell_type": "code",
      "execution_count": 48,
      "metadata": {
        "colab": {
          "base_uri": "https://localhost:8080/"
        },
        "id": "RK1lh3FePetn",
        "outputId": "dc115b92-3096-4b2e-83f9-0a08e41ad862"
      },
      "outputs": [
        {
          "name": "stdout",
          "output_type": "stream",
          "text": [
            "def tf__simple_add(x, y):\n",
            "    with ag__.FunctionScope('simple_add', 'fscope', ag__.ConversionOptions(recursive=True, user_requested=True, optional_features=(), internal_convert_user_code=True)) as fscope:\n",
            "        do_return = False\n",
            "        retval_ = ag__.UndefinedReturnValue()\n",
            "        try:\n",
            "            do_return = True\n",
            "            retval_ = ag__.converted_call(ag__.ld(tf).add, (ag__.ld(x), ag__.ld(y)), None, fscope)\n",
            "        except:\n",
            "            do_return = False\n",
            "            raise\n",
            "        return fscope.ret(retval_, do_return)\n",
            "\n",
            "node {\n",
            "  name: \"x\"\n",
            "  op: \"Placeholder\"\n",
            "  attr {\n",
            "    key: \"_user_specified_name\"\n",
            "    value {\n",
            "      s: \"x\"\n",
            "    }\n",
            "  }\n",
            "  attr {\n",
            "    key: \"dtype\"\n",
            "    value {\n",
            "      type: DT_INT32\n",
            "    }\n",
            "  }\n",
            "  attr {\n",
            "    key: \"shape\"\n",
            "    value {\n",
            "      shape {\n",
            "      }\n",
            "    }\n",
            "  }\n",
            "}\n",
            "node {\n",
            "  name: \"y\"\n",
            "  op: \"Placeholder\"\n",
            "  attr {\n",
            "    key: \"_user_specified_name\"\n",
            "    value {\n",
            "      s: \"y\"\n",
            "    }\n",
            "  }\n",
            "  attr {\n",
            "    key: \"dtype\"\n",
            "    value {\n",
            "      type: DT_INT32\n",
            "    }\n",
            "  }\n",
            "  attr {\n",
            "    key: \"shape\"\n",
            "    value {\n",
            "      shape {\n",
            "      }\n",
            "    }\n",
            "  }\n",
            "}\n",
            "node {\n",
            "  name: \"Add\"\n",
            "  op: \"AddV2\"\n",
            "  input: \"x\"\n",
            "  input: \"y\"\n",
            "  attr {\n",
            "    key: \"T\"\n",
            "    value {\n",
            "      type: DT_INT32\n",
            "    }\n",
            "  }\n",
            "}\n",
            "node {\n",
            "  name: \"Identity\"\n",
            "  op: \"Identity\"\n",
            "  input: \"Add\"\n",
            "  attr {\n",
            "    key: \"T\"\n",
            "    value {\n",
            "      type: DT_INT32\n",
            "    }\n",
            "  }\n",
            "}\n",
            "versions {\n",
            "  producer: 1645\n",
            "}\n",
            "\n"
          ]
        }
      ],
      "source": [
        "# observe the stored graph for the autograph and actual graph of function itself\n",
        "print(tf.autograph.to_code(simple_add))\n",
        "print(tf_simple_add.get_concrete_function(tf.constant(1), tf.constant(2)).graph.as_graph_def())"
      ]
    },
    {
      "cell_type": "markdown",
      "metadata": {
        "id": "F-lfQc5RPetn"
      },
      "source": [
        "Next I looked at how tracing works which is what causes the speedup but can run someone into issues if not careful. In the example below we see that even tho we run the function 3 times the print statement only occurs once and this is due to tracing: the print statement is executed when tf.function runs the original code in order to create the graph which captures the tensorflow operations into a graph, and print is not captured in the graph. The graph is then executed for all three calls without ever running the Python code again. In-order to excute it eageraly and get the 3 print statements we need to set run eagerly to True globally as seen below."
      ]
    },
    {
      "cell_type": "code",
      "execution_count": 49,
      "metadata": {
        "id": "A7KrmIhUPetn"
      },
      "outputs": [],
      "source": [
        "@tf.function\n",
        "def get_sum(x, y):\n",
        "  print(\"I should print 3 times!\")\n",
        "  sum = x + y\n",
        "  return tf.reduce_sum(sum)"
      ]
    },
    {
      "cell_type": "code",
      "execution_count": 50,
      "metadata": {
        "colab": {
          "base_uri": "https://localhost:8080/"
        },
        "id": "RqS_V94zPetn",
        "outputId": "9dbb223b-88d6-4c26-df09-57d0bed5bd38"
      },
      "outputs": [
        {
          "name": "stdout",
          "output_type": "stream",
          "text": [
            "I should print 3 times!\n"
          ]
        },
        {
          "data": {
            "text/plain": [
              "<tf.Tensor: shape=(), dtype=int32, numpy=10>"
            ]
          },
          "execution_count": 50,
          "metadata": {},
          "output_type": "execute_result"
        }
      ],
      "source": [
        "#only prints once!\n",
        "get_sum(5,5)\n",
        "get_sum(5,5)\n",
        "get_sum(5,5)"
      ]
    },
    {
      "cell_type": "code",
      "execution_count": 51,
      "metadata": {
        "colab": {
          "base_uri": "https://localhost:8080/"
        },
        "id": "EUiYqM6qPeto",
        "outputId": "3ce0a701-2724-4f23-d246-68a132b01f52"
      },
      "outputs": [
        {
          "name": "stdout",
          "output_type": "stream",
          "text": [
            "I should print 3 times!\n",
            "I should print 3 times!\n",
            "I should print 3 times!\n"
          ]
        },
        {
          "data": {
            "text/plain": [
              "<tf.Tensor: shape=(), dtype=int32, numpy=10>"
            ]
          },
          "execution_count": 51,
          "metadata": {},
          "output_type": "execute_result"
        }
      ],
      "source": [
        "# prints 3 times\n",
        "\n",
        "# set eagerly run to true\n",
        "tf.config.run_functions_eagerly(True)\n",
        "get_sum(5,5)\n",
        "get_sum(5,5)\n",
        "get_sum(5,5)"
      ]
    },
    {
      "cell_type": "markdown",
      "metadata": {
        "id": "1XlyU4mVPeto"
      },
      "source": [
        "lastly, I briefly demonstrated the speedup provided by graphs compared without them. I created a random tensor and did i simple matrix operation on it in a loop. Looking at the results we see that it does provide a major speedup after a certain threshold that overtakes the overhead created from making the graph. So for small task it could potenitally take longer to execute than it would take if done eagearly."
      ]
    },
    {
      "cell_type": "code",
      "execution_count": 52,
      "metadata": {
        "id": "k-3S_s2uPeto"
      },
      "outputs": [],
      "source": [
        "x = tf.random.uniform(shape=[50, 50], minval=-1, maxval=2, dtype=tf.dtypes.int32)\n",
        "\n",
        "def power(x, y):\n",
        "  I = tf.eye(50, dtype=tf.dtypes.int32)\n",
        "  for _ in range(y):\n",
        "    I = tf.matmul(x, I)\n",
        "  return I"
      ]
    },
    {
      "cell_type": "code",
      "execution_count": 53,
      "metadata": {
        "colab": {
          "base_uri": "https://localhost:8080/"
        },
        "id": "gPFOFA_LPeto",
        "outputId": "e22489c5-c4dd-42e0-d3cd-e3052f5f2673"
      },
      "outputs": [
        {
          "name": "stdout",
          "output_type": "stream",
          "text": [
            "Eager execution: 35.41842309200001 seconds\n"
          ]
        }
      ],
      "source": [
        "import timeit\n",
        "print(\"Eager execution:\", timeit.timeit(lambda: power(x, 500), number=1000), \"seconds\")"
      ]
    },
    {
      "cell_type": "code",
      "execution_count": 54,
      "metadata": {
        "colab": {
          "base_uri": "https://localhost:8080/"
        },
        "id": "wGlBcHIKPetr",
        "outputId": "6d898b4a-b435-4952-a0e7-a6a5be8cb5e3"
      },
      "outputs": [
        {
          "name": "stdout",
          "output_type": "stream",
          "text": [
            "Graph execution: 6.461630835999927 seconds\n"
          ]
        }
      ],
      "source": [
        "power_as_graph = tf.function(power)\n",
        "print(\"Graph execution:\", timeit.timeit(lambda: power_as_graph(x, 100), number=1000), \"seconds\")"
      ]
    },
    {
      "cell_type": "markdown",
      "metadata": {
        "id": "U5xbTxZtPetr"
      },
      "source": [
        "To conclude tf.function allows to build a graph of our code in-order to make it easier to optimize and portable to devices that lack python interpreter however we have to be careful about tracing and python side-effects. In the future I would like to start to incorprate this into my work as it will be more deployable and more efficient such as the case for TinyML."
      ]
    },
    {
      "cell_type": "markdown",
      "metadata": {
        "id": "-iNBHEfmPets"
      },
      "source": [
        "# Explore other dataset"
      ]
    },
    {
      "cell_type": "code",
      "execution_count": 55,
      "metadata": {
        "colab": {
          "base_uri": "https://localhost:8080/"
        },
        "id": "z5tUxn2YPets",
        "outputId": "8f95c62d-6a23-4b4d-e891-7eea141de30e"
      },
      "outputs": [
        {
          "name": "stdout",
          "output_type": "stream",
          "text": [
            "Downloading data from https://storage.googleapis.com/tensorflow/tf-keras-datasets/train-labels-idx1-ubyte.gz\n",
            "29515/29515 [==============================] - 0s 1us/step\n",
            "Downloading data from https://storage.googleapis.com/tensorflow/tf-keras-datasets/train-images-idx3-ubyte.gz\n",
            "26421880/26421880 [==============================] - 2s 0us/step\n",
            "Downloading data from https://storage.googleapis.com/tensorflow/tf-keras-datasets/t10k-labels-idx1-ubyte.gz\n",
            "5148/5148 [==============================] - 0s 0us/step\n",
            "Downloading data from https://storage.googleapis.com/tensorflow/tf-keras-datasets/t10k-images-idx3-ubyte.gz\n",
            "4422102/4422102 [==============================] - 1s 0us/step\n"
          ]
        }
      ],
      "source": [
        "import mnist\n",
        "\n",
        "# load dataset\n",
        "(x_train, y_train), (x_test, y_test) = tf.keras.datasets.fashion_mnist.load_data()"
      ]
    },
    {
      "cell_type": "code",
      "execution_count": 56,
      "metadata": {
        "colab": {
          "base_uri": "https://localhost:8080/"
        },
        "id": "LjR179izPets",
        "outputId": "40f70b0a-882b-4161-c378-41597992a7b6"
      },
      "outputs": [
        {
          "name": "stdout",
          "output_type": "stream",
          "text": [
            "[9 0 0 3 0 2 7 2 5 5]\n"
          ]
        }
      ],
      "source": [
        "# class labels for first 10 samples\n",
        "print(y_train[0:10])"
      ]
    },
    {
      "cell_type": "code",
      "execution_count": 57,
      "metadata": {
        "colab": {
          "base_uri": "https://localhost:8080/",
          "height": 520
        },
        "id": "UKfyAATRPets",
        "outputId": "38ea4301-fbec-4616-f1e1-587256b32443"
      },
      "outputs": [
        {
          "data": {
            "image/png": "[encoded data removed]",
            "text/plain": [
              "<Figure size 2000x2000 with 10 Axes>"
            ]
          },
          "metadata": {},
          "output_type": "display_data"
        }
      ],
      "source": [
        "# plot 10 samples\n",
        "tit = [\"anklet boot\", \"top\", \"top\", \"dress\", \"top\", \"pullover\", \"sneaker\", \"pullover\", \"sandal\", \"sandal\"]\n",
        "plt.figure(figsize=(20,20))\n",
        "plt.subplots_adjust(hspace=0.5)\n",
        "for n in range(10):\n",
        "  plt.subplot(6,5,n+1)\n",
        "  plt.imshow(x_train[n])\n",
        "  plt.title(tit[n])\n",
        "  plt.axis('off')\n",
        "plt.show()"
      ]
    },
    {
      "cell_type": "code",
      "execution_count": 58,
      "metadata": {
        "colab": {
          "base_uri": "https://localhost:8080/"
        },
        "id": "SdYhxJcZPett",
        "outputId": "fd7e6406-190e-4226-8608-8dcd4f4431ed"
      },
      "outputs": [
        {
          "name": "stdout",
          "output_type": "stream",
          "text": [
            "(59000, 784) (1000, 784) (10000, 784)\n",
            "<dtype: 'float32'> <dtype: 'float32'> <dtype: 'float32'> <dtype: 'int64'>\n",
            "Train min/max: 0.0/1.0\n",
            "Validation min/max: 0.0/1.0\n",
            "Test min/max: 0.0/1.0\n"
          ]
        }
      ],
      "source": [
        "# preprocess data\n",
        "x_t,y_t,x_v, y_v = mnist.train_val_split(x_train, y_train, 1000)\n",
        "\n",
        "x_train_f = tf.constant(mnist.preprocess_mnist(x_t),tf.float32)\n",
        "y_train_f = tf.constant(y_t, tf.int64)\n",
        "x_val_f = tf.constant(mnist.preprocess_mnist(x_v), tf.float32)\n",
        "x_test_f = tf.constant(mnist.preprocess_mnist(x_test), tf.float32)\n",
        "y_val_f = tf.constant(y_v, tf.int64)\n",
        "y_test_f = tf.constant(y_test, tf.int64)\n",
        "\n",
        "\n",
        "\n",
        "# test to make sure data preprocess went well\n",
        "print(x_train_f.shape, x_val_f.shape, x_test_f.shape,)\n",
        "print(x_train_f.dtype, x_val_f.dtype, x_test_f.dtype, y_val_f.dtype, )\n",
        "print(f'Train min/max: {tf.reduce_min(x_train_f)}/{tf.reduce_max(x_train_f)}')\n",
        "print(f'Validation min/max: {tf.reduce_min(x_val_f)}/{tf.reduce_max(x_val_f)}')\n",
        "print(f'Test min/max: {tf.reduce_min(x_test_f)}/{tf.reduce_max(x_test_f)}')"
      ]
    },
    {
      "cell_type": "code",
      "execution_count": 60,
      "metadata": {
        "colab": {
          "base_uri": "https://localhost:8080/"
        },
        "id": "poghruLCPett",
        "outputId": "51927ce8-bfe0-40f3-d85b-f8619ae17d09"
      },
      "outputs": [
        {
          "name": "stdout",
          "output_type": "stream",
          "text": [
            "\n",
            "epoch: 0\n",
            "validation accuracy: 0.245\n",
            "validation loss: 2.3551493\n",
            "lr: 0.0001\n",
            "\n",
            "epoch: 10\n",
            "validation accuracy: 0.687\n",
            "validation loss: 0.94217396\n",
            "lr: 0.0001\n",
            "\n",
            "epoch: 20\n",
            "validation accuracy: 0.764\n",
            "validation loss: 0.71764076\n",
            "lr: 0.0001\n",
            "\n",
            "epoch: 30\n",
            "validation accuracy: 0.793\n",
            "validation loss: 0.6279202\n",
            "lr: 0.0001\n",
            "\n",
            "epoch: 40\n",
            "validation accuracy: 0.813\n",
            "validation loss: 0.57593256\n",
            "lr: 0.0001\n",
            "\n",
            "epoch: 50\n",
            "validation accuracy: 0.824\n",
            "validation loss: 0.5438739\n",
            "lr: 0.0001\n",
            "\n",
            "epoch: 60\n",
            "validation accuracy: 0.831\n",
            "validation loss: 0.5187641\n",
            "lr: 0.0001\n",
            "\n",
            "epoch: 70\n",
            "validation accuracy: 0.835\n",
            "validation loss: 0.5019211\n",
            "lr: 0.0001\n",
            "\n",
            "epoch: 80\n",
            "validation accuracy: 0.838\n",
            "validation loss: 0.48905316\n",
            "lr: 0.0001\n",
            "\n",
            "epoch: 90\n",
            "validation accuracy: 0.842\n",
            "validation loss: 0.47701824\n",
            "lr: 0.0001\n",
            "\n",
            "epoch: 100\n",
            "validation accuracy: 0.838\n",
            "validation loss: 0.46924716\n",
            "lr: 0.0001\n",
            "\n",
            "epoch: 110\n",
            "validation accuracy: 0.843\n",
            "validation loss: 0.4627292\n",
            "lr: 0.0001\n",
            "\n",
            "epoch: 119\n",
            "validation accuracy: 0.848\n",
            "validation loss: 0.45589623\n",
            "lr: 0.0001\n",
            "Finished training after 120 epochs!\n"
          ]
        }
      ],
      "source": [
        "softmaxNet = SoftmaxNet(784,10)\n",
        "hist = softmaxNet.fit(x_train_f, y_train_f, x_val_f, y_val_f,epochs = 120, val_every = 10)"
      ]
    },
    {
      "cell_type": "code",
      "execution_count": 61,
      "metadata": {
        "colab": {
          "base_uri": "https://localhost:8080/",
          "height": 512
        },
        "id": "_gLpruUbPett",
        "outputId": "d16a48a0-231f-4926-c357-2abdb932ed53"
      },
      "outputs": [
        {
          "data": {
            "text/plain": [
              "<matplotlib.legend.Legend at 0x7df09c31f190>"
            ]
          },
          "execution_count": 61,
          "metadata": {},
          "output_type": "execute_result"
        },
        {
          "data": {
            "image/png": "[encoded data removed]",
            "text/plain": [
              "<Figure size 640x480 with 1 Axes>"
            ]
          },
          "metadata": {},
          "output_type": "display_data"
        }
      ],
      "source": [
        "train_loss_hist = hist[0]\n",
        "val_loss_hist = hist[1]\n",
        "\n",
        "plt.plot(train_loss_hist, label = \"training loss\")\n",
        "plt.xlabel(\"Training epoch\")\n",
        "plt.ylabel(\"Loss\")\n",
        "plt.title(\"Training Loss of Softmax Net on F-MNIST\")\n",
        "plt.legend()"
      ]
    },
    {
      "cell_type": "code",
      "execution_count": 62,
      "metadata": {
        "colab": {
          "base_uri": "https://localhost:8080/",
          "height": 512
        },
        "id": "E3LRZHxOPett",
        "outputId": "02f514a2-3f7d-4f14-d090-b71c8b62ef6a"
      },
      "outputs": [
        {
          "data": {
            "text/plain": [
              "<matplotlib.legend.Legend at 0x7df08871e4a0>"
            ]
          },
          "execution_count": 62,
          "metadata": {},
          "output_type": "execute_result"
        },
        {
          "data": {
            "image/png": "[encoded data removed]",
            "text/plain": [
              "<Figure size 640x480 with 1 Axes>"
            ]
          },
          "metadata": {},
          "output_type": "display_data"
        }
      ],
      "source": [
        "plt.plot(val_loss_hist, label = \"validation loss\")\n",
        "plt.xlabel(\"validation report\")\n",
        "plt.ylabel(\"Loss\")\n",
        "plt.title(\"Validation Loss of Softmax Net on F-MNIST\")\n",
        "plt.legend()"
      ]
    },
    {
      "cell_type": "code",
      "execution_count": 63,
      "metadata": {
        "colab": {
          "base_uri": "https://localhost:8080/"
        },
        "id": "dYhHV528Pett",
        "outputId": "c0caa6a9-0e6e-490a-e90e-fda774e672eb"
      },
      "outputs": [
        {
          "name": "stdout",
          "output_type": "stream",
          "text": [
            "test set accuracy is: 0.8332\n"
          ]
        }
      ],
      "source": [
        "print(\"test set accuracy is: \"+str(softmaxNet.accuracy(y_test_f, softmaxNet.predict(x_test_f))))"
      ]
    },
    {
      "cell_type": "code",
      "execution_count": 64,
      "metadata": {
        "id": "AOBCv7O8Pett"
      },
      "outputs": [],
      "source": [
        "# confusing matrix from CS251\n",
        "def confusion_matrix(y, y_pred):\n",
        "        un_arr = np.unique(y)\n",
        "        r = un_arr.shape[0]\n",
        "\n",
        "\n",
        "        y_pred = np.array(y_pred, dtype=int)\n",
        "        y = np.array(y, dtype=int)\n",
        "        m = [[0] * r for i in range(r)]\n",
        "        for pred, exp in zip(y_pred, y):\n",
        "            m[pred][exp] += 1\n",
        "        return m"
      ]
    },
    {
      "cell_type": "code",
      "execution_count": 65,
      "metadata": {
        "id": "ObBm2LR5Petu"
      },
      "outputs": [],
      "source": [
        "\n",
        "y_pred = softmaxNet.predict(x_test_f)\n",
        "confusion = confusion_matrix(y_test_f, y_pred)"
      ]
    },
    {
      "cell_type": "code",
      "execution_count": 66,
      "metadata": {
        "colab": {
          "base_uri": "https://localhost:8080/",
          "height": 495
        },
        "id": "bMZ3Bv7-Petu",
        "outputId": "1d4ee4ff-e510-4790-aa8a-1e9866b8e1df"
      },
      "outputs": [
        {
          "data": {
            "image/png": "[encoded data removed]",
            "text/plain": [
              "<Figure size 640x480 with 2 Axes>"
            ]
          },
          "metadata": {},
          "output_type": "display_data"
        }
      ],
      "source": [
        "class_names = [str(i) for i in range(0, 10)]\n",
        "\n",
        "#plot\n",
        "plt.imshow(confusion, interpolation='nearest', cmap= 'viridis')\n",
        "plt.title('Confusion Matrix')\n",
        "plt.colorbar()\n",
        "\n",
        "tick_marks = np.arange(len(class_names))\n",
        "plt.xticks(tick_marks, class_names)\n",
        "plt.yticks(tick_marks, class_names)\n",
        "plt.grid([])\n",
        "\n",
        "plt.ylabel('Actual')\n",
        "plt.xlabel('Predicted')\n",
        "plt.show()"
      ]
    },
    {
      "cell_type": "code",
      "execution_count": 67,
      "metadata": {
        "colab": {
          "base_uri": "https://localhost:8080/"
        },
        "id": "Ue7w3CCkPetu",
        "outputId": "d502a9e0-d1b2-4888-cf22-e57c9cab23a7"
      },
      "outputs": [
        {
          "name": "stdout",
          "output_type": "stream",
          "text": [
            "[[819   5  13  33   0   1 146   0   3   0]\n",
            " [  4 949   5  16   2   1   4   0   1   0]\n",
            " [ 14  10 725   9 112   0 120   0   6   0]\n",
            " [ 49  28  11 858  33   0  35   0  10   0]\n",
            " [  7   4 150  37 763   0 122   0   2   0]\n",
            " [  0   0   1   1   0 868   0  33   6  10]\n",
            " [ 92   2  86  42  83   0 544   0  21   0]\n",
            " [  0   0   0   0   0  67   0 918   6  46]\n",
            " [ 15   2   9   4   7   4  29   0 945   1]\n",
            " [  0   0   0   0   0  59   0  49   0 943]]\n"
          ]
        }
      ],
      "source": [
        "print(np.array(confusion))"
      ]
    },
    {
      "cell_type": "markdown",
      "metadata": {
        "id": "SzzPDse8Petu"
      },
      "source": [
        "Looking at the matrix we see that T-shirt/top (0) is most likely to be mistaken for shirt (6), Trouser (1) is predicted very well, Pullover (2) is most likely mistaken for shirt (6) or coat (4), dress (3) is predicted pretty well, coat is most likely mistaken pullover or shirt, sandle (5) is predicted very well, shirt is mistaken for pullover T-shirt/top, sneaker (7) is predicted very well, bag (8) is predicted very well, and lastly ankle boot (9) is predicted very well. These results are expected since a shirt and a pullover and a t-shirt look very similar and are sometimes confused for eachother."
      ]
    }
  ],
  "metadata": {
    "accelerator": "GPU",
    "colab": {
      "gpuType": "T4",
      "provenance": []
    },
    "kernelspec": {
      "display_name": "Python 3",
      "name": "python3"
    },
    "language_info": {
      "codemirror_mode": {
        "name": "ipython",
        "version": 3
      },
      "file_extension": ".py",
      "mimetype": "text/x-python",
      "name": "python",
      "nbconvert_exporter": "python",
      "pygments_lexer": "ipython3",
      "version": "3.11.5"
    }
  },
  "nbformat": 4,
  "nbformat_minor": 0
}
